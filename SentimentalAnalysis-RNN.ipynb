{
 "cells": [
  {
   "cell_type": "markdown",
   "metadata": {},
   "source": [
    "# Sentiment Analysis Using RNN"
   ]
  },
  {
   "cell_type": "markdown",
   "metadata": {},
   "source": [
    "### 1. Importing packages on your system"
   ]
  },
  {
   "cell_type": "code",
   "execution_count": 136,
   "metadata": {},
   "outputs": [],
   "source": [
    "# import libraries\n",
    "import pandas as pd\n",
    "import numpy as np\n",
    "import re \n",
    "import matplotlib.pyplot as plt\n",
    "from sklearn.model_selection import train_test_split\n",
    "from sklearn.metrics import confusion_matrix , accuracy_score, classification_report\n",
    "from tensorflow import keras\n",
    "from tensorflow.keras.preprocessing.text import Tokenizer\n",
    "from tensorflow.keras.preprocessing.sequence import pad_sequences\n",
    "from tensorflow.keras.layers import Dense,LSTM , GlobalMaxPooling1D\n",
    "from tensorflow.keras.models import Model\n",
    "from tensorflow.keras.layers import Flatten\n",
    "from tensorflow.keras.layers import  Embedding\n",
    "from tensorflow.keras.models import Sequential\n",
    "import tensorflow as tf\n",
    "import itertools\n",
    "\n",
    "import seaborn as sns\n",
    "sns.set()"
   ]
  },
  {
   "cell_type": "code",
   "execution_count": 137,
   "metadata": {},
   "outputs": [
    {
     "data": {
      "text/plain": [
       "'2.4.1'"
      ]
     },
     "execution_count": 137,
     "metadata": {},
     "output_type": "execute_result"
    }
   ],
   "source": [
    "tf.__version__"
   ]
  },
  {
   "cell_type": "code",
   "execution_count": 138,
   "metadata": {},
   "outputs": [],
   "source": [
    "import warnings\n",
    "warnings.filterwarnings('ignore')"
   ]
  },
  {
   "cell_type": "markdown",
   "metadata": {},
   "source": [
    "### 2. Load data from disk"
   ]
  },
  {
   "cell_type": "code",
   "execution_count": 139,
   "metadata": {},
   "outputs": [],
   "source": [
    "df = pd.read_csv(r\"C:/Users/gi-129785/Desktop/MyPracticeData/Data/IMDB Dataset.csv\")"
   ]
  },
  {
   "cell_type": "code",
   "execution_count": 140,
   "metadata": {},
   "outputs": [
    {
     "data": {
      "text/html": [
       "<div>\n",
       "<style scoped>\n",
       "    .dataframe tbody tr th:only-of-type {\n",
       "        vertical-align: middle;\n",
       "    }\n",
       "\n",
       "    .dataframe tbody tr th {\n",
       "        vertical-align: top;\n",
       "    }\n",
       "\n",
       "    .dataframe thead th {\n",
       "        text-align: right;\n",
       "    }\n",
       "</style>\n",
       "<table border=\"1\" class=\"dataframe\">\n",
       "  <thead>\n",
       "    <tr style=\"text-align: right;\">\n",
       "      <th></th>\n",
       "      <th>review</th>\n",
       "      <th>sentiment</th>\n",
       "    </tr>\n",
       "  </thead>\n",
       "  <tbody>\n",
       "    <tr>\n",
       "      <th>0</th>\n",
       "      <td>One of the other reviewers has mentioned that ...</td>\n",
       "      <td>positive</td>\n",
       "    </tr>\n",
       "    <tr>\n",
       "      <th>1</th>\n",
       "      <td>A wonderful little production. &lt;br /&gt;&lt;br /&gt;The...</td>\n",
       "      <td>positive</td>\n",
       "    </tr>\n",
       "    <tr>\n",
       "      <th>2</th>\n",
       "      <td>I thought this was a wonderful way to spend ti...</td>\n",
       "      <td>positive</td>\n",
       "    </tr>\n",
       "    <tr>\n",
       "      <th>3</th>\n",
       "      <td>Basically there's a family where a little boy ...</td>\n",
       "      <td>negative</td>\n",
       "    </tr>\n",
       "    <tr>\n",
       "      <th>4</th>\n",
       "      <td>Petter Mattei's \"Love in the Time of Money\" is...</td>\n",
       "      <td>positive</td>\n",
       "    </tr>\n",
       "  </tbody>\n",
       "</table>\n",
       "</div>"
      ],
      "text/plain": [
       "                                              review sentiment\n",
       "0  One of the other reviewers has mentioned that ...  positive\n",
       "1  A wonderful little production. <br /><br />The...  positive\n",
       "2  I thought this was a wonderful way to spend ti...  positive\n",
       "3  Basically there's a family where a little boy ...  negative\n",
       "4  Petter Mattei's \"Love in the Time of Money\" is...  positive"
      ]
     },
     "execution_count": 140,
     "metadata": {},
     "output_type": "execute_result"
    }
   ],
   "source": [
    "df.head()"
   ]
  },
  {
   "cell_type": "code",
   "execution_count": 141,
   "metadata": {},
   "outputs": [
    {
     "data": {
      "text/plain": [
       "(50000, 2)"
      ]
     },
     "execution_count": 141,
     "metadata": {},
     "output_type": "execute_result"
    }
   ],
   "source": [
    "df.shape"
   ]
  },
  {
   "cell_type": "code",
   "execution_count": 142,
   "metadata": {},
   "outputs": [],
   "source": [
    "# split the data set into train and test\n",
    "\n",
    "train = df.iloc[:40000]\n",
    "test = df.iloc[40000:]\n",
    "\n",
    "# write to disk \n",
    "train.to_csv(\"C:/Users/gi-129785/Desktop/MyPracticeData/Data/movie_reviews_train.csv\", index=False)\n",
    "test.to_csv(\"C:/Users/gi-129785/Desktop/MyPracticeData/Data/movie_reviews_test.csv\", index=False)"
   ]
  },
  {
   "cell_type": "code",
   "execution_count": 143,
   "metadata": {},
   "outputs": [],
   "source": [
    "# read data\n",
    "df_train = pd.read_csv(\"C:/Users/gi-129785/Desktop/MyPracticeData/Data/movie_reviews_train.csv\")\n",
    "df_test =  pd.read_csv(\"C:/Users/gi-129785/Desktop/MyPracticeData/Data/movie_reviews_test.csv\")"
   ]
  },
  {
   "cell_type": "code",
   "execution_count": 144,
   "metadata": {},
   "outputs": [
    {
     "name": "stdout",
     "output_type": "stream",
     "text": [
      "(40000, 2)\n",
      "(10000, 2)\n"
     ]
    }
   ],
   "source": [
    "# check the shape of the dataframe\n",
    "print(df_train.shape) # this dataset contain 40000 records and 2 columns for training\n",
    "print(df_test.shape) # this dataset contain 10000 records and 2 columns for testing"
   ]
  },
  {
   "cell_type": "code",
   "execution_count": 145,
   "metadata": {},
   "outputs": [
    {
     "data": {
      "text/plain": [
       "Index(['review', 'sentiment'], dtype='object')"
      ]
     },
     "execution_count": 145,
     "metadata": {},
     "output_type": "execute_result"
    }
   ],
   "source": [
    "df_train.columns"
   ]
  },
  {
   "cell_type": "code",
   "execution_count": 146,
   "metadata": {},
   "outputs": [
    {
     "data": {
      "text/plain": [
       "\"One of the other reviewers has mentioned that after watching just 1 Oz episode you'll be hooked. They are right, as this is exactly what happened with me.<br /><br />The first thing that struck me about Oz was its brutality and unflinching scenes of violence, which set in right from the word GO. Trust me, this is not a show for the faint hearted or timid. This show pulls no punches with regards to drugs, sex or violence. Its is hardcore, in the classic use of the word.<br /><br />It is called OZ as that is the nickname given to the Oswald Maximum Security State Penitentary. It focuses mainly on Emerald City, an experimental section of the prison where all the cells have glass fronts and face inwards, so privacy is not high on the agenda. Em City is home to many..Aryans, Muslims, gangstas, Latinos, Christians, Italians, Irish and more....so scuffles, death stares, dodgy dealings and shady agreements are never far away.<br /><br />I would say the main appeal of the show is due to the fact that it goes where other shows wouldn't dare. Forget pretty pictures painted for mainstream audiences, forget charm, forget romance...OZ doesn't mess around. The first episode I ever saw struck me as so nasty it was surreal, I couldn't say I was ready for it, but as I watched more, I developed a taste for Oz, and got accustomed to the high levels of graphic violence. Not just violence, but injustice (crooked guards who'll be sold out for a nickel, inmates who'll kill on order and get away with it, well mannered, middle class inmates being turned into prison bitches due to their lack of street skills or prison experience) Watching Oz, you may become comfortable with what is uncomfortable viewing....thats if you can get in touch with your darker side.\""
      ]
     },
     "execution_count": 146,
     "metadata": {},
     "output_type": "execute_result"
    }
   ],
   "source": [
    "df_train[\"review\"][0]"
   ]
  },
  {
   "cell_type": "code",
   "execution_count": 147,
   "metadata": {},
   "outputs": [
    {
     "data": {
      "text/html": [
       "<div>\n",
       "<style scoped>\n",
       "    .dataframe tbody tr th:only-of-type {\n",
       "        vertical-align: middle;\n",
       "    }\n",
       "\n",
       "    .dataframe tbody tr th {\n",
       "        vertical-align: top;\n",
       "    }\n",
       "\n",
       "    .dataframe thead th {\n",
       "        text-align: right;\n",
       "    }\n",
       "</style>\n",
       "<table border=\"1\" class=\"dataframe\">\n",
       "  <thead>\n",
       "    <tr style=\"text-align: right;\">\n",
       "      <th></th>\n",
       "      <th>review</th>\n",
       "      <th>sentiment</th>\n",
       "    </tr>\n",
       "  </thead>\n",
       "  <tbody>\n",
       "    <tr>\n",
       "      <th>0</th>\n",
       "      <td>One of the other reviewers has mentioned that ...</td>\n",
       "      <td>positive</td>\n",
       "    </tr>\n",
       "    <tr>\n",
       "      <th>1</th>\n",
       "      <td>A wonderful little production. &lt;br /&gt;&lt;br /&gt;The...</td>\n",
       "      <td>positive</td>\n",
       "    </tr>\n",
       "    <tr>\n",
       "      <th>2</th>\n",
       "      <td>I thought this was a wonderful way to spend ti...</td>\n",
       "      <td>positive</td>\n",
       "    </tr>\n",
       "    <tr>\n",
       "      <th>3</th>\n",
       "      <td>Basically there's a family where a little boy ...</td>\n",
       "      <td>negative</td>\n",
       "    </tr>\n",
       "    <tr>\n",
       "      <th>4</th>\n",
       "      <td>Petter Mattei's \"Love in the Time of Money\" is...</td>\n",
       "      <td>positive</td>\n",
       "    </tr>\n",
       "  </tbody>\n",
       "</table>\n",
       "</div>"
      ],
      "text/plain": [
       "                                              review sentiment\n",
       "0  One of the other reviewers has mentioned that ...  positive\n",
       "1  A wonderful little production. <br /><br />The...  positive\n",
       "2  I thought this was a wonderful way to spend ti...  positive\n",
       "3  Basically there's a family where a little boy ...  negative\n",
       "4  Petter Mattei's \"Love in the Time of Money\" is...  positive"
      ]
     },
     "execution_count": 147,
     "metadata": {},
     "output_type": "execute_result"
    }
   ],
   "source": [
    "df_train.head()"
   ]
  },
  {
   "cell_type": "code",
   "execution_count": 148,
   "metadata": {},
   "outputs": [
    {
     "data": {
      "text/html": [
       "<div>\n",
       "<style scoped>\n",
       "    .dataframe tbody tr th:only-of-type {\n",
       "        vertical-align: middle;\n",
       "    }\n",
       "\n",
       "    .dataframe tbody tr th {\n",
       "        vertical-align: top;\n",
       "    }\n",
       "\n",
       "    .dataframe thead th {\n",
       "        text-align: right;\n",
       "    }\n",
       "</style>\n",
       "<table border=\"1\" class=\"dataframe\">\n",
       "  <thead>\n",
       "    <tr style=\"text-align: right;\">\n",
       "      <th></th>\n",
       "      <th>review</th>\n",
       "      <th>sentiment</th>\n",
       "    </tr>\n",
       "  </thead>\n",
       "  <tbody>\n",
       "    <tr>\n",
       "      <th>39995</th>\n",
       "      <td>This was a marvelously funny comedy with a gre...</td>\n",
       "      <td>positive</td>\n",
       "    </tr>\n",
       "    <tr>\n",
       "      <th>39996</th>\n",
       "      <td>There is no plot. There are no central charact...</td>\n",
       "      <td>positive</td>\n",
       "    </tr>\n",
       "    <tr>\n",
       "      <th>39997</th>\n",
       "      <td>This show is awesome! I love all the actors! I...</td>\n",
       "      <td>positive</td>\n",
       "    </tr>\n",
       "    <tr>\n",
       "      <th>39998</th>\n",
       "      <td>The fact that this movie has been entitled to ...</td>\n",
       "      <td>negative</td>\n",
       "    </tr>\n",
       "    <tr>\n",
       "      <th>39999</th>\n",
       "      <td>I have to confess that I am severely disappoin...</td>\n",
       "      <td>negative</td>\n",
       "    </tr>\n",
       "  </tbody>\n",
       "</table>\n",
       "</div>"
      ],
      "text/plain": [
       "                                                  review sentiment\n",
       "39995  This was a marvelously funny comedy with a gre...  positive\n",
       "39996  There is no plot. There are no central charact...  positive\n",
       "39997  This show is awesome! I love all the actors! I...  positive\n",
       "39998  The fact that this movie has been entitled to ...  negative\n",
       "39999  I have to confess that I am severely disappoin...  negative"
      ]
     },
     "execution_count": 148,
     "metadata": {},
     "output_type": "execute_result"
    }
   ],
   "source": [
    "df_train.tail()"
   ]
  },
  {
   "cell_type": "code",
   "execution_count": 149,
   "metadata": {},
   "outputs": [
    {
     "data": {
      "text/html": [
       "<div>\n",
       "<style scoped>\n",
       "    .dataframe tbody tr th:only-of-type {\n",
       "        vertical-align: middle;\n",
       "    }\n",
       "\n",
       "    .dataframe tbody tr th {\n",
       "        vertical-align: top;\n",
       "    }\n",
       "\n",
       "    .dataframe thead th {\n",
       "        text-align: right;\n",
       "    }\n",
       "</style>\n",
       "<table border=\"1\" class=\"dataframe\">\n",
       "  <thead>\n",
       "    <tr style=\"text-align: right;\">\n",
       "      <th></th>\n",
       "      <th>review</th>\n",
       "      <th>sentiment</th>\n",
       "    </tr>\n",
       "  </thead>\n",
       "  <tbody>\n",
       "    <tr>\n",
       "      <th>0</th>\n",
       "      <td>First off I want to say that I lean liberal on...</td>\n",
       "      <td>negative</td>\n",
       "    </tr>\n",
       "    <tr>\n",
       "      <th>1</th>\n",
       "      <td>I was excited to see a sitcom that would hopef...</td>\n",
       "      <td>negative</td>\n",
       "    </tr>\n",
       "    <tr>\n",
       "      <th>2</th>\n",
       "      <td>When you look at the cover and read stuff abou...</td>\n",
       "      <td>negative</td>\n",
       "    </tr>\n",
       "    <tr>\n",
       "      <th>3</th>\n",
       "      <td>Like many others, I counted on the appearance ...</td>\n",
       "      <td>negative</td>\n",
       "    </tr>\n",
       "    <tr>\n",
       "      <th>4</th>\n",
       "      <td>This movie was on t.v the other day, and I did...</td>\n",
       "      <td>negative</td>\n",
       "    </tr>\n",
       "  </tbody>\n",
       "</table>\n",
       "</div>"
      ],
      "text/plain": [
       "                                              review sentiment\n",
       "0  First off I want to say that I lean liberal on...  negative\n",
       "1  I was excited to see a sitcom that would hopef...  negative\n",
       "2  When you look at the cover and read stuff abou...  negative\n",
       "3  Like many others, I counted on the appearance ...  negative\n",
       "4  This movie was on t.v the other day, and I did...  negative"
      ]
     },
     "execution_count": 149,
     "metadata": {},
     "output_type": "execute_result"
    }
   ],
   "source": [
    "df_test.head()"
   ]
  },
  {
   "cell_type": "code",
   "execution_count": 150,
   "metadata": {},
   "outputs": [
    {
     "data": {
      "text/html": [
       "<div>\n",
       "<style scoped>\n",
       "    .dataframe tbody tr th:only-of-type {\n",
       "        vertical-align: middle;\n",
       "    }\n",
       "\n",
       "    .dataframe tbody tr th {\n",
       "        vertical-align: top;\n",
       "    }\n",
       "\n",
       "    .dataframe thead th {\n",
       "        text-align: right;\n",
       "    }\n",
       "</style>\n",
       "<table border=\"1\" class=\"dataframe\">\n",
       "  <thead>\n",
       "    <tr style=\"text-align: right;\">\n",
       "      <th></th>\n",
       "      <th>review</th>\n",
       "      <th>sentiment</th>\n",
       "    </tr>\n",
       "  </thead>\n",
       "  <tbody>\n",
       "    <tr>\n",
       "      <th>9995</th>\n",
       "      <td>I thought this movie did a down right good job...</td>\n",
       "      <td>positive</td>\n",
       "    </tr>\n",
       "    <tr>\n",
       "      <th>9996</th>\n",
       "      <td>Bad plot, bad dialogue, bad acting, idiotic di...</td>\n",
       "      <td>negative</td>\n",
       "    </tr>\n",
       "    <tr>\n",
       "      <th>9997</th>\n",
       "      <td>I am a Catholic taught in parochial elementary...</td>\n",
       "      <td>negative</td>\n",
       "    </tr>\n",
       "    <tr>\n",
       "      <th>9998</th>\n",
       "      <td>I'm going to have to disagree with the previou...</td>\n",
       "      <td>negative</td>\n",
       "    </tr>\n",
       "    <tr>\n",
       "      <th>9999</th>\n",
       "      <td>No one expects the Star Trek movies to be high...</td>\n",
       "      <td>negative</td>\n",
       "    </tr>\n",
       "  </tbody>\n",
       "</table>\n",
       "</div>"
      ],
      "text/plain": [
       "                                                 review sentiment\n",
       "9995  I thought this movie did a down right good job...  positive\n",
       "9996  Bad plot, bad dialogue, bad acting, idiotic di...  negative\n",
       "9997  I am a Catholic taught in parochial elementary...  negative\n",
       "9998  I'm going to have to disagree with the previou...  negative\n",
       "9999  No one expects the Star Trek movies to be high...  negative"
      ]
     },
     "execution_count": 150,
     "metadata": {},
     "output_type": "execute_result"
    }
   ],
   "source": [
    "df_test.tail()"
   ]
  },
  {
   "cell_type": "markdown",
   "metadata": {},
   "source": [
    "### 3. Data Preprocessing and Visualization"
   ]
  },
  {
   "cell_type": "code",
   "execution_count": 151,
   "metadata": {},
   "outputs": [
    {
     "data": {
      "text/plain": [
       "<AxesSubplot:xlabel='sentiment', ylabel='count'>"
      ]
     },
     "execution_count": 151,
     "metadata": {},
     "output_type": "execute_result"
    },
    {
     "data": {
      "image/png": "[encoded data removed]",
      "text/plain": [
       "<Figure size 432x288 with 1 Axes>"
      ]
     },
     "metadata": {},
     "output_type": "display_data"
    }
   ],
   "source": [
    "import seaborn as sns\n",
    "sns.countplot(df_train[\"sentiment\"])"
   ]
  },
  {
   "cell_type": "code",
   "execution_count": 152,
   "metadata": {},
   "outputs": [
    {
     "name": "stdout",
     "output_type": "stream",
     "text": [
      "This train_dataset contain 49.98% Negative Sentiment tweet\n",
      "This train_dataset contain 50.02% Positive Sentiment tweet\n"
     ]
    }
   ],
   "source": [
    "Neg = round(df_train[\"sentiment\"].value_counts()[1]/len(df_train) * 100, 2)\n",
    "Pos = round(df_train[\"sentiment\"].value_counts()[0]/len(df_train) * 100, 2)\n",
    "\n",
    "\n",
    "print('This train_dataset contain {}% Negative Sentiment tweet'.format(Neg))\n",
    "print('This train_dataset contain {}% Positive Sentiment tweet'.format(Pos))"
   ]
  },
  {
   "cell_type": "code",
   "execution_count": 153,
   "metadata": {},
   "outputs": [
    {
     "data": {
      "text/html": [
       "<div>\n",
       "<style scoped>\n",
       "    .dataframe tbody tr th:only-of-type {\n",
       "        vertical-align: middle;\n",
       "    }\n",
       "\n",
       "    .dataframe tbody tr th {\n",
       "        vertical-align: top;\n",
       "    }\n",
       "\n",
       "    .dataframe thead th {\n",
       "        text-align: right;\n",
       "    }\n",
       "</style>\n",
       "<table border=\"1\" class=\"dataframe\">\n",
       "  <thead>\n",
       "    <tr style=\"text-align: right;\">\n",
       "      <th></th>\n",
       "      <th>review</th>\n",
       "      <th>sentiment</th>\n",
       "      <th>label</th>\n",
       "    </tr>\n",
       "  </thead>\n",
       "  <tbody>\n",
       "    <tr>\n",
       "      <th>0</th>\n",
       "      <td>One of the other reviewers has mentioned that ...</td>\n",
       "      <td>positive</td>\n",
       "      <td>1</td>\n",
       "    </tr>\n",
       "    <tr>\n",
       "      <th>1</th>\n",
       "      <td>A wonderful little production. &lt;br /&gt;&lt;br /&gt;The...</td>\n",
       "      <td>positive</td>\n",
       "      <td>1</td>\n",
       "    </tr>\n",
       "    <tr>\n",
       "      <th>2</th>\n",
       "      <td>I thought this was a wonderful way to spend ti...</td>\n",
       "      <td>positive</td>\n",
       "      <td>1</td>\n",
       "    </tr>\n",
       "    <tr>\n",
       "      <th>3</th>\n",
       "      <td>Basically there's a family where a little boy ...</td>\n",
       "      <td>negative</td>\n",
       "      <td>0</td>\n",
       "    </tr>\n",
       "    <tr>\n",
       "      <th>4</th>\n",
       "      <td>Petter Mattei's \"Love in the Time of Money\" is...</td>\n",
       "      <td>positive</td>\n",
       "      <td>1</td>\n",
       "    </tr>\n",
       "  </tbody>\n",
       "</table>\n",
       "</div>"
      ],
      "text/plain": [
       "                                              review sentiment  label\n",
       "0  One of the other reviewers has mentioned that ...  positive      1\n",
       "1  A wonderful little production. <br /><br />The...  positive      1\n",
       "2  I thought this was a wonderful way to spend ti...  positive      1\n",
       "3  Basically there's a family where a little boy ...  negative      0\n",
       "4  Petter Mattei's \"Love in the Time of Money\" is...  positive      1"
      ]
     },
     "execution_count": 153,
     "metadata": {},
     "output_type": "execute_result"
    }
   ],
   "source": [
    "# create a label columns using manual label encoding\n",
    "lab = {\"positive\":1,\"negative\":0}\n",
    "df_train['label']= df_train[\"sentiment\"].map(lab)\n",
    "df_train.head()"
   ]
  },
  {
   "cell_type": "code",
   "execution_count": 154,
   "metadata": {},
   "outputs": [],
   "source": [
    "def clean_review(text): \n",
    "    ''' \n",
    "    Utility function to clean review text by removing links, special characters \n",
    "    using simple regex statements. \n",
    "    '''\n",
    "    return ' '.join(re.sub(\"(@[A-Za-z0-9]+)|([^0-9A-Za-z \\t])|(\\w+:\\/\\/\\S+)\", \" \", text).split()).lower()\n",
    "\n",
    "# clean tweet \n",
    "df_train[\"clean_review\"] = df_train[\"review\"].apply(lambda text : clean_review(text))"
   ]
  },
  {
   "cell_type": "code",
   "execution_count": 155,
   "metadata": {},
   "outputs": [
    {
     "data": {
      "text/html": [
       "<div>\n",
       "<style scoped>\n",
       "    .dataframe tbody tr th:only-of-type {\n",
       "        vertical-align: middle;\n",
       "    }\n",
       "\n",
       "    .dataframe tbody tr th {\n",
       "        vertical-align: top;\n",
       "    }\n",
       "\n",
       "    .dataframe thead th {\n",
       "        text-align: right;\n",
       "    }\n",
       "</style>\n",
       "<table border=\"1\" class=\"dataframe\">\n",
       "  <thead>\n",
       "    <tr style=\"text-align: right;\">\n",
       "      <th></th>\n",
       "      <th>review</th>\n",
       "      <th>sentiment</th>\n",
       "      <th>label</th>\n",
       "      <th>clean_review</th>\n",
       "    </tr>\n",
       "  </thead>\n",
       "  <tbody>\n",
       "    <tr>\n",
       "      <th>0</th>\n",
       "      <td>One of the other reviewers has mentioned that ...</td>\n",
       "      <td>positive</td>\n",
       "      <td>1</td>\n",
       "      <td>one of the other reviewers has mentioned that ...</td>\n",
       "    </tr>\n",
       "    <tr>\n",
       "      <th>1</th>\n",
       "      <td>A wonderful little production. &lt;br /&gt;&lt;br /&gt;The...</td>\n",
       "      <td>positive</td>\n",
       "      <td>1</td>\n",
       "      <td>a wonderful little production br br the filmin...</td>\n",
       "    </tr>\n",
       "    <tr>\n",
       "      <th>2</th>\n",
       "      <td>I thought this was a wonderful way to spend ti...</td>\n",
       "      <td>positive</td>\n",
       "      <td>1</td>\n",
       "      <td>i thought this was a wonderful way to spend ti...</td>\n",
       "    </tr>\n",
       "    <tr>\n",
       "      <th>3</th>\n",
       "      <td>Basically there's a family where a little boy ...</td>\n",
       "      <td>negative</td>\n",
       "      <td>0</td>\n",
       "      <td>basically there s a family where a little boy ...</td>\n",
       "    </tr>\n",
       "    <tr>\n",
       "      <th>4</th>\n",
       "      <td>Petter Mattei's \"Love in the Time of Money\" is...</td>\n",
       "      <td>positive</td>\n",
       "      <td>1</td>\n",
       "      <td>petter mattei s love in the time of money is a...</td>\n",
       "    </tr>\n",
       "  </tbody>\n",
       "</table>\n",
       "</div>"
      ],
      "text/plain": [
       "                                              review sentiment  label  \\\n",
       "0  One of the other reviewers has mentioned that ...  positive      1   \n",
       "1  A wonderful little production. <br /><br />The...  positive      1   \n",
       "2  I thought this was a wonderful way to spend ti...  positive      1   \n",
       "3  Basically there's a family where a little boy ...  negative      0   \n",
       "4  Petter Mattei's \"Love in the Time of Money\" is...  positive      1   \n",
       "\n",
       "                                        clean_review  \n",
       "0  one of the other reviewers has mentioned that ...  \n",
       "1  a wonderful little production br br the filmin...  \n",
       "2  i thought this was a wonderful way to spend ti...  \n",
       "3  basically there s a family where a little boy ...  \n",
       "4  petter mattei s love in the time of money is a...  "
      ]
     },
     "execution_count": 155,
     "metadata": {},
     "output_type": "execute_result"
    }
   ],
   "source": [
    "df_train.head()"
   ]
  },
  {
   "cell_type": "code",
   "execution_count": 156,
   "metadata": {},
   "outputs": [
    {
     "data": {
      "text/plain": [
       "review          0\n",
       "sentiment       0\n",
       "label           0\n",
       "clean_review    0\n",
       "dtype: int64"
      ]
     },
     "execution_count": 156,
     "metadata": {},
     "output_type": "execute_result"
    }
   ],
   "source": [
    "# check for missing value \n",
    "df_train.isnull().sum()"
   ]
  },
  {
   "cell_type": "code",
   "execution_count": 157,
   "metadata": {},
   "outputs": [],
   "source": [
    "# drop missing rows\n",
    "# df_train = df_train.dropna()\n",
    "# df_train.isnull().sum()"
   ]
  },
  {
   "cell_type": "code",
   "execution_count": 158,
   "metadata": {},
   "outputs": [],
   "source": [
    "# convert training dataset into tensorflow dataset format\n",
    "\n",
    "train_dataset = (\n",
    "    tf.data.Dataset.from_tensor_slices(\n",
    "        (\n",
    "            tf.cast(df_train[\"clean_review\"].values, tf.string),\n",
    "            tf.cast(df_train['label'].values, tf.int32)\n",
    "        )\n",
    "    )\n",
    ")\n"
   ]
  },
  {
   "cell_type": "code",
   "execution_count": 159,
   "metadata": {},
   "outputs": [
    {
     "data": {
      "text/plain": [
       "<TensorSliceDataset shapes: ((), ()), types: (tf.string, tf.int32)>"
      ]
     },
     "execution_count": 159,
     "metadata": {},
     "output_type": "execute_result"
    }
   ],
   "source": [
    "train_dataset"
   ]
  },
  {
   "cell_type": "code",
   "execution_count": 160,
   "metadata": {},
   "outputs": [
    {
     "name": "stdout",
     "output_type": "stream",
     "text": [
      "----------------------------------------------------------------------------------------------------\n",
      "example :  b'one of the other reviewers has mentioned that after watching just 1 oz episode you ll be hooked they are right as this is exactly what happened with me br br the first thing that struck me about oz was its brutality and unflinching scenes of violence which set in right from the word go trust me this is not a show for the faint hearted or timid this show pulls no punches with regards to drugs sex or violence its is hardcore in the classic use of the word br br it is called oz as that is the nickname given to the oswald maximum security state penitentary it focuses mainly on emerald city an experimental section of the prison where all the cells have glass fronts and face inwards so privacy is not high on the agenda em city is home to many aryans muslims gangstas latinos christians italians irish and more so scuffles death stares dodgy dealings and shady agreements are never far away br br i would say the main appeal of the show is due to the fact that it goes where other shows wouldn t dare forget pretty pictures painted for mainstream audiences forget charm forget romance oz doesn t mess around the first episode i ever saw struck me as so nasty it was surreal i couldn t say i was ready for it but as i watched more i developed a taste for oz and got accustomed to the high levels of graphic violence not just violence but injustice crooked guards who ll be sold out for a nickel inmates who ll kill on order and get away with it well mannered middle class inmates being turned into prison bitches due to their lack of street skills or prison experience watching oz you may become comfortable with what is uncomfortable viewing thats if you can get in touch with your darker side'\n",
      "\n",
      "label:  1\n",
      "----------------------------------------------------------------------------------------------------\n",
      "example :  b'a wonderful little production br br the filming technique is very unassuming very old time bbc fashion and gives a comforting and sometimes discomforting sense of realism to the entire piece br br the actors are extremely well chosen michael sheen not only has got all the polari but he has all the voices down pat too you can truly see the seamless editing guided by the references to williams diary entries not only is it well worth the watching but it is a terrificly written and performed piece a masterful production about one of the great master s of comedy and his life br br the realism really comes home with the little things the fantasy of the guard which rather than use the traditional dream techniques remains solid then disappears it plays on our knowledge and our senses particularly with the scenes concerning orton and halliwell and the sets particularly of their flat with halliwell s murals decorating every surface are terribly well done'\n",
      "\n",
      "label:  1\n",
      "----------------------------------------------------------------------------------------------------\n",
      "example :  b'i thought this was a wonderful way to spend time on a too hot summer weekend sitting in the air conditioned theater and watching a light hearted comedy the plot is simplistic but the dialogue is witty and the characters are likable even the well bread suspected serial killer while some may be disappointed when they realize this is not match point 2 risk addiction i thought it was proof that woody allen is still fully in control of the style many of us have grown to love br br this was the most i d laughed at one of woody s comedies in years dare i say a decade while i ve never been impressed with scarlet johanson in this she managed to tone down her sexy image and jumped right into a average but spirited young woman br br this may not be the crown jewel of his career but it was wittier than devil wears prada and more interesting than superman a great comedy to go see with friends'\n",
      "\n",
      "label:  1\n",
      "----------------------------------------------------------------------------------------------------\n",
      "example :  b'basically there s a family where a little boy jake thinks there s a zombie in his closet his parents are fighting all the time br br this movie is slower than a soap opera and suddenly jake decides to become rambo and kill the zombie br br ok first of all when you re going to make a film you must decide if its a thriller or a drama as a drama the movie is watchable parents are divorcing arguing like in real life and then we have jake with his closet which totally ruins all the film i expected to see a boogeyman similar movie and instead i watched a drama with some meaningless thriller spots br br 3 out of 10 just for the well playing parents descent dialogs as for the shots with jake just ignore them'\n",
      "\n",
      "label:  0\n",
      "----------------------------------------------------------------------------------------------------\n",
      "example :  b'petter mattei s love in the time of money is a visually stunning film to watch mr mattei offers us a vivid portrait about human relations this is a movie that seems to be telling us what money power and success do to people in the different situations we encounter br br this being a variation on the arthur schnitzler s play about the same theme the director transfers the action to the present time new york where all these different characters meet and connect each one is connected in one way or another to the next person but no one seems to know the previous point of contact stylishly the film has a sophisticated luxurious look we are taken to see how these people live and the world they live in their own habitat br br the only thing one gets out of all these souls in the picture is the different stages of loneliness each one inhabits a big city is not exactly the best place in which human relations find sincere fulfillment as one discerns is the case with most of the people we encounter br br the acting is good under mr mattei s direction steve buscemi rosario dawson carol kane michael imperioli adrian grenier and the rest of the talented cast make these characters come alive br br we wish mr mattei good luck and await anxiously for his next work'\n",
      "\n",
      "label:  1\n"
     ]
    }
   ],
   "source": [
    "# print first five record from train dataset\n",
    "for example, label in train_dataset.take(5):\n",
    "    print(\"--\"*50)\n",
    "    print(\"example : \", example.numpy())\n",
    "    print()\n",
    "    print(\"label: \", label.numpy())"
   ]
  },
  {
   "cell_type": "code",
   "execution_count": 161,
   "metadata": {},
   "outputs": [],
   "source": [
    "BUFFER_SIZE = 10000\n",
    "BATCH_SIZE = 64"
   ]
  },
  {
   "cell_type": "code",
   "execution_count": 162,
   "metadata": {},
   "outputs": [],
   "source": [
    "# create batches of the dataset\n",
    "\n",
    "train_dataset = train_dataset.shuffle(BUFFER_SIZE).batch(BATCH_SIZE).prefetch(tf.data.AUTOTUNE)\n",
    "\n",
    "# now every batch will have 64 samples"
   ]
  },
  {
   "cell_type": "code",
   "execution_count": 163,
   "metadata": {},
   "outputs": [
    {
     "name": "stdout",
     "output_type": "stream",
     "text": [
      "example :  [b'the original assault on precinct 13 is gritty witty and perhaps most importantly short this remake is mercilessly padded out and talky worse yet the african american hero of the first movie is here replaced with handsome white boy ethan hawke which makes this assault less progressive than the 1970s one god how i miss john carpenter and his improbable plot line and his weird sense of humor i even miss his b list actors who are leagues better than hawke and company br br i can t say i care for the new villains in this version they stretch what little credibility the story ever had to the limit the female characters are useless the criminals are all generic hoods and gabriel byrne gives another of his bored performances the music s all wrong too it s bland action stuff that actually detracts from the tension simply awful'\n",
      " b'i saw this movie on late night tv out of buffalo about 30 years ago and i m dying to see it again one more time before i well you know the interaction between the main characters after the tiger eli wallach captures his prey anne jackson in a botched kidnapping attempt is absolutely hilarious charles nelson reilly s portrayal of a neurotic university dean or department head is priceless how many films can you name which are able to illuminate humanity s struggle for meaning and fulfillment by making you laugh from beginning to end this film reminds us that we are all in that same struggle regardless of class race sex or religion and who can forget the scene of the suburban homeowner on his hands and knees attacking those few tiny weeds that have dared to appear overnight on his perfectly manicure lawn'\n",
      " b'the focus of the key relationship in a young man s life that of his relationship with his father was excellently portrayed in this movie the greatest game ever played the movie captured the essence of how important it is for a father to validate his son and let him know that he has what it takes to follow his dream br br it didn t matter that economic and social class mores presented obstacles to be overcome by both father and son it also didn t matter that others were acclaiming the son in exuberant celebration what mattered the most was that he saw his father s hand and then his face of approval the real life challenge for both father and son had been met br br considering that in real life the hero of the story kept his amateur status and became a businessman pretty much verifies that all that went before the match was the training ground for a valid father and son relationship'\n",
      " b'the man who directed the third man also directed the who will buy sequence in oliver now that is talent br br i raise my hat to carol reed br br i know there are second units involved but still br br and he had to deal with orson welles and oliver reed br br i suppose quality will out br br it does show in the final scene with nancy avoiding spoiler everyone has to see oliver for the first time sometime how many lines do i need to type br br encouraging people to type too much is not to be encouraged br br i hope this counts as the 10th line'\n",
      " b'i saw this film at the toronto international film festival not as salacious as it sounds this is a three part documentary each episode is 50 minutes featuring slovenian superstar philosopher psychoanalyst slavoj zizek zizek takes us on a journey through many classic films exploring themes of sexuality fantasy morality and mortality it was directed by sophie fiennes of the multi talented fiennes clan she s sister to actors ralph and joseph br br i enjoyed this quite a bit although i think it will be even more enjoyable on dvd since there is such a stew of ideas to be digested freudian and lacanian analysis can be pretty heavy going and seeing the whole series all at once became a bit disorienting by the end of two and a half hours it didn t help that an ill advised coffee and possession of a bladder led me to some discomfort for the last hour or so br br my only real issue with this is that zizek picked films that were quite obviously filled with freudian themes he spends quite a bit of time on the films of hitchcock and david lynch not exactly masters of subtlety i would have liked to see him try to support his theories by using a wider range of films although that s really just me saying i d like to see part four and five and six br br zizek is very funny and part of the humour was watching him present what amounted to a lecture while inserting himself into the actual scenes from some of the films he s discussing so for instance we see him in a motorboat on his way to bodega bay from hitchcock s the birds or sitting in the basement of the bates motel from psycho which is not to say that his theories are not provocative even when i found myself disagreeing with him it definitely made me think a little more deeply about the films which is exactly what he s trying to accomplish'\n",
      " b'is nothing else on tv are you really bored well then watch phat beach however don t rent it and definitely do not buy it that would be a big mistake br br i watched this on tv and found myself laughing at certain points i did not laugh long and i did not laugh hard however there were subtle jokes and comments i laughed at if you are looking for an extremely funny hood movie then watch friday if you are looking for a powerful emotional movie something that this movie tries at kind of watch something like hoop dreams or jason s lyric if you are lookin for some good black booty go watch a dominique simone porn flick because the nudity in this movie is nearly non existent however if you have nothing better to do and this is on cable go ahead and watch it you will be slightly amused br br 3 out of 10'\n",
      " b'this one is a cut above the usual softcore t a with the spirit of a dead actress returning to claim the film role she believes is rightfully hers and using the body of an aspiring young actress to do so br br as always the gorgeously sexy amber newman the is main attraction her sensuous presence overshadows the mildly attractive shauna o brien br br plot 1 2 out of br br sex nudity out of'\n",
      " b'i d like to think myself as a fairly open minded guy and it takes a lot for me to dislike a movie but this one is without a doubt one of the suckiest crappiest movie i ve ever seen br br i have no idea what s wrong with the people who gave it such a good rating here imdb is usually pretty reliable when it comes to ratings the only thing i can imagine is that people must ve voted during one or more conditions br br 1 while being shitfaced stoned out of their minds 2 they ve received hard cash for the votes 3 under gunpoint br br i can t believe i wasted a good 1 h 45 min of my life for this pathetic excuse for a movie'\n",
      " b'so totally unique and entertaining another great canadian invention a regular joe dan and a bunch of misfit delinquents aka puppets all share residence at a half way house its dan s job to keep an eye on four menaces to society and help them to rehabilitate bill the homicidal dummy rocko the cigarette smoking dog buttons the nympho teddy bear and cuddles the comfort doll the five of them find themselves in all sorts of odd predicaments despite their homicidal and often overtly perverse sexual tendencies it s hard not to find them lovable br br i give this show a 10 10 simply because it provides good entertainment without needing a huge budget and exudes a canadian flair that makes me proud'\n",
      " b'saw this late one night on cable at the time i didn t know that the girl billed as shannon wilsey was actually porn star savannah but she was so beautiful and got naked so often thank god that i actually sat through this brain rotting drivel i like cheesy flicks as much as the next guy more than the next guy actually but this was way beyond cheesy and more into rancid the truly annoying overacting by the mad scientist and the director s writers and special effects people s virtually total incompetence detracts from the gratuitous nudity that is the movie s only saving grace savannah before she turned into the plasticized barbie doll she became as a porn queen is really interesting to watch she s drop dead gorgeous bursts into uncontrollable giggling at times glances off camera and laughs and just generally seems to be having a really good time which is more than can be said for the audience for even though savannah and her colleagues spend a fair amount of this picture naked it still can t hide the fact that this is an incredibly stupid badly made and annoying movie if you know someone who has it on video or if it comes on cable some night check it out but don t waste your money on a rental'\n",
      " b'i love how everyone treats this show like it was the next great american sitcom i watched five episodes of this abomination and the only person that came close to an actual teacher was the old guy that sort of loved and hated his job the rest of them were just pretty people trying to read the lines written by people who never actually went inside of a real classroom i loved how every episode consisted of the two idiots one who got laid and the other who didn t getting into some form of zany trouble that indirectly involved their students the british girl who thought she found an likable quality in the main idiot but in the end was somehow shocked that he turned out to be a jackass the hot chick that was there for the particular purpose of being hot and the principal and her lackey that served to somehow move the almost non existent plot forward i loved how almost all the teachers on this show were very young but i ask you to think back to your high school days and remember the teachers that you had did they look like that or did you go to the high school that had middle aged people teaching in it that is the high school that everyone else went to the show lacked any form of research into what goes on in schools in public schools principals do not have the power to higher and fire teachers the school board does but in every episode that i watched the principal made threats to fire her teachers think back to your history class or think of any history class did you ever see an incredibly hot british chick teach an american history class no did you ever see a teacher s lounge that is so huge that you could actually play basketball in no br br teachers could have been a great show had it actually of based itself in some form of reality what makes teaching funny is the stories that you get from interaction with students and the teachers find it funny because they deal with the students day in and day out the overemphasis on their lives outside of teaching just made it another four camera sitcom that had unrealistic people in an unrealistic environment saying unrealistic lines and i m sorry i just didn t buy it the show could have modeled itself after other currently successful sitcoms and used a single camera format and it should have centered more around the teacher s relationships with their students and not with each other br br it gets a star for trying and a star for the hot chick she was really hot br br in the end it was a failed sitcom that will go down in history as a hacks attempt to understand a profession i only hope that if they make another sitcom based on teaching that they learn from their mistakes so that a monstrosity such as this never touches the television screen'\n",
      " b'of all the kids movies i have seen over the years this was probably the worst i took four kids aged from 7 to 11 and none of them liked it br br the script seemed to be based on a willy wonka style story but it just didn t have anything to it br br if you are considering seeing this movie dont waste your time it is bad br br they are making a sequel so it may be worth watching to see if they can even make a worse movie but i don t think it is possible'\n",
      " b'saturday night live national lampoon and sctv alumnus are all together in a sometimes funny sketch film br br however it is very interesting to watch now at the start of 2005 twenty years after this movie is supposed to take place look at how many of their gags have become absolutely true there is a mock movie trailer that probably wasn t even clever at the time for something called the pregnant man which came true with arnold schwarzenegger s dumb movie junior there is a commercial spoof that probably wasn t even clever at the time for something featuring sammy davis jr and jackie onasis called celebrity wrestling which has now come true with a popular show called celebrity boxing there is a mock movie trailer that probably wasn t even clever at the time that features john candy in a movie about a severed head watch this trailer and look how similar it s shots and plot are to frank hellenlotter s basket case and finally there is an ad for a late late show documentary about a dead dream the only two left the name of the documentary is the last hippies lol br br four prophecies come true'\n",
      " b'by strange coincidence i ve started to watch this move straight after brice de nice and the good thing was that not many movies could be worst than brice de nice so i was really looking forward for something better which would make me forget this horrible flop br br unfortunately oss 117 again left me disappointed i don t know maybe it s just problem with translations but since diner de cons i haven t seen any french comedy that i would call really good even when i look at the reviews on imdb only people from france are giving the oss 117 high notes br br for me this movie didn t really work in some parts is as funny as real bond movies in others jokes were a little bit too predictable or too corny'\n",
      " b'i ve never seen a movie get a worse release then this and that s a shame as this is the funniest film of the year you would think an ad with the line from the director of office space would be enough to warrant a big release but there are no ads no posters no website i doubt the stars even knew it came out this weekend what is 20th century fox thinking mike judge s sci fi comedy is set in 2505 but it could come true in about 10 years if things continue as they are luke wilson and maya rudolph get frozen in a top secret army experiment and wake up in a future full of consumer zombie inbred retards the film reminds me of woody allen s sleeper robocop planet of the apes blade runner and network and the late great futurama try to see it before fox burns all the prints'\n",
      " b'this film had such promise what a great idea an underdog paintball team struggling for recognition and personal glory only to lose it s speed due to bad dialoge poor editing and a half written story the characters in the beginning were interesting only to lose steam half way through to become one dimensional people sputtering out tired one liners br br maybe if they spent some more time on the story and dialoge it would have been a great movie instead of a almost afterthought effort'\n",
      " b'this is not great cinema the film is cliche ridden and in many places it is a copy of the original carrie the parallels with the original film are striking but with an added improbability about the telekenetic powers being congenital br br i can t say that i disliked the film because it at least passed a couple of hours but these were passed as one would read an undemanding book on a long train journey that book would not be great literature but would absorb one for a while and be forgotten soon afterwards in that it would blend in with the numerous other cliche ridden books likewise the film was okay whilst it lasted but is perhaps forgettable at least i think it is i cant remember much about it now'\n",
      " b'this stalk and slash turkey manages to bring nothing new to an increasingly stale genre a masked killer stalks young pert girls and slaughters them in a variety of gruesome ways none of which are particularly inventive br br it s not scary it s not clever and it s not funny so what was the point of it'\n",
      " b'ok i have seen hershall gordon lewis movies before but this one really takes the cake its really gory and gross not to mention disgusting the way the strippers are done in i m talking bad acting that makes plan 9 from outer space look like hamlet the only saving grace is the late great henny youngman as the strip club owner yeah take my wife please the stripteasers are real sexy for 1972 i believe they used this same plot again in the roger corman movie stripped to kill in 1987 i did enjoy the earlier h g lewis flick 100 maniacs which was a mini masterpiece of sorts but bad acting no awards here but be aware this is a splatter movie that paved the way for friday the 13th and saw in one disturbing scene a half naked stripper has her butt spanked with a meat tenderizer ugh morbid stuff here h g lewis strikes again 2 out of 10'\n",
      " b'i must admit when i first began watching this film i had no clue what was going on so the beginning was a bit confusing for me however that did not diminish my enjoyment of the movie the characters reveal themselves to be more complex than they may first appear and that is what makes this a memorable film at first i heard this was a real hollywood movie although it obviously lacks the stereotypical guns and fists element the convincing performances of talented actors such as martin sheen and sam neill more than make up for it i d rather see a film with more substance than shooting any day'\n",
      " b'john leguizemo a wonderful comic actor is a new york latino able to get inside a myriad of characters both male and female to show the bizarre foibles of an ethnic group trying to cope in an alien culture he is not however italian he doesn t look think or behave italian especially sicilian or calabrese immigrant groups who live in bensonhurst or bayridge brooklyn every scene in which he interacts with his gumbas rings false as though he d wandered in from a college production of west side story while the other guys were doing a low rent mean streets that s only one problem with this ill conceived mean spirited flick spike blew this one big time btw cbgbomfug means country bluegrass blues and other music for uplifting gourmets or possibly gourmands ask hilly crystal who founded the club br br'\n",
      " b'1 aliens resemble plush toys and hand puppets while having arms that don t function br br 2 aliens mastered intergalactic space travel but they don t know how to push an unlocked vault door open yet can push open a door being held shut by five people br br 3 old security guards know how to get a hold of c4 and are just waiting for the right time to use it say when they are suddenly fired for no explainable reason br br 4 apparently us army boot camp in the 80 s involved several sessions of garden tool combat including the pirouette spin of death br br 5 to impress your prudish girl friend you have to save the world err neighborhood from aliens br br 6 all women are sluts either openly or secretly br br 7 scummy night clubs look like bad diners br br 8 scummy waitresses double as dancers for the fontanelles how did they get talked into this who can only do bad 60 s dance moves br br 9 army privates secretly dream of being rambo br br 10 grenades apparently have a setting for flash bang br br 11 being burned alive apparently only leaves one with minor burns on their arms br br 12 us army staff sargeants apparently happen to always be in the area and do nothing about aliens in the area br br 13 aliens apparently always go home which means back to the vault they were un locked in br br 14 aliens are attracted to bright lights which apparently means in the los angeles area one would assume the protagonist s house is the most brightly lit thing in the area br br 15 showing 16 parking scenes in a movie makes the audience clamor for more br br 16 vans from the 80 s apparently have horrible suspension systems br br 17 comedy is supposed to happen in this film br br 18 horror is supposed to happen in this film br br 19 spoofs and homages are supposed to happen in this film br br 20 this film cures insomnia br br 21 apparently garden tools make electronic keyboard noises whenever they are used not just in fights tell me i m not the only one who noticed this br br the simply truth is this film just came out wrong period there isn t much meat on the bone nor does it do anything really well even average it s just bad however i ve seen far worse and the rake fight scene is pure comedy gold intentional or otherwise br br 2 10 jaws 4 was worse then this at least the film never took itself seriously'\n",
      " b'i missed it at the cinema and have rented it on dvd if you get the chance i would recommend it as it s better than nearly everything i ve seen at the cinema or on dvd this year that isn t to say it s one of the best films ever or anything it s just i ve seen a lot of rubbish br br can t really add to what s already been said except 8 10'\n",
      " b'i watched this movie a couple of days ago in a small independent cinema in paris it was my last evening in the french capital and the best good bye i could have chosen these twenty episodes made me relive the impressions i had collected in paris in a heart warming manner without drifting off into kitsch or sentimental schmaltz each episode is full of surprise strong emotions and suggestive pictures and each short film is directed according to the rules of a good short story to me this kind of movie demands a lot more talent and qualities of a director and a story board writer than any epic two hours drama and all of them succeeded in their task excellently the stories were chosen carefully with regard to their matching arrondissement and express the respective flair perfectly each episode was seen from a different ankle had a different topic a different style and still the twenty stories result in a harmonic orchestra of films the most outstanding advantage with the concept of an episode movie in my opinion is based in the fact that you can switch in between a large variety of feelings and moods without the danger of overload just the other way round the melange of sadness melancholy pure joy despair wrath anxiety curiosity or passion gives this movie a unique freshness and harmony and not to forget the all over topic of love love between the characters love between the characters and paris and also the love of the directors and actors actresses for this project i don t want to go into the details of the episodes since there are so many but i must highlight the range of world famous actors and actresses from all over the world and their approach to this project some played with their image some broke it completely and some interpreted the stereotypes connected with their home country or the roles they had played before so intertextuality was given all through the movie all in all i can absolutely recommend this great collage and will be looking forward to its release on dvd'\n",
      " b'no matter what you ve heard fame is not a good movie it s not worth the investment of over two hours to watch stereotypically troubled teens dancing singing learning and staring at girls in the dressing rooms br br every clich finds a cozy little home in this movie there s a gay teenager looking for acceptance that would have been great if it had been treated as anything more than a secondary plot point there s a ghetto kid who has too much attitude what was i surprised and guess what they all want to become big stars finding fame and fortune and they d all be willing to crawl over their own mothers smoking corpses to get it br br oddly enough this film is remembered for its music but in actuality the only moderately good song is hot lunch jam which is still too cheesy to be of any real quality the two most popular songs are nothing either fame is meaningless fluff drowned out by the sheer spectacle of a massive dancing in the streets scene and i sing the body electric what in bubba s name does that even mean is just an incomprehensible joke br br bad acting tasteless dialog and hack direction it is after all from the director of evita are only marginally helped by michael seresin s appropriately ordinary camera work but cinematography alone cannot carry a movie especially one as uninspiring and pointless as this'\n",
      " b'br br this movie sucks big time it reminded me of the movie resurrection christopher lambert which i also found extremely boring and semana santa is in every way an even poorer movie br br only fine one in the cast doing something for this movie is alida valli alida is one of the grand old ladies in european movie history i loved her maniacal looks in suspiria and inferno dario argento i will not spend more time dealing with this movie i will say another good thing about this movie use it if you want to fall asleep very quickly'\n",
      " b'if tv was a baseball league this show would have a perfect record with an excellent cast and a perfect plot this show gave 8 amazing seasons and a great joy to tv after dinner with the constant changing of relationships and finding out who hyde s real dad is this show was a hit when it started in august of 98 though it was set in 1976 and hanging out in foremans basement was always the thing to do back then and it still is today along with circles this show gave great laughs in premieres and it still does during re runs if you watch a few episodes of this show you will get everything and want to get more now only is this show one of the best ever created it is clever and funny'\n",
      " b'when the trailer for accepted first came up many people began to get excited about seeing it really excited who could blame them it looked like fun but that s exactly the thing people went into accepted looking for a good movie but if you think about it accepted isn t the type of film destined to be a good movie it s meant to be a film that pleases its crowd without too much effort being given that being said for those of you who expected a great film you need to think about what could be made of a comedy like this one think that and you will truly enjoy the film because you ll rid yourself of your idea that the movie will be fantastic bottom line watch the movie and have fun but don t look for anything groundbreaking'\n",
      " b'i saw this 1997 movie because i am a fan of lorenzo lamas and of his father the late fernando lamas in my opinion lorenzo looked his best in this film mostly due to his hairstyle and the preppy wardrobe that were flattering to him br br as the plot progressed i realized the movie was more than just entertainment or a reason to see a favorite actor the story was about a ring of serial killers and the attempts of law enforcement to investigate the ring and bring the members to justice there was adequate suspense and i believe the violence was necessary to relate the story to the viewer br br at the end of the film i was shocked to learn the film is the true account of horrendous murders that occurred in utah furthermore lorenzo and his leading lady were portraying actual fbi agents who solved the disappearances of many young women and contributed to the apprehension of the ring i believe the film is worthwhile as it informs the public about the dangers and capabilities of the criminal element'\n",
      " b'this so called movie is horrible the actors cannot act there is no plot i believe they need to start from scratch and film again i hope that they can correct the acting flaws in this movie i would like to see the trailer after they shoot it again maybe there is hope for it i am not out to hurt feelings but i believe high school kids can do a better job the wardrobe could have been much better sorry but this just did not do it for me i normally enjoy the trailers from this site but this one i cannot find entertaining i hope they take criticism well because i believe they will get much much more from others in regards to this film'\n",
      " b'stoic and laconic soldier sergeant todd a fine and credible performance by the ever reliable kurt russell gets dumped on a desolate remote planet after he s deemed obsolete by ruthless and arrogant colonel mekum deliciously played to the slimy hilt by jason isaacs who has todd and his fellow soldiers replaced with a new advanced breed of genetically engineered combatants todd joins a peaceful ragtag community of self reliant outcasts and has to defend this community when the new soldiers arrive for a field exercise director paul w s anderson working from a smart and provocative script by david webb peoples depicts a chilling vision of a bleak cold and harsh possible near future while maintaining a snappy pace and a tough gritty tone throughout moreover anderson handles moving moments of humanity well todd s struggle to get in touch with his previously repressed feelings is genuinely poignant and stages the stirring action scenes with rip roaring gusto russell gives a strong and impressive almost pantomime portrayal of todd he conveys a lot of emotion without saying much and instead does the majority of his acting through his body movements and facial expressions bang up supporting turns by jason scott lee as brutish rival soldier caine 607 connie nielson as the compassionate sandra sean pertwee as the kindly mace jared and taylor thorne as mute little boy nathan gary busey as crusty seasoned veteran captain church michael chiklis as the jolly johnny pig and brenda wehle as the sensible mayor hawkins better still this film makes a profound and significant statement about the spiritual cost of being a merciless soldier and the importance of intellectual strength over physical might david tattersall s polished cinematography joel mcneely s rousing full bore orchestral score and the first rate rate special effects all further enhance the overall sterling quality of this superior science fiction action hybrid outing'\n",
      " b'specks of white and various shapes a beautiful nude random images that is what this little experimental short film is br br it s kind of interesting to think how in the early days of film such images could be transferred onto film but despite my love of a lot of surreal images and films and a fascination with the bizarre this film just didn t do it for me br br i m not sorry i watched it but if there is any underlying meaning in it i don t get it visually it is not that outstanding in my humble opinion as an example of dadaism i suppose it would fit in quite well since it seems to reject any semblance of logic or reason though i would have preferred that it do it in a more visually interesting way br br but to each his own'\n",
      " b'romance is in the air and love is in bloom in victorian era england in this light hearted story set against a society in a time in which manners were still in vogue the ladies were charming and elegant and the gentlemen dashing emma based on the novel by jane austen and written for the screen and directed by douglas mcgrath stars the lovely gwyneth paltrow in the title role a self appointed matchmaker emma takes great delight in the romantic notion of playing cupid and attempting to pair up those she feels are suited to one another coming off a successful matching that ended in marriage she next sets her sights on finding a mate for her friend harriet toni collette but the outcome of her initial attempt proves to be less than satisfying meanwhile her endeavors are tempered by by the handsome mr knightley jeremy northam whose insights into matters of the heart often seem to be a bit more astute than emma s and lend some needed balance to the proceedings and emma so concerned with what is right for others neglects the heart that is actually the most important of all her own the world goes round and love abounds but emma is about to miss the boat luckily for her however the is someone just right for her waiting in the wings now if she can but stop long enough to realize it but as everyone who has known true love knows matters of the heart can go right or wrong in an instant depending upon the slightest thing and while romance is at hand for emma she must first recognize it and seize the moment br br mcgrath has crafted and delivered a delightful feel good film that is like a breath of fresh air in our often turbulent world there may be an air of frivolity about it but in retrospect this story deals with something that is perhaps the most important thing there is in all honesty to just about anyone love and with mcgrath s impeccable sense of pace and timing it all plays out here in a way that is entirely entertaining and enjoyable it s a pleasant affecting film with a wonderful cast that successfully transports the viewer to another time and another place it s light fare but absorbing and the picturesque settings and proceedings offer a sense of well being and calm that allows you to immerse yourself in it and simply go with the flow br br the winsome paltrow who won the oscar for best actress for shakespeare in love two years after making this one seems comfortable and right at home in this genre she personifies all things british and does it with such naturalness and facility that it s the kind of performance that is easily taken for granted or overlooked altogether she s simply so good at what she does and makes it look so easy she has a charismatic screen presence and an endearing manner very reminiscent of audrey hepburn yet paltrow is unique as an actor she has a wide range and style and has demonstrated with such films as hard eight hush and a perfect murder that she can play just about any part effectively and with that personal touch that makes any role she plays her own but it s with characters like emma that she really shines she is so expressive and open and her personality is so engaging that she is someone to whom it is easy to relate and just a joy to watch regardless of the part she is playing and for emma she is absolutely perfect br br jeremy northam also acquits himself extremely well in the role of knightley and like paltrow seems suited to the genre in the right role that is his performance in the more recent the golden bowl in which he played an italian prince was less than satisfying here however he is perfect he is handsome and carries himself in such a way that makes knightley believable and very real like colin firth s mr darcy in the miniseries pride and prejudice northam has created a memorable character with his own mr knightley br br also excellent in supporting roles and worthy of mention are toni collette as emma s friend harriet smith and alan cumming as the reverend elton respectively collette and cumming create characters who are very real people and as such become a vital asset to the overall success of this film and it demonstrates just how invaluable the supporting players are in the world of the cinema and to films of any genre br br the supporting cast includes greta scacchi mrs weston denys hawthorne mr woodhouse sophie thompson miss bates kathleen byron mrs goddard phyllida law mrs bates polly walker jane fairfax and ewan mcgregor frank churchill an uplifting elegant film emma is a reminder of civilized behavior and the value of gentleness and grace in a world too often beset with unpleasantness and even if it s only through the magic of the silver screen it s nice to be able to escape to such a world as this if only for a couple of hours as it fulfills the need for that renewal of faith in the human spirit and that s the magic of the movies i rate this one 9 10 br br br br'\n",
      " b'you cannot deny that we have an affinity for speed that s why movies like fast and the furious dhoom rempit get made to play to the satisfaction of audiences especially local ones we live on a tiny island and i cannot fathom why for the relative efficiency of the public transportation system most of us want to get into debt by owning a set of wheels which come with 100 tax when they reach our shores and the myriad of taxes and bills to pay when operating one not only that the high end sports cars were once quipped by a prominent politician up north that they will never reach fourth gear lest they reach the sea br br and these movies are relatively easy to make hot wheels and hot chicks always go down well together in targeting the required demographic for once those plunging necklines exposing uncanny buxom and short skirts accentuating legs two meters long can t compete with the attention given to those beautiful curves that exotic cars possess in movies such as these of course there are amongst us ahem those that go for the sexists portrayal of women as mere sexual objects otherwise explain why motor shows come with truckloads of models and movies such as these cannot do without a leggy model in a frame however they don t warrant the kind of collective orgasmic sighs whenever the four wheelers come on screen even when they do exactly nothing and have their gears into park the guy sitting beside me i swear he wet his pants every time his dream car s appear and creamed his pants even more when he hears those growling engine moans br br so there we have it the fan boys who turned up in droves just to watch which of the latest cool cars get featured in the movie with the fast and the furious franchise the japanese models like the evos and the skylines take centerstage as does the gt here the ford gt takes on an incredibly drool worthy facade modification that even i m impressed alongside the latest models like the ferrari enzos porshe carerra gts koenigsegg ccxs and every car out there that has wings for doors but seriously my heart goes out to the cars each time they re mercilessly wrecked just for entertainment i mean this are perfectly fine high performance models that are at the apex of motoring but yet because whoever financed the movie had millions to blow they do so because they can br br there s no story in redline just excuses to put together a movie full of beauties the cars that is that can rip down the tarmac in probably the most boring fashion possible and with the usual shots of pedals always the accelerator mind you tapping the brake pedal is tantamount to blasphemy and earn you no respect steering wheels gear shifts always shifting up and not down all these while having the actors make pretend that they re the baddest asses with an engine snarling and giving each other dirty looks not a very tall order for an actor and that s why we get the most woeful performances ever with lines that seem to be written by elementary schoolkids br br the heroine yes it made a statement that girls can drive natasha a very plasticky looking nadia bjorlin is one of those million dollar finds a girl with model looks who don t mind getting down on fours and immersed in oil who has racing pedigree within her and performs with a rock band singing songs with lyrics that are just plain laughable every line had to do with cars and when singing about love just had to string those innuendos like shifting gear shafts lubricants and going for rides introduced against her wishes to illegal racing by a gangsta called infamous eddie griffin she gets drawn into family squabbles involving a leo dicaprio lookalike iraq war veteran and some sleazy lecherous looking rich uncle everything else well like i said just serves as an excuse for the movie to go from race to race br br and it s almost always the same as there s very limited to what you can do to heighten tension between race cars especially when you know the race is rigged for narrative reasons and can see the race outcome a mile away from the finishing line while fast and furious had quite charismatic actors and i will put my head on the chopping block by naming paul walker sun kang and of course the star it created vin diesel redline had none just pretty faces with lots of air unfortunately it looks like a tv movie in its treatment from the get go with a very insipid opening sequence where it s one man one car and a 105 minutes race against time to get to vegas br br if not for the cars then this movie seriously is a piece of junk with bad acting bad lines and bad action strictly for the car fans or those who like their movies with countless of bevy beauties who pimp their bodies without any speaking lines'\n",
      " b'one used to say concerning nathaniel hawthorne that his failures were more interesting than his successes i believe that the same remark could suit to mcdonald eddy s pictures and especially this one br br it apparently possesses many characteristics of a failed movie it s kitsch the script because of censorship sounds inconsistent yet this movie gets also some good points good rodgers hart s music i married an angel tira tira tira la good acting with e e horton and reginald owen br br anyway if you may dislike it you can t forget it this strange movie actually leaves a very strong dreamlike impression and you are very likely to keep it in mind for days maybe for weeks why in the thirties and the beginning of the forties movies didn t have the same mean than today it aimed like a dream to divert the public in order to make it forget a difficult reality of all the the dream movies that was made in that time this one stands as particularly powerful br br in short let s say that the better way to appreciate this movie is to watch it without wondering whether it s good or bad to watch it like you would watch a dream'\n",
      " b'you know you re in trouble when the film your watching has numerous alternate titles generally it means that they tried and retried to hide the turkey in various markets such a turkey is the brain machine which has seven different titles br br its about some super secret government project that is suppose to be able to use a computer to read people but instead it drives people to kill each other or themselves or something like that its filled with b level tv actors sitting in paneled room with lawn chairs trying to act a script that makes almost no sense br br its a turkey of the untastey kind avoid it'\n",
      " b'i really don t see how anyone could enjoy this movie i don t think i ve ever seen a movie half as boring as this self indulgent piece of junk it probably would have been better if the director hadn t spent most of the movie showcasing his own art work which really isn t that noteworthy another thing i didn t really like is when a character got punched in the face a gallon of blood would spew forth soon after i don t know how folks bleed over there in japan but i hope they have plenty of blood donors'\n",
      " b'i was fortunate to see a screening of this remarkable short film by joshua leonard before its premiere at the 2005 sundance festival in twelve brief but exquisite minutes leonard takes us on a life changing journey as he probes one of the most controversial contemporary social and ethical issues facing our society the film embodies elegant direction moving performances and a heart rending story kelli garner and lucas haas radiate as the two lovers and in his first venture into dramatic narrative leonard proves to be a director with a propitious future i feel this short should be expanded into a feature film it s difficult to describe talent but as this debut film demonstrates you know it when you see it'\n",
      " b'milo is yet another answer to a question nobody ever asked do we really need more slashers i for one think we already have more than enough i guess the professional tall guys overcharged so in this one we deal with a murderous kid that s also a zombie or a ghost when he feels like it a long time ago he drowned but that didn t bother him and he still kills people friday the 13th what s that one day his survivors have a big reunion and as a surprise twist milo comes to pay them a visit through some really bad shots that show everything except the murders the cast is thinned out till only the final girl is left to find out milo s dull i mean dark secret she and her friends have been dying to know once discovered milo goes on yet another murderous rampage isn t it his bedtime yet and the girl well she screams a lot the acting is not even bottom of the barrel the barrel refuses to be associated with it milo can be one creepy bastard from time to time i give him that but some movies just can t be saved without a great script or gratuitous nudity'\n",
      " b'the day has finally come for me to witness the perpetuation of azumi s fate as an assassin fruition of her character and the ultimate attempt to draw me deeper into the world she rampaged through so mercilessly during the first saga br br that s as poetical as i ll get when talking about azumi 2 death or love because when i cringed over the heavy sentimentality of house of flying daggers and complained about the credibility of aya ueto portraying a blood driven assassin after watching azumi 2 i started to appreciate the previously mentioned shortcomings more than ever before br br not only does the determination of each assassin feels sluggish and uninspiring but also many important elements are omitted from the entire experience in azumi 1 we saw the assassins use various stealth tactics which is their number one priority as well as logic to make easy work of their marks with swift executions and quicker abilities to escape but i won t hold that against this movie too much since the story is slightly tweaked this time around and many more obstacles are planted in azumi s way to prevent her from reaching the warlord and displaying any signs of charisma by the way chiaki is foolishly shelved for the most part of the film and is basically playing a toned down version of go go minus the cool weapon and sense of menace br br this brings me to the final blow which is the action simply disguised in the title as the death side of the epic in the first half of the film we see the debut of many promising adversaries with flashy looks and even flashier weapons to no one s surprise they meet their end one way or another but the film falls short when each of them start dying too fast and too easily in azumi 1 the young assassins were mostly overpowering the opposition with quick but somewhat satisfying battles and the final showdown between azumi and bijomaru in comparison to the fights in azumi 2 was at least climaxed and worthwhile some interesting effects were introduced but they were unable to achieve innovation due to the shortness of each encounter i am in no way knocking down the conventional style of samurai films with their quick and realistic battles but characters in both azumi films were so imaginative and straight out of anime that the rules could have been broken and the action should have been further enriched br br the romance side of azumi is there to fill in time between the fight scenes and unfortunately at the end it serves no purpose nor provides a much needed resolution br br as a fan with an open mind for wide variety of movies and animation i won t lie and i ll admit to my neutrality and unimpressiveness towards the first azumi film but i ll step right up and say that after watching azumi 2 the original was made to look like a flawless masterpiece for what it s worth azumi 2 death or love could have gone straight to video with its invisibly richer budget and a failed potential to add or even expand on the bumpy journey of desperate assassins doing their best to restore the peace with an unwavering courage to die trying'\n",
      " b'hmmm a sports team is in a plane crash gets stranded on a snowy mountain and is faced with the difficult decision to eat the flesh of their dead companions in order to survive sound familiar anyone i refer to alive from 1993 the only major difference here of course is that a big white drunken scare crow of a yeti shows up a few times to drag off the dead i guess humans taste better than yaks br br stupid the man in the first scene does not have a reliable firearm when hunting the yeti nor does he have a backup br br the plane crash is completely bogus it would have either exploded in the air exploded when it hit the ground or become obliterated the people would not have survived but hey it s sci fi br br stupid they survived and they are cold it might be a good idea to harness some of the burning debris nearby so as not to freeze to death fire being warm as it is br br wtf the pilot has frost formed all over his face while he s alive and talking but oddly enough no one else does br br stupid one of the guys tells the others to look for matches and lighters but there are scattered parts of the plane on fire all around them br br stupid they find coats and hoodies and yet there in the cold of the himalayas they fail to use the hoods br br stupid they re staring at a pile of sticks when i reiterate there are pieces of the plane already burning br br stupid the himalayas are notorious for its storms it would be common sense for them to collect the debris in order to reinforce their structure rather than sitting outside bickering there are a lot of pine trees around the branches of which make excellent insulation br br wtf when in doubt use a dead man s arm as a splint br br wtf if the one guy knows so much about the hibernation habits of squirrels bears and leopards in the himalayas then why doesn t he know enough to make shelter and set traps right from the start br br stupid when attempting to trap wild animals mindless conversation in the vicinity of said trap always helps br br wtf do you know how hard it would be to cut a frozen corpse with a shard of glass br br wtf the group was ready and armed to fight the yeti while the other two were standing there defenseless the yeti ripped out the guy s heart and stomped the girl s head and the gang did nothing there s love br br so two yetis and a convenient avalanche to bury the evidence forever or so we think mwuhahahaa the story continues into more idiocy but the most action occurs in the last 15 minutes as usual nice thinking with the javelin and the chain although this is some ingenuity with the magically appearing chain that they lacked in the beginning of the movie when they couldn t even make fire despite the fact that it was all around them br br as is typical for the sci fi originals the loving couple kisses at the end like nothing horrible has just happened to them not to mention they ate human flesh and haven t brushed their teeth in several days br br the very end however is quote lame'\n",
      " b'lcdr tom dodge despite having a reputation among submariners as a renegade and maverick note to reader maverick does not mean tom cruise maverick means non conformist is actually an intelligence operative for the vice admiral of his submarine fleet the vice admiral is concerned about our old friends the russians hosting yard sales with their old diesel fleets countries like lybia north korea or iraq would love to get their hands on this baby and slip a nuclear warhead into norfolk harbour or mayport florida and this was 6 7 years before 9 11 br br the admiral assigns dodge to assume command of a moth balled wwii diesel sub and mount an exercise against the surface fleet and the uss orlando a top of the line fast attack sub dodge takes command and in no time whips up the bad news bears err i mean his lovable group of oddball submariners into warriors despite having welcome aboard tattooed on his penis he is a competent and fair commander he does not choose favorites and he delegates authority in a responsible manner the us navy could not have come up with a finer piece of recruitment propaganda than this handsomely made under appreciated gem from the creator of police academy'\n",
      " b'once again mr costner has dragged out a movie for far longer than necessary aside from the terrific sea rescue sequences of which there are very few i just did not care about any of the characters most of us have ghosts in the closet and costner s character are realized early on and then forgotten until much later by which time i did not care the character we should really care about is a very cocky overconfident ashton kutcher the problem is he comes off as kid who thinks he s better than anyone else around him and shows no signs of a cluttered closet his only obstacle appears to be winning over costner finally when we are well past the half way point of this stinker costner tells us all about kutcher s ghosts we are told why kutcher is driven to be the best with no prior inkling or foreshadowing no magic here it was all i could do to keep from turning it off an hour in'\n",
      " b'allen goes to the country somewhere he hates going in real life and has a weekend with his friends which are the usual successful white middle class bellyaching types that feature in many of his films br br i usually find something to amuse in woody allen comedies but here he really falls totally flat on his face even the one liners seem to have deserted him the really is no plot bar bits and pieces of cod shakespeare but allen seems to use the location to allow a semi mystical air which just makes the thing even more witless and half baked br br it just doesn t work at any level and is just a giant bore the best thing about this film apart from the end credits coming up is that the bad reviews seem to get him to wake up and realise that simply throwing together a slapdash script and casting your mates in it doesn t make for entertainment'\n",
      " b'nothing about this movie stands out as either being great or terrible br br in the end that is what kills it the blandness is just not good i can t say i expected better from will smith but i definitely did from kevin james of the king of queens but hey i m getting used to saying that a lot lately this film attempts to make its mark as a witty romantic comedy but it never hits the bull s eye in fact it never hits anywhere within the target the allergy scene is disturbing the fact that kevin james can t dance is something that wouldn t exactly catch anybody off guard and is therefore in a movie like this not funny this movie constantly tries to win your heart but always with the wrong ploy at the wrong time some parts are okay but i m searching my brain for examples but i really think this movie should be avoided'\n",
      " b'black comedy isn t always an easy sell every now and then you get a black comedy that is hugely successful like fargo for example but usually they don t often find big audiences people seem to either set their minds for comedy or for serious mayhem there doesn t seem to be a big market for a good mixture of both throw momma from the train was a fairly decent hit yet few people seem to remember much about it in this day and age danny devito just about hit this one all the way out of the park back in 1987 br br devito plays an odd mamma s boy named owen looking to rid himself of his outrageously overbearing and unpleasant mother whom he still lives with the mother is played by anne ramsey who passed away shortly after this was released and she is quite a caricature she is loud ugly rude and overbearing though owen hardly seems like he could take care of himself he wants desperately to have his mother offed he fantasizes about it in some truly weird scenes but he clearly doesn t have the guts to actually do it himself that s where billy crystal comes in crystal plays larry donner owen s creative writing teacher at a nearby community college larry is a paranoid would be intellectual novelist who claims his ex wife stole his novel and made millions off it he is currently trying to write a new one but cannot even come up with a decent first sentence the night was owen hears larry wish his ex wife were dead during an outburst at the school cafeteria and borrowing the idea from strangers on a train owen decides to travel to hawai i and murder larry s ex wife once it appears he has done so he expects larry to return the favor and kill his mother the resulting action is often quite funny and even poignant it s certainly never dull and often full of surprises br br the acting is exceptional even if ramsey was a bit over the top crystal is as good as he can be and devito has always been undervalued as a performer the film relies on quite a bit of physical comedy which usually works often painfully so the film makes use of some truly innovative editing techniques in some scenes and the off beat tone is truly refreshing i have often been critical of the late 1980s as being a time of artistic malaise and down right lazy film making throw momma from the train takes chances both in how its characters are drawn as well as its general plot how many comedies revolve around a son having his mother murdered the film isn t too long and it is chock full of laughs writers are apt to find it more interesting than the general public but it can still be enjoyed by just about anyone 9 of 10 stars br br the hound'\n",
      " b'maybe it s the dubbing or maybe it s the endless scenes of people crying moaning or otherwise carrying on but i found europa 51 to be one of the most overwrought and therefore annoying films i ve ever seen the film starts out promisingly if familiarly as mom ingrid bergman is too busy to spend time with her spoiled brat of a son sandro franchina whilst mummy and daddy bland alexander knox entertain their guests at a dinner party the youngster tries to kill himself setting in motion a life changing series of events that find bergman spending time showering compassion on the poor and needy spurred on by communist newspaper editor andrea ettore giannini she soon spends more time with the downtrodden than she does with her husband who soon locks her up in an insane asylum for her troubles bergman plays the saint role to the hilt echoing her 1948 role as joan of arc and rossellini does a fantastic job of lighting and filming her to best effect unfortunately the script pounds its point home with ham fisted subtlety as andrea and mom take turns declaiming marxist and christian platitudes by the final tear soaked scene i had had more than my fill of these tiresome characters a real step down for rossellini as he stepped away from neo realism and further embraced the mythical and mystical themes of 1950 s flowers of st francis'\n",
      " b'this movie is about a very delicate argument and if you are searching for something that makes you think here you are right tim robbins has made a wonderful job and the result is a kind of docu drama that should be shown in schools for the strong themes treated what about the actors well they are simply great susan sarandon is truly the face of love and sean penn is unbelievable as almost always an absolutely must see'\n",
      " b'when fellini committed 8 1 2 to film many commented that it was the most personal vision ever to find its perfect expression when dante cast betrice to the flames of his undying passion many were aghast at the honest brutality of his unrequited feelings for a younger woman when onur tukel and a merry band of wickedly talented and misfited filmmakers from the mecca of movie making insanity band together during the course of two chilly weeks in december 2000 many commented that nothing more sophmoric had ever been committed much less on film br br well to the doubters out there watch this original piece and find out why the id is both a charming and powerful thing and if that doesn t getchya roll over and rub one out it s probably time you did so br br kudos onur on a great piece of art'\n",
      " b'first i played the second monkey island game and i liked it despite the low quality graphics and sound then a few months later i found out a new game was made i tried it out and liked it a lot first thing you notice is the great graphics the areas are huge colorful and detailed with lots to explore the game requires you to use your brain a lot as always the game is challenging with all point and click games frustrating the jokes haven t gotten old a third time around the animated cut scenes are a great addition to the game also this is the best mi game out there perhaps the best p c game too if you like cartoony games that play like a movie get this game'\n",
      " b'this was one of the worst columbo episodes that i have seen however i am only in the second season br br the typical columbo activities are both amusing and irritating his cigar ashes causing him trouble have been seen before and the bit where he always identifies in some way with the murderer in this case cooking tho the scene on the tv cooking show distracted from the main theme br br also not explained was why the brother at the beginning of the show was cutting part of the wires of the mixer the reason was never explained nor did it serve any purpose but the part i disliked the most was the death of the bride to be this was never explained and it is the main reason why i give this episode such a low grade'\n",
      " b'what bergman has got here is what if all that bad stuff happened here in sweden to nice people like us and what he gives us in the swedish language with swedish actors on swedish locations and using what appear to be genuine swedish military vehicles is what was familiar from war films set in almost every other country in europe all the confusing invasions and counter invasions political lies internment camps faked confessions summary executions torture turncoats collaborators and so on as in a modern short story it s done in the abstract with no real names cities or countries used but the stronger faction are nazis they strut about self importantly and some wear shiny knee boots one even whips things with a riding crop ok it s actually a cane the victimized couple are named rosenberg apart from the shame they feel at finding dirtier ways to survive and who would not do what they did what all of the above suggests is that the title is clearly meant to refer to stockholm s de facto complicity with the nazis indeed what we are shown is what sweden might have looked like if germany had asked for a bit more than mining concessions br br the first half plays like a black comedy we see the fog of war from the point of view of a comically passive couple who ignore the troops all around the long convoys the bombed out buildings the news reports c they do not even bother to find a working radio they are the ultimate in not in my backyard they talk of wine and lingonberries meanwhile friends are mysteriously conscripted and growing numbers of troops show up in the town they show no curiosity about the war that has been going on around them for many years br br the man von sydow is cultured sulky and a navel gazer the woman ullman is somewhat more impulsive passionate and outward looking there s a beautiful scene in which the man talks about his violin the manufacturer he says offhandedly fought in the napoleonic wars but his own interest stops with the cultural artifact in his hand or more precisely which his own warm feelings about owning it and the security that that ownership assumes not in my backyard but when war finally breaks into their bucolic idyll the man s timidity an irritation in good times turns into a liability one he ends up overcompensating for as is often the case as bergman demonstrates subtly and beautifully definitely worth seeing'\n",
      " b'i once had a conversation with my parents who told me british cinema goers in the 1940s and 50s would check to see a film s country of origin before going to see it it didn t matter what the plot was or who was in it if it was an american movie people would want to see it and if it was british people wouldn t want to see it this might sound like a ridiculous generalisation but after seeing the astonished heart i can understand why people in those days preferred american cinema to the home grown variety back in the 1940s br br british equity was devoid of working class members and it shows in this movie everyone speaks in an english lad dee daa upper class accent that makes the british royal family sound like working class scum and what this does is alienate a large amount of a potential british audience who would no doubt prefer to be watching jimmy cagney in white heat because people would have if not related to then certainly empathised with a violent gangster in cinematic terms more than some high class english shrink in 1949 that s entertainment the reason people go to cinemas even the characters names seem bizarre leonora how many british people were named leonora in 1949 and the protagonists drink cocktails and they use words like austere you do get the feeling that this wasn t marketed for a 1949 mainstream british audience but why should it if the majority of british cinema goers were queuing up at cinemas to watch far more entertaining american imports br br watching the atsonished heart in 2005 i was astonished how dated everything was in fact it s so dated i thought maybe it might be a spoof from the harry endfield show what didn t astonish me was the fact that these types of movie came close to sinking the british film industry an industry that didn t pick up until american money invested in crowd pleasers like zulu alfie and the james bond movies'\n",
      " b'this show was an amazing fresh innovative idea in the 70 s when it first aired the first 7 or 8 years were brilliant but things dropped off after that by 1990 the show was not really funny anymore and it s continued its decline further to the complete waste of time it is today br br it s truly disgraceful how far this show has fallen the writing is painfully bad the performances are almost as bad if not for the mildly entertaining respite of the guest hosts this show probably wouldn t still be on the air i find it so hard to believe that the same creator that hand selected the original cast also chose the band of hacks that followed how can one recognize such brilliance and then see fit to replace it with such mediocrity i felt i must give 2 stars out of respect for the original cast that made this show such a huge success as it is now the show is just awful i can t believe it s still on the air'\n",
      " b'this is high grade cheese fare of b movie kung fu flicks bruce wannabe lee is played by bruce li i think of course let s show quick clips of bruce and do closeups of his eyes and if you quint at the right angle during a certain time of the day during the winter solstice it kind of looks like bruce you ll laugh in awe at how the film splicing isn t very good but some cool deleted scenes from enter the dragon are thrown in the mix according to the movie bruce lee was killed by a dart while hanging from a helicopter of course they think this can excuse bruce li for trying to be bruce even though his character is supposed to be bruce s brother who for some reason still mimes bruce s gestures and fighting style very poorly see bruce go one on one with the cowardly lion the props department stopped by kay bee you see bruce also finds nothing wrong with savagely beating up a crippled man towards the end the director decided let s throw a flashback for a scene just shown 3 minutes ago they must ve thought that only one celled organisms with attention deficit disorder could fully understand this film br br'\n",
      " b'my wife and i just finished watching b su aka the booth she fell asleep during some parts of the movie i really wish i had taken a snooze with her but the unfortunate fact is that the main character s voice is so loud and grating that it was impossible for me to sleep when our protagonist speaks it makes me want to hear regis philbin and william shatner sing karaoke he also has no redeeming qualities i was hoping he d get hit by a bus five minutes into the film br br don t get me wrong i love asian horror cinema but the booth is extremely irritating and full of scenes that really make no damned sense at all if you want some good asian cinema check out a tale of two sisters or into the mirror avoid the booth like the plague especially if you suffer from frequent migraines'\n",
      " b'every once in a while in the wonderful world of horror diamonds are crafted and one becomes completely awestruck by its sheer brilliance this is no less than a diamond this is a film brimful of eeriness chilling anticipation and dark atmosphere and i think it s safe to say one of my favourite horror films of all time and of course it contains probably the single most flat out scary sequence in the whole of history of horror every time i see the film and it gets up to the point where you know the inevitably will happen i try to remember exactly when i will be frightened out of my wits but it never fails to happen i never get it right and i find myself as terrorized as the first time i saw it now it must be said to scare a jaded horror fan like that that is nothing short of pure perfection unlike the americans the brits know their subtleties they take pride in the art of acting they do not need any special effect in order to convey atmosphere they rely on the power of the potent story and the creepiness in this case of suggestion and anticipation every single element is impeccable from the set pieces the acting the story to the menacing atmosphere pauline moran surely could make the devil whimper that s for sure as an end note if you for some demented reason don t like this piece of insanity then you honestly don t know what horror is all about and frankly do not deserve to know it either thank you'\n",
      " b'the first music video i ever saw thriller my mom told me that she took me home from the hospital and when we arrived my sister had mtv on the tv and thriller was playing my mom said that i smiled silly i know but i have loved michael jackson since that day the music video thriller inspired me to dance still i have the dance memorized to this day i even performed it for an audience 3 times words cannot describe the power of this song that makes you wanna sing and dance but michael of course had to raise the bar for mtv at the time by signing on american werewolf in london director john landis and directing the one the only thriller br br michael and his date ola ray run out of gas in a dark wooded area they walk off into the forest and michael asks her if she would like to go steady she accepts and he gives her a ring he warns her however that he is not like other guys no really not like the other guys a full moon appears and michael begins convulsing in agony transforming into a horrifying werewolf his date shrieks and runs away but the werewolf catches up knocking her down and begins lunging at her with its claws the scene cuts away to a movie theater where michael and his date are actually watching this scene unfold in a movie called thriller michael smiles but his date is frightened and tells him she s leaving michael catches up to her and says that it s only a movie but she doesn t like his jokes on her and she starts walking away michael and his date then walk down a foggy street and he teases her with the opening verses of thriller they pass a graveyard where corpses suddenly begin to rise from their graves as vincent price performs his rap michael and his date then find themselves surrounded by the zombies and suddenly michael becomes a zombie himself michael and the undead perform an elaborate song and dance number together followed by the chorus of thriller br br thriller is arguably the best music video of all time funny thing is people who wanna argue that is with other michael jackson videos but what makes thriller so special is the dance the story the effects this at the time was the most expensive music video of it s day michael of course rose that bar again with his famous music video scream and then again with ghosts but say what you will michael was the star of the 1980 s there was no celebrity like him he loved the life he lived it breathed it and embraced it thriller is proof that he was willing to work to make the best and that s what we got with the legend that is thriller br br 10 10'\n",
      " b'the chipmunk adventure is one of the greatest animated movies of the 1980 s alvin and the chipmunks have always been of some interest to me since they were what really got me into rock and roll neither one of the chipmunks has any bad traits alvin s really the star and has all the cool looks theodore is the lovable sensitive one then there s simon my personal favorite the smart one who is often a party pooper i also like the chipettes a lot there s brittany who like alvin is one who is always trying to be so popular then there s eleanor who like theodore is sweet sensitive and loves food janette is the only chipette who is not much like her counterpart she s very naive and really clumsy br br in the chipmunks very first full length movie david seville is going on a business trip to europe and he s leaving the boys with miss miller while he s gone while playing an arcade game alvin loses against brittany and then says that if he had the money he d race brittany around the world for real unbeknownest to the kids a man named klaus furschtien and his sister claudia who have been trying to come up with a sneaky way to deliver diamonds around the world in exchange for cash overheard this conversation and said that they d let them race around the world for 100 000 alvin and brittany accept it and go on the race br br this adventurous movie has a lot of great songs off to see the world made for an appropriate theme song for the movie then there is getting lucky one of my favorite songs in the movie my mother is most likely the sappiest song in the movie but it always makes me cry wooly bully is the only cover song used in the movie the rest were completely original then of course there s the boys and girls of rock and roll which in my opinion has to be one of the greatest musical numbers in movie history br br i used to watch this movie very often until my recorded tape of it died i still watch the movie though this is actually a fun movie for people who are about to go on a vacation to a foreign country for the first time it ll give you an idea of what kind of stuff you d expect out of world travel definitely one of my childhood movies and one that i d recommend to 80 s fans and alvin the chipmunks fans'\n",
      " b'the original book of this was set in the 1950s but that won t do for the tv series because most people watch for the 1930s style ironically the tube train near the end was a 1950s train painted to look like a 1930s train so the underground can play at that game too hanging the storyline on a plot about the jarrow march was feeble but the 50s version had students who were beginning to think about the world around them so i suppose making them think about the poverty of the marchers is much the same thing all the stuff about japp having to cater for himself was weak too but they had to put something in to fill the time this would have made a decent half hour show or they could have filmed the book and made it a better long show it is obvious this episode is a victim of style over content'\n",
      " b'can t grade this very well because i can t say i liked it but it is the story that bothered me not the realization of the film the acting directing atmosphere music were all good it s just that after you see a bunch of people doing things you can t truly relate to the movie ends it is educational in the way that it shows the horrors of war as seen from home and the way feelings don t need to make any sense at all and still be strong but that s about it br br the plot covers a period of a few years in which the poet dylan thomas is taken under the roof of a former ex girlfriend he is married brings his wife and later the kid while the ex knightley marries some other guy but the tension is there dylan is a self obsessed jerk and the new husband comes back home from the war with a slight case of ptsd add in some pretty temperamental characters and you have your hands full br br bottom line you have to be in the mood to like this film the hard part is defining this mood i don t think i ve ever been in it yet ever so it is probably better watched by adults with a grasp on weird complex human behaviour and maybe a curiosity about dylan thomas'\n",
      " b'if you enjoy cleese all the british pythonesque humour of the time then this little gem is absolutely hilarious br br arthur lowe is a real treat br br i saw this with friends on tv when it first came out and its classic quotes have formed a part of our jokes for 30 years and will do forever i have it on tape and it is continually appreciated br br perhaps some reviewers are taking it too seriously br br i can t believe it is now only available in the us ntsc of course and not in uk where it should be an essential part of the history of british humour'\n",
      " b'avoid the usa version it is with added us footage and the worst dubbing you ve ever heard probably done by new york amateurs the dubbing is so bad that it sounds like mystery science theater 3000 i think a black guy from the bronx does chiba s voice i couldn t watch the entire film it was that bad instead of this americanized version watch chiba s other greats like the streetfighter or karate warriors'\n",
      " b'after having watched guinea pig two questions come in mind besides am i really a psychopath to watch that is it a snuff the answer is no although it s the closest thing to a snuff movie i ve ever seen and then where the hell have they found that girl because she gets tortured for 45 min without any reasons given in fact there is nothing else in this movie fingernails teared off beaten with hands feet tools infested by maggots and many more until the final scene i m still not sure how they did that because it belongs to the japonese underground scene it s obvious she didn t get a lot of money so what were her their motivations br br i saw it in japonese without subtitles but it s not a problem no real dialogues the boys are just insulting her in a few scenes i haven t seen yet all the serial but the first guinea pig is not known for being the best one still i ve rated 8 because if the purpose was making people believe this a snuff the issue is quite good ask charlie sheen the actor but i think they could have gone further which they did in the following ones br br another movie i m hiding from my parents br br 8 10']\n",
      "-----------------------\n",
      "label:  [0 1 1 1 1 0 0 0 1 0 0 0 0 0 1 0 0 0 0 1 0 0 1 1 0 0 1 1 1 0 1 0 1 0 1 0 0\n",
      " 1 0 0 0 1 0 0 0 1 0 1 1 1 1 1 0 0 0 0 1 1 1 0 1 1 0 1]\n",
      "-----------------------\n",
      "total len:  64\n"
     ]
    }
   ],
   "source": [
    "# print first batch from train dataset\n",
    "\n",
    "for example, label in train_dataset.take(1):\n",
    "    print(\"example : \", example.numpy())\n",
    "    print(\"-----------------------\")\n",
    "    print(\"label: \", label.numpy())\n",
    "    print(\"-----------------------\")\n",
    "    print(\"total len: \", len(label.numpy()))"
   ]
  },
  {
   "cell_type": "markdown",
   "metadata": {},
   "source": [
    "### 4. Creating your training and validation splits"
   ]
  },
  {
   "cell_type": "code",
   "execution_count": 164,
   "metadata": {},
   "outputs": [],
   "source": [
    "# create validation dataset\n",
    "val_dataset = train_dataset.take(100) \n",
    "train_dataset = train_dataset.skip(100)\n",
    "\n",
    "# select first 100 batch from train dataset for validation data\n",
    "# each bacth will contain 64 samples and skip first 100 batch from train dataset"
   ]
  },
  {
   "cell_type": "markdown",
   "metadata": {},
   "source": [
    "### 5. Create the text encoder "
   ]
  },
  {
   "cell_type": "markdown",
   "metadata": {},
   "source": [
    "the raw text data needs to be processed before it can be used in a model. The simplest way to process text for training is using the textvectorization layer this layer has many capbiliites."
   ]
  },
  {
   "cell_type": "code",
   "execution_count": 165,
   "metadata": {},
   "outputs": [],
   "source": [
    "# Create the layer, and pass the dataset text to the layer's .adapt method\n",
    "\n",
    "VOCAB_SIZE = 1000\n",
    "encoder = tf.keras.layers.experimental.preprocessing.TextVectorization(max_tokens=VOCAB_SIZE)\n",
    "encoder.adapt(train_dataset.map(lambda text, label: text))"
   ]
  },
  {
   "cell_type": "code",
   "execution_count": 166,
   "metadata": {},
   "outputs": [
    {
     "data": {
      "text/plain": [
       "array(['', '[UNK]', 'the', 'and', 'a', 'of', 'to', 'is', 'br', 'it', 'in',\n",
       "       'i', 'this', 'that', 's', 'was', 'as', 'movie', 'for', 'with'],\n",
       "      dtype='<U14')"
      ]
     },
     "execution_count": 166,
     "metadata": {},
     "output_type": "execute_result"
    }
   ],
   "source": [
    "# create vocabulary of words\n",
    "vocab = np.array(encoder.get_vocabulary())\n",
    "\n",
    "# print top 20 vocab\n",
    "vocab[0:20]"
   ]
  },
  {
   "cell_type": "code",
   "execution_count": 167,
   "metadata": {},
   "outputs": [
    {
     "data": {
      "text/plain": [
       "1000"
      ]
     },
     "execution_count": 167,
     "metadata": {},
     "output_type": "execute_result"
    }
   ],
   "source": [
    "len(vocab)"
   ]
  },
  {
   "cell_type": "code",
   "execution_count": 168,
   "metadata": {},
   "outputs": [
    {
     "data": {
      "text/plain": [
       "array([ 12,   7,   4, 335,   1], dtype=int64)"
      ]
     },
     "execution_count": 168,
     "metadata": {},
     "output_type": "execute_result"
    }
   ],
   "source": [
    "encoded_example = encoder(\"This is a nice pen!\").numpy()\n",
    "encoded_example"
   ]
  },
  {
   "cell_type": "code",
   "execution_count": 169,
   "metadata": {},
   "outputs": [
    {
     "data": {
      "text/plain": [
       "'3'"
      ]
     },
     "execution_count": 169,
     "metadata": {},
     "output_type": "execute_result"
    }
   ],
   "source": [
    "encoder.get_vocabulary()[334]"
   ]
  },
  {
   "cell_type": "code",
   "execution_count": 170,
   "metadata": {},
   "outputs": [
    {
     "data": {
      "text/plain": [
       "array(['', '[UNK]', 'the', 'and', 'a', 'of', 'to', 'is', 'br', 'it', 'in',\n",
       "       'i', 'this', 'that', 's', 'was', 'as', 'movie', 'for', 'with',\n",
       "       'but', 'film', 'you', 'on', 't', 'not', 'he', 'are', 'his', 'have',\n",
       "       'be', 'one', 'all', 'at', 'they', 'by', 'an', 'who', 'so', 'from',\n",
       "       'like', 'there', 'or', 'just', 'her', 'about', 'out', 'if', 'has',\n",
       "       'what', 'some', 'good', 'can', 'more', 'very', 'when', 'she', 'up',\n",
       "       'time', 'no', 'even', 'my', 'would', 'which', 'only', 'really',\n",
       "       'see', 'their', 'story', 'had', 'me', 'well', 'we', 'were', 'much',\n",
       "       'than', 'bad', 'people', 'get', 'great', 'been', 'other', 'do',\n",
       "       'also', 'will', 'because', 'into', 'how', 'don', 'him', 'first',\n",
       "       'most', 'made', 'its', 'then', 'make', 'them', 'way', 'could',\n",
       "       'too', 'movies', 'after', 'any', 'characters', 'think', 'watch',\n",
       "       'character', 'films', 'two', 'many', 'seen', 'love', 'plot',\n",
       "       'being', 'never', 'acting', 'life', 'did', 'show', 'where', 'best',\n",
       "       'know', 'little', 'over', 'off', 'ever', 'man', 'does', 'better',\n",
       "       'your', 'end', 'here', 'scene', 'still', 'these', 'say', 'scenes',\n",
       "       'while', 'why', 'm', 've', 'something', 'such', 'go', 'back',\n",
       "       'should', 'through', 'now', 'those', 'real', 'thing', 'watching',\n",
       "       're', 'actors', 'director', 'funny', 'years', 'though', 'didn',\n",
       "       '10', 'doesn', 'old', 'another', 'before', 'work', 'actually',\n",
       "       'nothing', 'makes', 'find', 'look', 'going', 'new', 'lot', 'same',\n",
       "       'every', 'part', 'few', 'again', 'world', 'down', 'us', 'quite',\n",
       "       'things', 'cast', 'want', 'pretty', 'horror', 'around', 'young',\n",
       "       'seems', 'take', 'big', 'however', 'both', 'fact', 'got',\n",
       "       'thought', 'long', 'enough', 'give', 'between', 'action', 'must',\n",
       "       'comedy', 'own', 'series', 'may', 'without', 'right', 'music',\n",
       "       'guy', 'times', 'always', 'saw', 'd', 'almost', 'come', 'original',\n",
       "       'role', 'gets', 'point', 'done', 'interesting', 'isn', 'whole',\n",
       "       'bit', 'least', 'far', 'family', 'feel', 'minutes', 'tv', 'll',\n",
       "       'might', 'am', '2', 'script', 'last', 'making', 'since',\n",
       "       'anything', 'probably', 'away', 'kind', 'performance', 'girl',\n",
       "       'fun', 'yet', 'anyone', 'woman', 'hard', 'rather', 'day', 'worst',\n",
       "       'sure', 'found', 'played', 'each', 'looking', 'although', 'our',\n",
       "       'screen', 'believe', 'especially', 'trying', 'having', 'dvd',\n",
       "       'course', 'everything', 'book', 'ending', 'goes', 'set', 'put',\n",
       "       'comes', 'different', 'worth', 'maybe', 'sense', 'actor', 'let',\n",
       "       'three', 'play', 'looks', 'someone', 'shows', 'place', 'american',\n",
       "       'reason', 'job', 'main', 'money', 'year', 'watched', 'wasn',\n",
       "       'together', 'once', 'true', 'effects', 'war', 'everyone', 'later',\n",
       "       'half', 'said', 'high', 'audience', 'plays', 'during', 'instead',\n",
       "       'black', 'seem', 'seeing', 'john', 'night', '1', 'beautiful',\n",
       "       'takes', 'himself', 'left', 'special', 'wife', 'version', 'shot',\n",
       "       'excellent', 'idea', 'death', 'house', 'mind', 'else', 'budget',\n",
       "       'star', 'men', 'father', 'fan', '3', 'nice', 'simply', 'poor',\n",
       "       'short', 'used', 'completely', 'second', 'read', 'top', 'line',\n",
       "       'along', 'either', 'less', 'home', 'dead', 'kids', 'help',\n",
       "       'hollywood', 'friends', 'wrong', 'camera', 'low', 'enjoy',\n",
       "       'classic', 'women', 'production', 'boring', 'try', 'full',\n",
       "       'school', 'use', 'couple', 'need', 'given', 'next', 'truly',\n",
       "       'rest', 'performances', 'until', 'stupid', 'sex', 'awful', 'video',\n",
       "       'remember', 'recommend', 'start', 'came', 'tell', 'won',\n",
       "       'understand', 'perhaps', 'getting', 'moments', 'terrible',\n",
       "       'person', 'human', 'mother', 'playing', 'mean', 'wonderful',\n",
       "       'face', 'name', 'often', 'itself', 'keep', 'perfect', 'stars',\n",
       "       'boy', 'style', 'small', 'definitely', 'others', 'written',\n",
       "       'episode', 'head', 'children', 'dialogue', 'yes', 'early', 'went',\n",
       "       'doing', 'lost', 'lines', 'case', 'gives', 'piece', 'oh',\n",
       "       'overall', 'live', 'finally', 'couldn', 'absolutely', 'title',\n",
       "       'friend', 'laugh', 'entertaining', 'certainly', 'picture', 'guys',\n",
       "       'liked', 'worse', 'cinema', 'sort', 'hope', 'supposed', 'called',\n",
       "       'become', 'based', 'loved', 'against', 'mr', 'drama', 'dark',\n",
       "       'entire', 'felt', 'several', 'white', '5', '4', 'sound', 'game',\n",
       "       'fans', 'humor', 'totally', 'beginning', 'waste', 'lead',\n",
       "       'problem', 'direction', 'despite', 'turn', 'final', 'wanted',\n",
       "       'lives', 'under', 'evil', 'example', 'becomes', 'already', 'care',\n",
       "       'able', 'seemed', 'unfortunately', 'b', 'guess', 'killer', 'son',\n",
       "       'heart', 'days', 'side', 'history', 'quality', 'wants',\n",
       "       'throughout', 'fine', 'writing', 'flick', 'run', 'act', 'today',\n",
       "       'michael', 'child', 'amazing', 'art', 'horrible', 'behind', 'past',\n",
       "       'genre', 'eyes', 'girls', 'town', 'god', 'brilliant', 'tries',\n",
       "       'favorite', 'matter', 'turns', 'close', 'enjoyed', 'viewer',\n",
       "       'kill', 'car', 'directed', 'gave', 'works', 'etc', 'late',\n",
       "       'obviously', 'hand', 'parts', 'soon', 'city', 'actress',\n",
       "       'themselves', 'hour', 'kid', 'expect', 'stuff', 'killed', 'starts',\n",
       "       'myself', 'says', 'sometimes', 'group', 'type', 'decent', 'self',\n",
       "       'stop', 'daughter', 'feeling', 'highly', 'blood', 'thinking',\n",
       "       'heard', 'voice', 'experience', 'fight', 'anyway', 'police',\n",
       "       'except', 'writer', 'known', 'slow', 'happens', 'coming', 'happen',\n",
       "       'hero', 'took', 'violence', 'moment', 'stories', 'strong', 'ok',\n",
       "       'hit', 'leave', 'please', 'particularly', 'living', 'cannot',\n",
       "       'roles', 'including', 'cut', 'score', 'told', 'extremely', 'david',\n",
       "       'involved', 'serious', 'save', 'gore', 'age', 'lack', 'wonder',\n",
       "       'wouldn', 'brother', 'james', 'complete', 'obvious', 'murder',\n",
       "       'robert', 'happened', 'chance', 'shown', 'hilarious', 'crap',\n",
       "       'cool', 'ago', 'husband', 'looked', 'simple', 'hell', 'attempt',\n",
       "       'song', 'taken', 'seriously', 'jokes', 'released', 'english',\n",
       "       'exactly', 'interest', 'reality', 'across', 'opening', 'hours',\n",
       "       'running', 'alone', 'sad', 'four', 'possible', 'order', 'yourself',\n",
       "       'none', 'view', 'whose', 'change', 'important', 'wish', 'talent',\n",
       "       'relationship', 'annoying', 'jack', 'level', 'body', 'huge',\n",
       "       'number', 'taking', 'saying', 'career', 'usually', 'shots',\n",
       "       'started', 'silly', 'cinematography', 'room', 'novel', 'light',\n",
       "       'knew', 'documentary', 'ridiculous', 'ends', 'words', 'usual',\n",
       "       'power', 'major', 'call', 'beyond', 'opinion', 'somewhat', 'happy',\n",
       "       'turned', 'middle', 'disappointed', 'ones', 'strange', 'scary',\n",
       "       'mostly', 'television', 'apparently', 'female', 'word', 'knows',\n",
       "       'non', 'talking', 'rating', 'country', 'miss', 'attention',\n",
       "       'modern', '7', 'musical', 'finds', 'upon', 'basically', 'thriller',\n",
       "       'king', 'due', 'episodes', 'fast', 'aren', 'french', 'talk',\n",
       "       'five', 'local', 'earth', 'problems', 'o', 'single', 'clearly',\n",
       "       'ten', 'cheap', 'class', 'predictable', 'entertainment', 'future',\n",
       "       'sequence', 'clich', 'british', 'george', 'team', 'moving',\n",
       "       'straight', 'tells', 'songs', 'review', 'above', '8', 'enjoyable',\n",
       "       'near', 'whether', 'certain', 'supporting', 'similar', 'events',\n",
       "       'filmed', 'dialog', 'comic', 'add', 'haven', 'die', 'sets',\n",
       "       'easily', 'appears', 'romantic', 'space', 'theater', 'message',\n",
       "       'theme', 'eye', 'sister', 'sequel', 'lots', 'mention', 'minute',\n",
       "       'surprised', 'needs', 'gone', 'giving', 'falls', 'clear', 'e',\n",
       "       'soundtrack', 'fall', '9', 'parents', 'working', 'sorry', 'tried',\n",
       "       'named', 'showing', 'release', 'richard', 'tale', 'within',\n",
       "       'stand', 'avoid', 'easy', 'using', 'bring', 'rock', 'deal', 'buy',\n",
       "       'feels', 'hate', 'dull', 'oscar', 'among', 'dr', 'ways', 'lady',\n",
       "       'effort', 'feature', 'subject', 'peter', 'red', 'dog', 'kept',\n",
       "       'suspense', 'viewing', 'stay', 'realistic', 'monster', 'comments',\n",
       "       'greatest', 'editing', 'means', 'fantastic', 'bunch', 'typical',\n",
       "       'check', 'storyline', 'rent', 'elements', 'doubt', 'viewers',\n",
       "       'points', 'nearly', 'crime', 'paul', 'form', 'imagine', 'begins',\n",
       "       'tom', 'move', 'material', 'eventually', 'average', 'doctor',\n",
       "       'famous', 'herself', 'okay', 'somehow', 'actual', 'follow',\n",
       "       'reviews', 'period', 'dance', 'imdb', 'brought', 'general',\n",
       "       'mystery', 'forget', '20', 'premise', 'hear', 'believable',\n",
       "       'killing', 'leads', 'york', 'poorly', 'boys', 'third', 'whatever',\n",
       "       'open', 'surprise', 'situation', 'deep', 'particular', 'expected',\n",
       "       'indeed', 'figure', 'america', 'street', 'society', 'shame',\n",
       "       'weak', 'wait', 'animation', 'lame', 'decided', 'note',\n",
       "       'atmosphere', 'western', 'male', 'learn', 'hot', 'crew', 'truth',\n",
       "       'forced', 'season', 'hands', 'box', 'gay', 'fi', 'needed', 'write',\n",
       "       'sit', 'sci', 'acted', 'free', 'de', 'lee', 'romance', 'difficult',\n",
       "       'question', 'unless', 'possibly', 'footage', 'sexual', 'reading',\n",
       "       'inside', 'sequences', 'credits', 'plus', 'nature', 'interested',\n",
       "       'emotional', 'memorable', 'masterpiece', 'girlfriend', 'leaves',\n",
       "       'joe', 'island', 'cheesy', 'baby', 'otherwise', 'comment',\n",
       "       'japanese', 'features', 'effect', 'weird', 'air', 'meet', 'badly',\n",
       "       'whom', 'begin', 'stage', 'quickly', 'mark', 'copy', 'business',\n",
       "       'unique', 'cop', 'personal', 'total', 'superb', 'water', 'towards',\n",
       "       'sounds', 'beauty', 'screenplay', 'previous', 'nor', 'writers',\n",
       "       'perfectly', 'fire', 'dream', 'became', 'battle', 'meets', 'dumb',\n",
       "       '30', 'incredibly', 'background', 'result', 'crazy', 'forward',\n",
       "       'dramatic', 'keeps', 'joke', 'creepy', 'bill', 'appear', 'various',\n",
       "       'pay', 'older', 'disney', 'directors', 'apart', 'brings',\n",
       "       'setting', 'laughs', 'worked', 'earlier', 'mess', '80',\n",
       "       'development', 'deserves', 'directing', 'ask', 'c', 'era',\n",
       "       'following', 'leading', 'rich', 'realize', 'cute', 'front',\n",
       "       'william', 'secret', 'powerful', 'plenty', 'present', 'portrayed',\n",
       "       'political', 'spent', 'rate', 'meant', 'admit', 'break', 'wasted',\n",
       "       'return', 'success', 'gun', 'caught', 'manages'], dtype='<U14')"
      ]
     },
     "execution_count": 170,
     "metadata": {},
     "output_type": "execute_result"
    }
   ],
   "source": [
    "vocab"
   ]
  },
  {
   "cell_type": "markdown",
   "metadata": {},
   "source": [
    "with default settings, the process is not completely reversible. two reason for this\n",
    "1. the dfualt value for preprocessing.textvectorization standrdize argument is \"lower_and_strip_punctuation\"\n",
    "2. the limited vocabulary size and lack of character-based fallback result in some unknown tokens."
   ]
  },
  {
   "cell_type": "markdown",
   "metadata": {},
   "source": [
    "### 6. Defining your RNN model architecture"
   ]
  },
  {
   "cell_type": "code",
   "execution_count": 171,
   "metadata": {},
   "outputs": [],
   "source": [
    "# create RNN model\n",
    "model = tf.keras.Sequential([\n",
    "    encoder,\n",
    "    tf.keras.layers.Embedding(input_dim=len(encoder.get_vocabulary()), output_dim=64, mask_zero=True), # word2vec\n",
    "    tf.keras.layers.SimpleRNN(64),\n",
    "#     tf.keras.layers.Bidirectional(tf.keras.layers.LSTM(64))\n",
    "    tf.keras.layers.Dense(64, activation=\"relu\"),\n",
    "    tf.keras.layers.Dense(1) # tf.keras.layers.Dense(3, activation=\"softmax\")\n",
    "])\n",
    "\n",
    "# note: if you use activation =sigmoid you will get the probability score for model not the negative scores\n",
    "# but if you use by defualt value then you will get negative and positive value"
   ]
  },
  {
   "cell_type": "markdown",
   "metadata": {},
   "source": [
    "1. this model can be build as a tf.keras.Sequential.\n",
    "2. the first layer is the encoder, which converts the text to a sequence of token indices.\n",
    "3. after the encoder is an embedding layer. an embedding layer stores one vector per word. when called it converts the sequences\n",
    "of word indices to sequences of vectors. theses vecotrs are trainable. after training (on enough data), words with similar meanings ofter have similar vectors\n",
    "4. a recurrent neurel network (RNN) process sequences input by iterating through the elements. RNN pass the outputs from timestep to their input on the next timestep\n",
    "- The tf.keras.layers.bidirectioinal wrapper can aslo be used with an rnn layer. this propagates the input forward and backwards through the rnn layer and then concatenates the final output\n",
    "- the main advanatage to a bidirectional rnn is that the signal from the beginning of the input dosent need to be process all the way through very timestep to affect the output\n",
    "- the main disadvantage of a bidirectional rnn is that you cant efficiently stream predictions as words are being added to the end \n",
    "\n",
    "5. after the rnn has converted the sequences to a single vector the tow layers.dense do some final processing, and convert from this vector representation to a single logit as the classification output."
   ]
  },
  {
   "cell_type": "code",
   "execution_count": 172,
   "metadata": {},
   "outputs": [
    {
     "name": "stdout",
     "output_type": "stream",
     "text": [
      "[[0.12159195]]\n"
     ]
    }
   ],
   "source": [
    "# pass sample input\n",
    "\n",
    "sample_text = (\"the movie was cool. the animatioin and the graphics werer out of this world. i would recommend this movie\")\n",
    "\n",
    "predictions = model.predict(np.array([sample_text]))\n",
    "print(predictions)"
   ]
  },
  {
   "cell_type": "code",
   "execution_count": 173,
   "metadata": {},
   "outputs": [
    {
     "name": "stdout",
     "output_type": "stream",
     "text": [
      "tf.Tensor([[-0.05442395]], shape=(1, 1), dtype=float32)\n"
     ]
    }
   ],
   "source": [
    "# play with models (uncomment one one layer at time and check the output)\n",
    "model2 = tf.keras.Sequential([\n",
    "    encoder,\n",
    "    tf.keras.layers.Embedding(input_dim=len(encoder.get_vocabulary()), output_dim=5, mask_zero=True),\n",
    "     tf.keras.layers.SimpleRNN(5),\n",
    "#     tf.keras.layers.Bidirectional(tf.keras.layers.LSTM(5))\n",
    "     tf.keras.layers.Dense(5, activation=\"relu\"),\n",
    "     tf.keras.layers.Dense(1)\n",
    "])\n",
    "\n",
    "sample_text = (\"the movie was cool\")\n",
    "predictions = model2(np.array([sample_text]))\n",
    "print(predictions)"
   ]
  },
  {
   "cell_type": "markdown",
   "metadata": {},
   "source": [
    "### 7. Compiling your RNN model"
   ]
  },
  {
   "cell_type": "code",
   "execution_count": 174,
   "metadata": {},
   "outputs": [],
   "source": [
    "# compile the model\n",
    "\n",
    "# for binary classification\n",
    "model.compile(loss=tf.keras.losses.BinaryCrossentropy(from_logits=True),\n",
    "              optimizer=tf.keras.optimizers.Adam(1e-4),\n",
    "              metrics=['accuracy'])\n",
    "\n",
    "\n",
    "# for 3 level \n",
    "# model.compile(loss='sparse_categorical_crossentropy',\n",
    "#               optimizer=tf.keras.optimizers.Adam(1e-4),\n",
    "#               metrics=['accuracy'])"
   ]
  },
  {
   "cell_type": "code",
   "execution_count": 175,
   "metadata": {},
   "outputs": [
    {
     "name": "stdout",
     "output_type": "stream",
     "text": [
      "Model: \"sequential_9\"\n",
      "_________________________________________________________________\n",
      "Layer (type)                 Output Shape              Param #   \n",
      "=================================================================\n",
      "text_vectorization_2 (TextVe (None, None)              0         \n",
      "_________________________________________________________________\n",
      "embedding_8 (Embedding)      (None, None, 64)          64000     \n",
      "_________________________________________________________________\n",
      "simple_rnn_6 (SimpleRNN)     (None, 64)                8256      \n",
      "_________________________________________________________________\n",
      "dense_9 (Dense)              (None, 64)                4160      \n",
      "_________________________________________________________________\n",
      "dense_10 (Dense)             (None, 1)                 65        \n",
      "=================================================================\n",
      "Total params: 76,481\n",
      "Trainable params: 76,481\n",
      "Non-trainable params: 0\n",
      "_________________________________________________________________\n"
     ]
    }
   ],
   "source": [
    "model.summary()"
   ]
  },
  {
   "cell_type": "markdown",
   "metadata": {},
   "source": [
    "### 8. Training your model on your training data"
   ]
  },
  {
   "cell_type": "code",
   "execution_count": 176,
   "metadata": {},
   "outputs": [
    {
     "name": "stdout",
     "output_type": "stream",
     "text": [
      "Epoch 1/15\n",
      "525/525 [==============================] - 148s 277ms/step - loss: 0.6890 - accuracy: 0.5018 - val_loss: 0.6187 - val_accuracy: 0.5473\n",
      "Epoch 2/15\n",
      "525/525 [==============================] - 157s 300ms/step - loss: 0.5602 - accuracy: 0.6793 - val_loss: 0.3757 - val_accuracy: 0.8359\n",
      "Epoch 3/15\n",
      "525/525 [==============================] - 151s 287ms/step - loss: 0.3638 - accuracy: 0.8417 - val_loss: 0.3048 - val_accuracy: 0.8686\n",
      "Epoch 4/15\n",
      "525/525 [==============================] - 154s 293ms/step - loss: 0.3180 - accuracy: 0.8640 - val_loss: 0.3164 - val_accuracy: 0.8736\n",
      "Epoch 5/15\n",
      "525/525 [==============================] - 152s 290ms/step - loss: 0.3109 - accuracy: 0.8642 - val_loss: 0.2980 - val_accuracy: 0.8678\n",
      "Epoch 6/15\n",
      "525/525 [==============================] - 153s 292ms/step - loss: 0.2956 - accuracy: 0.8698 - val_loss: 0.2850 - val_accuracy: 0.8702\n",
      "Epoch 7/15\n",
      "525/525 [==============================] - 152s 290ms/step - loss: 0.2842 - accuracy: 0.8785 - val_loss: 0.2999 - val_accuracy: 0.8823\n",
      "Epoch 8/15\n",
      "525/525 [==============================] - 153s 292ms/step - loss: 0.2859 - accuracy: 0.8785 - val_loss: 0.2862 - val_accuracy: 0.8859\n",
      "Epoch 9/15\n",
      "525/525 [==============================] - 150s 285ms/step - loss: 0.2864 - accuracy: 0.8769 - val_loss: 0.2764 - val_accuracy: 0.8878\n",
      "Epoch 10/15\n",
      "525/525 [==============================] - 152s 289ms/step - loss: 0.2727 - accuracy: 0.8822 - val_loss: 0.2686 - val_accuracy: 0.8822\n",
      "Epoch 11/15\n",
      "525/525 [==============================] - 153s 292ms/step - loss: 0.2639 - accuracy: 0.8874 - val_loss: 0.2581 - val_accuracy: 0.8914\n",
      "Epoch 12/15\n",
      "525/525 [==============================] - 152s 289ms/step - loss: 0.2589 - accuracy: 0.8906 - val_loss: 0.2859 - val_accuracy: 0.8852\n",
      "Epoch 13/15\n",
      "525/525 [==============================] - 149s 283ms/step - loss: 0.2521 - accuracy: 0.8941 - val_loss: 0.2592 - val_accuracy: 0.8958\n",
      "Epoch 14/15\n",
      "525/525 [==============================] - 149s 283ms/step - loss: 0.2446 - accuracy: 0.8980 - val_loss: 0.2615 - val_accuracy: 0.8950\n",
      "Epoch 15/15\n",
      "525/525 [==============================] - 148s 282ms/step - loss: 0.2381 - accuracy: 0.9030 - val_loss: 0.2579 - val_accuracy: 0.8897\n"
     ]
    }
   ],
   "source": [
    "EPOCHS = 15\n",
    "\n",
    "results =model.fit(train_dataset,\n",
    "                  epochs=EPOCHS,\n",
    "                  validation_data=val_dataset)"
   ]
  },
  {
   "cell_type": "markdown",
   "metadata": {},
   "source": [
    "### 9. Evaluating your model on your test data"
   ]
  },
  {
   "cell_type": "code",
   "execution_count": 177,
   "metadata": {},
   "outputs": [
    {
     "data": {
      "text/plain": [
       "<AxesSubplot:xlabel='sentiment', ylabel='count'>"
      ]
     },
     "execution_count": 177,
     "metadata": {},
     "output_type": "execute_result"
    },
    {
     "data": {
      "image/png": "[encoded data removed]",
      "text/plain": [
       "<Figure size 432x288 with 1 Axes>"
      ]
     },
     "metadata": {},
     "output_type": "display_data"
    }
   ],
   "source": [
    "sns.countplot(df_test[\"sentiment\"])"
   ]
  },
  {
   "cell_type": "code",
   "execution_count": 178,
   "metadata": {},
   "outputs": [
    {
     "name": "stdout",
     "output_type": "stream",
     "text": [
      "This train_dataset contain 49.93% Neutral Sentiment tweet\n",
      "This train_dataset contain 50.07% Positive Sentiment tweet\n"
     ]
    }
   ],
   "source": [
    "Neg = round(df_test[\"sentiment\"].value_counts()[1]/len(df_test) * 100, 2)\n",
    "Pos = round(df_test[\"sentiment\"].value_counts()[0]/len(df_test) * 100, 2)\n",
    "\n",
    "\n",
    "print('This train_dataset contain {}% Neutral Sentiment tweet'.format(Neg))\n",
    "print('This train_dataset contain {}% Positive Sentiment tweet'.format(Pos))"
   ]
  },
  {
   "cell_type": "code",
   "execution_count": 179,
   "metadata": {},
   "outputs": [
    {
     "data": {
      "text/html": [
       "<div>\n",
       "<style scoped>\n",
       "    .dataframe tbody tr th:only-of-type {\n",
       "        vertical-align: middle;\n",
       "    }\n",
       "\n",
       "    .dataframe tbody tr th {\n",
       "        vertical-align: top;\n",
       "    }\n",
       "\n",
       "    .dataframe thead th {\n",
       "        text-align: right;\n",
       "    }\n",
       "</style>\n",
       "<table border=\"1\" class=\"dataframe\">\n",
       "  <thead>\n",
       "    <tr style=\"text-align: right;\">\n",
       "      <th></th>\n",
       "      <th>review</th>\n",
       "      <th>sentiment</th>\n",
       "      <th>clean_review</th>\n",
       "      <th>label</th>\n",
       "    </tr>\n",
       "  </thead>\n",
       "  <tbody>\n",
       "    <tr>\n",
       "      <th>0</th>\n",
       "      <td>First off I want to say that I lean liberal on...</td>\n",
       "      <td>negative</td>\n",
       "      <td>first off i want to say that i lean liberal on...</td>\n",
       "      <td>0</td>\n",
       "    </tr>\n",
       "    <tr>\n",
       "      <th>1</th>\n",
       "      <td>I was excited to see a sitcom that would hopef...</td>\n",
       "      <td>negative</td>\n",
       "      <td>i was excited to see a sitcom that would hopef...</td>\n",
       "      <td>0</td>\n",
       "    </tr>\n",
       "    <tr>\n",
       "      <th>2</th>\n",
       "      <td>When you look at the cover and read stuff abou...</td>\n",
       "      <td>negative</td>\n",
       "      <td>when you look at the cover and read stuff abou...</td>\n",
       "      <td>0</td>\n",
       "    </tr>\n",
       "    <tr>\n",
       "      <th>3</th>\n",
       "      <td>Like many others, I counted on the appearance ...</td>\n",
       "      <td>negative</td>\n",
       "      <td>like many others i counted on the appearance o...</td>\n",
       "      <td>0</td>\n",
       "    </tr>\n",
       "    <tr>\n",
       "      <th>4</th>\n",
       "      <td>This movie was on t.v the other day, and I did...</td>\n",
       "      <td>negative</td>\n",
       "      <td>this movie was on t v the other day and i didn...</td>\n",
       "      <td>0</td>\n",
       "    </tr>\n",
       "    <tr>\n",
       "      <th>5</th>\n",
       "      <td>Hickory Dickory Dock was a good Poirot mystery...</td>\n",
       "      <td>positive</td>\n",
       "      <td>hickory dickory dock was a good poirot mystery...</td>\n",
       "      <td>1</td>\n",
       "    </tr>\n",
       "    <tr>\n",
       "      <th>6</th>\n",
       "      <td>\"One Crazy Summer\" is the funniest, craziest (...</td>\n",
       "      <td>positive</td>\n",
       "      <td>one crazy summer is the funniest craziest not ...</td>\n",
       "      <td>1</td>\n",
       "    </tr>\n",
       "    <tr>\n",
       "      <th>7</th>\n",
       "      <td>Low-budget schlockmeister Herschell Gordon Lew...</td>\n",
       "      <td>negative</td>\n",
       "      <td>low budget schlockmeister herschell gordon lew...</td>\n",
       "      <td>0</td>\n",
       "    </tr>\n",
       "    <tr>\n",
       "      <th>8</th>\n",
       "      <td>this was absolutely the most tragic pile of ci...</td>\n",
       "      <td>negative</td>\n",
       "      <td>this was absolutely the most tragic pile of ci...</td>\n",
       "      <td>0</td>\n",
       "    </tr>\n",
       "    <tr>\n",
       "      <th>9</th>\n",
       "      <td>I have never understood the appeal of this sho...</td>\n",
       "      <td>negative</td>\n",
       "      <td>i have never understood the appeal of this sho...</td>\n",
       "      <td>0</td>\n",
       "    </tr>\n",
       "  </tbody>\n",
       "</table>\n",
       "</div>"
      ],
      "text/plain": [
       "                                              review sentiment  \\\n",
       "0  First off I want to say that I lean liberal on...  negative   \n",
       "1  I was excited to see a sitcom that would hopef...  negative   \n",
       "2  When you look at the cover and read stuff abou...  negative   \n",
       "3  Like many others, I counted on the appearance ...  negative   \n",
       "4  This movie was on t.v the other day, and I did...  negative   \n",
       "5  Hickory Dickory Dock was a good Poirot mystery...  positive   \n",
       "6  \"One Crazy Summer\" is the funniest, craziest (...  positive   \n",
       "7  Low-budget schlockmeister Herschell Gordon Lew...  negative   \n",
       "8  this was absolutely the most tragic pile of ci...  negative   \n",
       "9  I have never understood the appeal of this sho...  negative   \n",
       "\n",
       "                                        clean_review  label  \n",
       "0  first off i want to say that i lean liberal on...      0  \n",
       "1  i was excited to see a sitcom that would hopef...      0  \n",
       "2  when you look at the cover and read stuff abou...      0  \n",
       "3  like many others i counted on the appearance o...      0  \n",
       "4  this movie was on t v the other day and i didn...      0  \n",
       "5  hickory dickory dock was a good poirot mystery...      1  \n",
       "6  one crazy summer is the funniest craziest not ...      1  \n",
       "7  low budget schlockmeister herschell gordon lew...      0  \n",
       "8  this was absolutely the most tragic pile of ci...      0  \n",
       "9  i have never understood the appeal of this sho...      0  "
      ]
     },
     "execution_count": 179,
     "metadata": {},
     "output_type": "execute_result"
    }
   ],
   "source": [
    "# clean text\n",
    "df_test[\"clean_review\"] = df_test[\"review\"].apply(lambda text : clean_review(text))\n",
    "\n",
    "# create a label columns using manual label encoding\n",
    "lab = {\"positive\":1,\"negative\":0}\n",
    "df_test['label']= df_test[\"sentiment\"].map(lab)\n",
    "df_test.head(10)"
   ]
  },
  {
   "cell_type": "code",
   "execution_count": 180,
   "metadata": {},
   "outputs": [
    {
     "data": {
      "text/html": [
       "<div>\n",
       "<style scoped>\n",
       "    .dataframe tbody tr th:only-of-type {\n",
       "        vertical-align: middle;\n",
       "    }\n",
       "\n",
       "    .dataframe tbody tr th {\n",
       "        vertical-align: top;\n",
       "    }\n",
       "\n",
       "    .dataframe thead th {\n",
       "        text-align: right;\n",
       "    }\n",
       "</style>\n",
       "<table border=\"1\" class=\"dataframe\">\n",
       "  <thead>\n",
       "    <tr style=\"text-align: right;\">\n",
       "      <th></th>\n",
       "      <th>clean_review</th>\n",
       "      <th>label</th>\n",
       "    </tr>\n",
       "  </thead>\n",
       "  <tbody>\n",
       "    <tr>\n",
       "      <th>0</th>\n",
       "      <td>first off i want to say that i lean liberal on...</td>\n",
       "      <td>0</td>\n",
       "    </tr>\n",
       "    <tr>\n",
       "      <th>1</th>\n",
       "      <td>i was excited to see a sitcom that would hopef...</td>\n",
       "      <td>0</td>\n",
       "    </tr>\n",
       "    <tr>\n",
       "      <th>2</th>\n",
       "      <td>when you look at the cover and read stuff abou...</td>\n",
       "      <td>0</td>\n",
       "    </tr>\n",
       "    <tr>\n",
       "      <th>3</th>\n",
       "      <td>like many others i counted on the appearance o...</td>\n",
       "      <td>0</td>\n",
       "    </tr>\n",
       "    <tr>\n",
       "      <th>4</th>\n",
       "      <td>this movie was on t v the other day and i didn...</td>\n",
       "      <td>0</td>\n",
       "    </tr>\n",
       "  </tbody>\n",
       "</table>\n",
       "</div>"
      ],
      "text/plain": [
       "                                        clean_review  label\n",
       "0  first off i want to say that i lean liberal on...      0\n",
       "1  i was excited to see a sitcom that would hopef...      0\n",
       "2  when you look at the cover and read stuff abou...      0\n",
       "3  like many others i counted on the appearance o...      0\n",
       "4  this movie was on t v the other day and i didn...      0"
      ]
     },
     "execution_count": 180,
     "metadata": {},
     "output_type": "execute_result"
    }
   ],
   "source": [
    "df_test = df_test[[\"clean_review\", \"label\"]]\n",
    "df_test.head()"
   ]
  },
  {
   "cell_type": "code",
   "execution_count": 181,
   "metadata": {},
   "outputs": [
    {
     "data": {
      "text/plain": [
       "clean_review    0\n",
       "label           0\n",
       "dtype: int64"
      ]
     },
     "execution_count": 181,
     "metadata": {},
     "output_type": "execute_result"
    }
   ],
   "source": [
    "# check missing values \n",
    "df_test.isna().sum()"
   ]
  },
  {
   "cell_type": "code",
   "execution_count": 182,
   "metadata": {},
   "outputs": [],
   "source": [
    "# convert testing dataset into tensorflow dataset format\n",
    "\n",
    "test_dataset = (\n",
    "    tf.data.Dataset.from_tensor_slices(\n",
    "        (\n",
    "            tf.cast(df_test[\"clean_review\"].values, tf.string),\n",
    "            tf.cast(df_test['label'].values, tf.int32)\n",
    "        )\n",
    "    )\n",
    ")\n",
    "# create batches in test dataset\n",
    "test_dataset = test_dataset.batch(BATCH_SIZE).prefetch(tf.data.AUTOTUNE)"
   ]
  },
  {
   "cell_type": "code",
   "execution_count": 183,
   "metadata": {},
   "outputs": [
    {
     "name": "stdout",
     "output_type": "stream",
     "text": [
      "example :  [b'first off i want to say that i lean liberal on the political scale and i found the movie offensive i managed to watch the whole doggone disgrace of a film this movie brings a low to original ideas yes it was original thus my 2 stars instead of 1 are our film writers that uncreative that they can only come up with this acting was horrible and the characters were unlikeable for the most part the lead lady in the story had no good qualities at all they made her bf into some sort of a bad guy and i did not see that at all maybe i missed something i do not know he was the most down to earth relevant character in the movie i did not shell out any money for this garbage i almost wish peta would come to the rescue of this awful offensive movie and form a protest disgusting thats all i have to say anymore'\n",
      " b'i was excited to see a sitcom that would hopefully represent indian candians but i found this show to be not funny at all the producers and cast are probably happy to get both bad and good feed back because as far as they are concerned it s getting talked about i was ready for some stereotyping and have no problem with it because stereotypes exist for a reason they are usually true but there really wasn t anything funny about these stereotypical characters the fresh of the boat dad who doesn t understand his daughter the radical feminist muslim daughter who by the way is a terrible actress and the young modern indian man trying to run his mosque as politically correct as he can he s a pretty good actor i only see him getting better br br it is very contrived and the dialog doesn t flow that well there was so much potential for something like this but sadly i think it failed and don t really care to watch another episode br br i did however enjoy watching a great canadian actress sheila mccarthy again she s always a treat and a natural at everything she does too bad her daughter in the show doesn t have the same acting abilities'\n",
      " b'when you look at the cover and read stuff about it an entirely different type of movie comes to mind than what you get here then again maybe i read the summary for the other movie called mausolem instead as there were two movies of this title released about the same time with both featuring plots that had key elements in common however reading stuff about that movie here i know i saw this one and not that one and that movie is even less what one would imagine a movie with that title would be about i will be honest i expect more of a zombie type picture and you get that in this movie to some degree however there is more stuff involving the occult and strange powers as the opening scene of the people being taken away by the coroner at the beginning of the film will attest to the movie also has the old theme of kids going somewhere they do not belong to have some crazy party in this case it is in fact a mausoleum the other movie i do not think really has that key feature playing that prominent role in the movie and i see the score for this one is higher too still it was just not the movie i was expecting'\n",
      " b'like many others i counted on the appearance of dennis hopper to make this not a complete waste of time i was sadly mistaken everything negative said about this flic is more than true what takes the cake however is the horrible horrible storyline for the main character br br here s why the planet might be destroyed the only way to recover from it for the entire human race to be saved trough it is to get as many smart capable nice competent people into an underground hide out and dennis hopper is the lone seer scientist with vision who was prepared for the worst and who has realized this but what s the main motivation of stevens sonny d angelo he s angry because dennis has decided who is to be saved or to be doomed while it clearly explained to stevens that dennis character has done everything to warn people of the danger but that he was laughed at the hopper character was the boy with the finger in the dike and now stevens is blaming him for picking and choosing and if that isn t enough he wants to stop everybody from entering this hideout because it isn t fair and he s responsible for the death of the one guy who is humanity s saviour oh my god how stupid can you get br br what s also maddening that imdb forces one to write minimal ten lines about this piece of crap i mean two million in budget what could have been done with that think clerks blair witch and lotsa other movies who have been made for under 100 000 dollars and were still better aaaaargh i count myself lucky that i didn t pay one penny to see this crap and to sit through the end of this utter ber crap is one the most heroic things i ve done this year it s no wonder that the writers of this pile of dung had jobs as camera operator and title designer before'\n",
      " b'this movie was on t v the other day and i didn t enjoy it at all the first george of the jungle was a good comedy but the sequel completely awful the new actor and actress to play the lead roles weren t good at all they should of had the original actor brendon fraiser and original actress i forgot her name so this movie gets the 0 out of ten rating not a film that you can sit down and watch and enjoy this is a film that you turn to another channel or take it back to the shop if hired or bought it was good to see ape the ape back but wasn t as fun as the first they should of had the new george as georges son grown up and still had bredon and whats her face in the film that would ve been a bit better then it was'\n",
      " b'hickory dickory dock was a good poirot mystery i confess i have not read the book despite being an avid agatha christie fan the adaptation isn t without its problems there were times when the humour and there were valiant attempts to get it right was a little overdone and the events leading up to the final solution were rather rushed i also thought there were some slow moments so some of the mystery felt padded however i loved how hickory dickory dock was filmed it had a very similar visual style to the brilliant abc murders and it really set the atmosphere what with the dark camera work and dark lighting the darker moments were somewhat creepy this was helped by one of the most haunting music scores in a poirot adaptation maybe not as disturbing as the one in one two buckle my shoe which gave me nightmares the plot is complex with all the essential ingredients though not as convoluted as buckle my shoe and in some way that is a good thing the acting was very good david suchet is impeccable i know i can t use this word forever but i can t think of a better word to describe his performance in the series as poirot and phillip jackson and pauline moran do justice to their integral characters brilliantly and the students had great personalities and well developed on the whole particularly damian lewis as leonard all in all solid mystery but doesn t rank along the best 7 5 10 bethany cox'\n",
      " b'one crazy summer is the funniest craziest not necessarily the best movie i have ever seen br br just when one crazy scene is done another emerges it never lets you rest just one thing after another the soundtrack is great the songs are the right ones for the scenes br br it is also a clean movie little that is dirty in it br br of course it has the story of the guys you wouldn t trust with your lunch money taking up a challenge and winning over people with more resources who d want to see it if they failed there is a serious side in that parents and children do not live up to each others dreams one should always have an open mind and weigh all the options this applies both to parents and children in one crazy summer the parents are wrong this is not always the case'\n",
      " b'low budget schlockmeister herschell gordon lewis reaches a new low even for him with the gore gore girls a film snicker that possesses all of his technical trademarks badly recorded sound poor lighting and ott gore this would be tolerable even a bit charming if the film at least had an interesting plot blood feast in all its ridiculous glory is a fine example but girls is a total snooze completely unlikable pompous ass private investigator abraham gentry frank kress is recruited by a newspaper reporter to find out who s been murdering out of shape strippers you ll stop caring who the culprit is long before these two are wrapping up the case as before the appeal isn t the plot but the creative methods of bloodletting including a girl s fanny being tenderized with a wooden mallet and the occasional flashes of then risqu skin but this just isn t enough to elevate the material above tedium'\n",
      " b'this was absolutely the most tragic pile of cinema to which i have ever born witness not only was the name a complete misnomer since the film has next to nothing to do with piranhas but the acting is as hollow and stale as the attempt to actually make some kind of plot when you watch this film you cannot help but spend every waking second questioning when you ve had enough and it s time to turn it off unfortunately i waited until the end in my case that s two hours of my life that i will never be able to reclaim'\n",
      " b'i have never understood the appeal of this show the acting is poor debra jo rupp being a notable exception the plots of most episodes are trite and uninspiring the dialogue is weak the jokes unfunny and it is painful to try and sit through even half an episode furthermore the link between this show and the 70s is extremely tenuous beyond the style of dress and the scenery and background used for the show it seems to be nothing more than a modern sitcom with the same old unfunny clich d scripts that modern sitcoms have dressed up as depicting a show from twenty years ago in the hope that it will gain some nostalgic viewers or something like that both happy days and the wonder years employ the same technique much more effectively and are actually a pleasure to watch in contrast to this horrible pathetic excuse for a show'\n",
      " b'mr bug goes to town was the last major achievement the fleischer studios produced the quality of the superman series produced at the same time is evident in this extraordinary film br br the music and lyrics by frank loesser and hoagy carmichael with assistance by flieshcer veteran sammy timberg are quite good but not as much as the scoring of the picture by leigh harline who also scored snow white for disney harline s atmospheric music is superb and a treat for the ears br br the layout and staging of the picture was years ahead of it s time and once again the fleischer s background artists outdid themselves the techincolored beauty of the film cannot be denied and while hoppity the grasshopper is the star the characters of swat the fly and smack the mosquito steal the picture swat s voicing by jack mercer of popeye fame is priceless kenny gardner brother in law of guy lombardo and a featured vocalist in his band does his usual pleasant job in the role of dick dickinsen br br the movie has been criticized for all the wrong reasons the fleischer studios were animation experts par excellence and this shows very clearly in the finished product the movie is tuneful the story great for all ages and the final scenes of the bugs scrambling for their lives upon a rising skyscraper is some of the best staging and animation of any animated film past and present br br do not miss this wonderfully hand drawn film also don t fail to appreciate the title sequence with the most elaborate example of max fleischer s remarkable 3 d sterioptical process which took four months to construct and employed 16 000 tiny panes of glass in the electrified buildings of manhattan br br do not miss mr bug goes to town aka hoppity goes to town i ll wager you ll be bug eyed at the results'\n",
      " b'this is one of my two or three favorite stooges shorts and undoubtedly christine mcintyre s best performance with the trio she is good in a number of other shorts but here she is absolutely brilliant her singing is not funny at all in fact it is downright beautiful but the plot is constructed in such a way that the singing enhances the humor rather than detracting from it we listen to mcintyre sing the entirety of voice of spring no less than three times but it never gets old partly because we don t tire of her voice and partly because it blends so well with the stooges antics the use of operatic soprano in a comedy is reminiscent of kitty carlisle s role in the marx brothers a night at the opera but the singing is much more a part of the comedy here than in opera and mcintyre perhaps more in other performances than here exhibited a comedic talent of her own that carlisle never did the stooges buffoonery mcintyre s singing and a well constructed plot combine for 5 out of 5 stars'\n",
      " b'this is supposed to be based on wilkie collins the woman in white but the only resemblance it bore to that story were the characters names the time period and the settings if they were going to change the story so thoroughly i don t understand why they needed to keep up the pretense that it came from wilkie collins go read the book it s much better'\n",
      " b'of all the british imperialist movies like four feathers charge of the light brigade for example this movie stands out as the cream of the crop it reflects a time when the sun never set on the british empire get over it i won t go into why because so many others have expressed the many reasons that makes this film great i have visited the alabama hills and have photographed the pass through which the british marched and it remains as it was unchanged by time and encroachment by man and vandals and even though i know it s coming seeing din lying dead on a stretcher and when these lines are read br br yes din din din br br you lazarushian leather gunga din br br though i ve belted you and flayed you br br by the livin gawd that made you br br you re a better man than i am gunga din br br i still at 54 years of age get misty eyed and anyone who says they don t is a liar the range of emotions within it is the mark of a great movie like the ending of another great film of mice and men'\n",
      " b'james cagney racketeer and political ward heeler get to become a deputy commissioner of corrections and visits a boys reform school the catch is that cagney is not in it for the graft he genuinely wants to make a difference in the lives of the kids there because he comes from a background like their s br br the villain of the piece is dudley digges who is a grafting chiseler and a sanctimonious hypocrite to boot one of the subtexts of the plot of the mayor of hell is that these kids are mostly immigrants and those that judge them and are in positions of power are those who are here a few generations note in the mess hall scene as digges offers a prayer of thanks for the food they are about to receive digges is eating well but the kids are getting quality you wouldn t feed to your pet br br cagney has his own troubles back in the city with some of his henchmen and he has to take it on the lam that puts digges back in charge and setting up the film for it s climax br br the mayor of hell was a typical product from the working class studio and because it was pre code it gets pretty gruesome at times a later version of this crime school with humphrey bogart and the dead end kids was a more sanitized remake br br although cagney is fine in the lead role as is madge evans the school nurse the acting honors go to dudley digges hard to believe that the same man could portray the drunken but kindly one legged ship s surgeon in mutiny on the bounty but digges is a fine player and a joy to watch in every film he s in br br this film is not shown to often because of the racial and ethnic stereotypes it portrays a whole lot of minorities would be offended today still it s a fine film br br interestingly enough a few years ago the film sleepers came out and it touched on some of the same issues i guess films about reform schools don t change in any time'\n",
      " b'i loved this film not being a swooning ed wood jr fan i prefer to appreciate his boundless enthusiasm and acknowledge his shortcomings his movies are fun but his personal story is one racked with pain i hoped and was delighted to find that this film would be about understanding his turbulent life rather than simply heaping him with posthumous praise from beginning to end this film evolves from a documentary into a mythology leaving the cast and the viewer unexpectedly connected to each other and to ed wood jr br br what we get are people who knew ed wood the best talking about him from all perspectives positive and negative and showing us their character as much as ed s we get insight into ed s personal and professional life from his romances to his drinking to his sexuality to his friends to his enemies and even to his film making br br the film itself is shot in a low budget way that seems done out of respect for ed as if using the techniques of most theatrically released movies from 1996 would be disrespectful sort of like wearing a nicer suit than the president the set designer uses a sense of humor and also a great deal of insight when matching each cast member with their background br br fans will be excited to hear personal testimony regarding ed wood controversies and new comers will be amazed that this man was real the dvd is full of impossible to find gems crossroads of lorado and photo galleries but the real treasure of this film is the surprisingly engaging and interconnected story br br ed wood had a habit of defining people through their association with him for better or worse to the point where one woman will go down in history as swimming pool owner for once letting him and his friends be baptized in her pool this ability to define a person s legacy comes through universally as the most amazing effect of the film is to not only give a well rounded idea of the man that was ed wood jr but also to give a comprehensive view of the community that he created somehow without ever having more that one cast member being interviewed on screen at a time the connection that ed wood created amongst the various people in his life becomes clear and the viewer is left with great sense of involvement br br even the title hints at the b list horror genre but by the end we see that even this is a kindness what begins as unrelated stories by random people ends with the conclusion that all of the cast will be forever weaved into an unpredictably cohesive fabric that history will bring into haunting unity with wood s legend br br in many ways a living contradiction ed wood jr could not be condensed to a single viewpoint this collaborative effort is the closest to knowing him that we can ever get being itself a juxtaposition of themes it is at once respectful provocative thoughtful gripping fun sad kind and fulfilling'\n",
      " b'having already seen the original jack frost i never thought that jack frost 2 would be as absurd as it is boy was i wrong then again a pix movies have a way of showing unbelievably bad material even worse than you might expect i believe this is the first a pix sequel and it may be an indication of what to expect in the future more a pix sequels br br it s hard to watch this without laughing especially during the later parts of the movie in which jack frost s offspring which are essentially snowballs with eyes arms a mouth and sharp teeth start killing people with the typical comedic dialogue and silly voices to go with it they are shown both as puppets with a stick underneath to move them and as computer animation which i have to say looks very cheesy the computer animation surprised me as the first jack frost had no such effects br br i d strongly recommend that you see the original jack frost before seeing this one both of which it would be preferable to watch with a group of friends to get the full amusement out of it and because it would make more sense sense being a relative term br br now only if there was uncle sam 2'\n",
      " b'i had been subjected to this movie for a relationship class in my school as figured it was nothing captivating and nothing new though it tries to be original by focusing on the teen father instead of the mother showing the problems that the dad would go through it had an interesting side to it but it just doesn t live up to its originality due to the fact nothing else in this movie was original we have the main character who has the older sister who like in every other movie like this has a thing against him we have the stay at home mother who expects too much and when he gives more she feels offended and leaves him in the dust then we have the father who is always gone then the girls side we have the parents who want everything and expect her to be perfect at all she does on to the story like i said it was interesting but the lack of good acting from the entire cast and the lack of any good writing or storytelling everything about this fell into clich the little nerd kid in school starts studying with girl they get together have sex and then boom we have a little kid perhaps it could ve been better had the writing been well better and had the acting been improved i ve seriously gotten more emotion out of leatherface and his chainsaw than i did out of any actor in this film and that s pretty bad seeing as the leatherface movies are crap and horridly acted so far the only interesting teen pregnancy movie i ve seen was juno so far the comical side of this serious situation has proved more entertaining while still giving the same message like i said the idea was original most of these films focus on the teen mother but this one chose not to instead it focuses on the drama of the father but again the originality does not save this movie from mediocrity i really hope someone decides to either re make this movie with a better cast and a better writer or just make another similar film because this one was wasted potential'\n",
      " b'this movie is stuffed full of stock horror movie goodies chained lunatics pre meditated murder a mad vaguely lesbian female scientist with an even madder father who wears a mask because of his horrible disfigurement poisoning spooky castles werewolves male and female adultery slain lovers tibetan mystics the half man half plant victim of some unnamed experiment grave robbing mind control walled up bodies a car crash on a lonely road electrocution knights in armour the lot all topped off with an incredibly awful score and some of the worst foley work ever done br br the script is incomprehensible even by badly dubbed spanish horror movie standards and some of the editing is just bizarre in one scene where the lead female evil scientist goes to visit our heroine in her bedroom for one of the badly dubbed that is fantastical i do not understand explain to me again how this is exposition scenes that litter this movie there is a sudden hand held cutaway of the girl s thighs as she gets out of bed for no apparent reason at all other than to cover a cut in the bad scientist s mwahaha all your werewolfs belong mine speech though why they went to the bother i don t know because there are plenty of other jarring jump cuts all over the place even allowing for the atrocious pan and scan of the print i saw br br the director was according to one interview with the star drunk for most of the shoot and the film looks like it it is an incoherent mess it s made even more incoherent by the inclusion of werewolf rampage footage from a different film the mark of the wolf man made 4 years earlier featuring the same actor but playing the part with more aggression and with a different shirt and make up is there a word in spanish for continuity and more padding of another actor in the wolfman get up ambling about in long shot br br the music is incredibly bad varying almost at random from full orchestral creepy house music to bosannova to the longest piano and gong duet ever recorded thinking about it it might not have been a duet it might have been a solo the piano part was so simple it could have been picked out with one hand while the player whacked away at the gong with the other br br this is one of the most bewilderedly trance state inducing bad movies of the year so far for me enjoy br br favourite line ilona this madness and perversity will turn against you how true br br favourite shot the lover discovering his girlfriend slain dropping the candle in a cartoon like demonstration of surprise rank amateur directing there'\n",
      " b'there are times when finishing a film one wishes to have a refund for the time just spent this was one of those times i almost gave up with only 15 minutes left to endure and i wish i had br br the pace that a man goes from a straight laced controlled life to one of complete spinelessness and irresponsibility could never be this rapid br br from a graduation celebration to the predictable ending tristan price jesse metcalfe man of privilege and culture allows himself to be seduced by a woman by violence and by mind altering substances of course the woman part is understandable when observing the talents of the beautiful april nathalie kelley but the in for a penny in for a pound aspect of the drugs violence and dedication to a person he has just met is impossible to understand br br frankly besides being able to stare at nathalie kelley and monica keena this film has no redeeming qualities save your money save your time do anything else'\n",
      " b'another film to punish us for the crime of enjoying pulp fiction br br if you like watching people get killed by machine gun fire for an hour and a half this ll probably fit the bill fans of the debut episode of aeon flux wherein the title character slays literally thousands of seemingly faceless soldiers single handedly will really go for it br br otherwise it s not exactly a clever movie in fact all it is is an excuse for a bunch of young people to act rude and shoot people sometimes an entire scene goes by and the only thing that happens is you guessed it someone gets shot or to spice things up twenty people get shot first they re just sitting there the next minute they re sitting there dead yahoo br br rough plot a young american goes to paris an american in paris get it hires a prostitute the ethereal julie delpy gets in touch with some old french buddies one of which has aids they plan and attempt a bank heist of course movie convention states that no bank robberies on film go off w o a hitch and this hitch takes up about three quarters of the running time it s like dog day afternoon without the sidney lumet s wit patience or humanity while at the bank things go wrong surprise and the parisian with aids goes wacko with his uzi several hundred times no spoilers here but suffice to say that you re at such an emotional distance from these characters that it s not likely you ll care who lives and who dies by the end of the film br br some have called it stylish perhaps it is but it s someone else s style it s a movie that s already been done and killing zoe is trapped by convention nowhere in the course of the movie does the director roger avary co winner of the pulp fiction screenplay oscar do anything really original stylish funky or outrageous unless you consider the fact that no movie that has taken place inside a bank has had such a high body count there isn t anything else to set this one apart from the multitude'\n",
      " b'when the romulans come they will not be bearing gifts no they bring with them war war and conquest as any familiar with this episode know it is a redux of the war film the enemy below from the fifties the obvious difference is that instead of a battleship and a submarine or an american destroyer german u boat engaged in lethal war games it is two starships in outer space in trek history about 100 years before the events here according to this episode earth fought the romulan wars after about 5 years of conflict a stalemate brought about a treaty and the institution of the neutral zone a boundary between us and the romulan empire now on this stardate the treaty appears to be broken as our outposts are being attacked and destroyed by some weapon of immense power yes the romulans are back testing their new war toy and kirk must now earn his pay he must make decisions that would affect this sector of the galaxy such as figuring out how to avoid a oh i dunno an interstellar war maybe br br i think what makes this episode so effective is that it doesn t shy away from the grim aspects of war as one would expect of a mere tv episode from the sixties especially an episode from a science fiction show it s all very tense and gripping like the best war films such as when kirk sits down with his key officers for what amounts to a war council the writers and the actors aren t kidding around here this is all preparation for a ghastly conflict potentially the beginning of another years long battleground in the final analysis kirk s aim is to keep this battleground to just the two ships but even then it s an endeavor fraught with peril and probable casualties in fact i believe this episode holds the record for ship casualties by the end of it right at the start of the episode we see the devastation such battle can produce in that supposedly well protected outpost then begin the cat and mouse war games between the enterprise and the romulan ship it s as exciting as any conflict we ve seen on the big screen of course if you re not into war films you d have to look for other things to admire in this episode br br what elevates this episode even further is the revelation of just what and who the romulans are it s an electric shock of a sort now we have even further inter crew conflict on the bridge of the enterprise war does tend to bring out the worst in some people due to still nasty attitudes about race in this future the tension is ratcheted up even further kirk has his hands full in this one i suppose the one weakness in the story is the convenient relenting of the bigotry issue by the conclusion on the romulan side actor lenard makes his first appearance in the trek universe as the romulan commander he s terrific in the role the flip side of capt kirk or capt pike take your pick done up to resemble spock more than a little surprisingly his character is not war hungry as we would expect another eye opener for this episode the actor would next return to this universe as sarek spock s father so he s nothing if not versatile it s also telling how the first appearance of such characters as the romulans is usually their best shot as it is here they showed up in the enterprise incident next'\n",
      " b'this was a movie that i had heard about all my life growing up but had never seen it until a few years ago it s reputation truly proceeded it i knew of michael myers had seen the mask saw commercials for all of the crummy sequels that followed but i was growing up during the decade where jason and freddy had a deadly grip on the horror game and never thought much of the halloween franchise boy how i was being cheated with cheap knock offs br br halloween is a genuinely terrifying movie now by today s standards it isn t as graphic and visceral but this film delivers on all the other levels most horror movies fail to achieve today the atmosphere that john carpenter creates is so creepy and the fact that it is set in a quaint mid west town is a testament to his ability the lighting effects are down right horrifying with the shape seemingly appearing and disappearing into the shadows at will the simple yet brutally effective music score only adds to the suspense br br the performances by all the players are well done with specific nods to jamie lee curtis and donald pleasance ms curtis is such a good laurie strode because she is so likable and vulnerable it is all the more frightening when she is being stalked by michael myers because the director and viewer have invested so much into her we want her to survive and get away br br donald pleasance plays dr loomis like a man on a mission and it works well he adds a sense of urgency to the predicament the town finds itself in because he knows what evil stalks their streets br br overall not only is halloween a great horror movie but also a great film it works on many levels and draws the audience in and never lets up this should be standard viewing for anyone wanting to experience a truly scary movie and for an even more frightful time try watching it alone with the lights off don t be surprised if you think you see the shape lurking around in the shadows'\n",
      " b'let me begin by saying that there is no bigger fan of the original lonesome dove than i both the pulitzer prize winning book and the towering mini series adapted from it stand alone in my experience as moving dramatic believable and engrossing works there is no comparison between lonesome dove and any western film at least not since the legendary collaborations of john ford and john wayne it was with real reservations that i sat down to watch this new mini series what with mcmurtry s non participation and the missing original cast members after watching the first episode it was clear that this is no lonesome dove in almost every measurable way this sequel falls short of the original but so what i wasn t expecting it to measure up taken as an effort of it s own this film is engaging entertaining and of a very good quality if it were done as a new story not as a sequel to lonesome dove there is no question in my mind that it would not have received as many negative ratings jon voight did a creditable job as call barbara hershey was a terrific clara and the new characters like gideon walker and agostina vega were well rendered and believable louis gossett jr deserves special mention as the horse wrangler isom pickett the film made me care about the characters and i don t ask any more than that from an actor it is unfortunate that this worthy effort stands in the shadow of it s predecessor it is worth viewing in it s own right'\n",
      " b'i wasn t really interested in seeing step up but my friend just kept bugging and bugging me to see this film especially since she is so in love with channing tatum i tease her constantly about it saying how that s the only reason why she loved the movie but she somehow convinced me that it was a movie worth seeing that if i loved movies like dirty dancing take the lead and save the last dance that i should love step up eh what the heck i guess every movie in some way has it s right to a view br br well you know those movies i just mentioned up top dirty dancing take the lead and save the last dance well put them in a blender with some gangsta love in it and that s what you have not to mention if you ve seen those movies well frankly you have seen step up because channing is lower class with street smarts who just naturally feels the music while that snobby up class girl must follow step by step how will they ever fall in love if they are so different after all this is their chance to step up to the passion the mystery and the lust of the dance br br ok that was a silly plot explanation but like i said as long as you ve seen those movies i mentioned or even if you just saw the plot you get the movie i don t understand how it actually has a 5 5 rating i bet it s those channing lovers lol i m kidding with you guys but it s all good i guess i just didn t get what others did with the passion the mystery that is the dance oh antonio bandares where are you when we need you br br 4 10'\n",
      " b'i haven t seen bsg i tried to watch it once in the middle of the show but couldn t get into it however i saw caprica rebirth yesterday i felt a little lost so i decided to watch the pilot today and i must say i was pleasantly surprised i think this is a promising show and the only side effect it had on me is that now i want to watch bsg as well br br but what i really liked is that i didn t have to be a hardcore bsg fan to understand what s going on in caprica from what i have read in the net they were trying to reach the female population since bsg reached way more men and at least in my case it worked br br however i suggest that if you are trying to watch the show do it from the beginning starting with the pilot'\n",
      " b'well it turned out as i expected visual overload but nothing else added to the original what did surprise me however was that the storyline was fairly drastically changed compared to the 1968 flick initially this awoke my interest but what eventually surprised was that the new twists and turns a were apparently invented in order to present us with a typical hollywood like product and b made the whole storyline improbable the 1968 story was breathtakingly straightforward and included no time storms or any bogus of that sort it just stated that when you come home after a long journey things might have changed a bit earth might have fallen in the hands of apes for example like many old movies it s main ingredient was suspense hell does anyone understand that word these days in this burton movie an attempt has been made to turn the whole thing into an action movie but at what cost surely the images are overwhelming and a lot of time and money has been put into the design of a complete ape culture even ape music but what s wrong br br first the suspension of disbelief is made very hard because the apes have a lot of hollywood human traits i refer especially to ari and the slave trader these traits include emotional skills like irony sarcasm and an overtly displayed array of subtle emotions it makes you forget that the apes are apes which is essential br br second the humans talk of course we can imagine that humans will never forget how to speak but the fact that the apes had speech and the humans didn t made the ape human role switching very tangible and stressing in the 1968 version the wound in the throat that charlton heston gets there is essential to his survival and his later regained speech essential to his uniqueness and the interest that dr zira has in him so no need for things like human rights activists or ape human love in order to explain things br br third the fact that they talk ads a great deal to the implausibility but is a necessary twist in the new movie since capt davidson has to play the hollywood let s save the whole world and have a good ending for everyone and still make it to the lounge bar for a cool diet coke character oh my god will they never learn i new it from the start when there was only one guy who got lost they were in need of a hero and then the script writers go on reasoning we need one guy so why would one guy get lost because he tries to save an ape from an electromagnetic storm implausible but it s necessary because it shows the audience that he respects apes since in these modern and politically correct times we can t have a xenophobic ape hater like charlton heston s 68 character loose on the screen let s give them a bubblegum version br br fourth okay the general twist of the original discovering the truth of the 1968 film to the modern version he finds that his own mother ship crashed on the planet ages ago and that their lab apes developed their society where heston simply discovered that just somehow the apes overtook the earth while he was away is nicely done the second battle part comes as an anti climax that s because this movie has added the first two planet of the apes movies in one plot nice try but the chill you feel when davidson and you discover that he s lost on the planet forever just washes out due to the uninteresting battle part br br fifth the ending for chrissakes who came up with that a davidson crashes twice with his escape pod which seems an unsteerable object while the chimp manages to simply land gracefully come on who d believe that if the pods are really small space crafts davidson simply flies off into space at the end and not merely escape vessels he might have managed a safe landing at least once no and what about that ending i mean in the original film it was clear that everything took place on earth but here the whole movie takes place on a distant planet and suddenly the same there s a thade statue ape culture is on earth how come did the apes of the far planet evolve technologically flew into the time storm and colonised earth before davidson s mission took off why is thade worshiped stupid stupid stupid br br helena bonham carter is even adorable and beautiful as an ape but i d expected no less i preferred her ape above estella warren as a human but maybe i got some loose wire in my head nevertheless the only convincing apes were tim roth as thade wonderful and ari s household ape the ex general but i forgot his name br br nonono a lot of things could and should have been added altered to the 1968 pic but not the plot at least not in that way it was simple and clear and needed no additional explaining it was nicely tongue in cheek and caricatured don t stylize everything'\n",
      " b'cooley high was actually a drama with moments of comedy it was a reflection of high school life back in the day i attended coolidge high in washington d c from 1976 to 1979 and much of what was in cooley high was an every day thing at coolidge as a matter of fact after the movie came out everybody started calling coolidge cooley high getting high shooting dice chasing girls basement parties and fights that sums up high school life for many in d c back in the day i can t forget motown because motown music began and ended many a day back in the 70s the hits just kept coming however cooley high adds a layer of humanity over the craziness because when all was said and done just like in cooley high my classmates and i had a lot of love for each other and like the characters in cooley high there was life after high school but there was nothing like waking up every morning and experiencing each day to the fullest from homeroom to seventh period thirty years later we are getting ready to celebrate those good times cooley high is definitely a period piece that just gets better with time because like it or not the only thing left from those days are memories some good and some bad'\n",
      " b'this is a great movie for any fan of hong kong action movies asides from it s little plot the weak drama and bits of comedy antics the movie is action packed with gun fighting and martial arts action kept me entertained from beginning until the end i thought shannon lee was awesome in the movie br br having an action director like corey yuen is what keeps hong kong action going strong this modern action film is highly recommended'\n",
      " b'i m trying to understand what people liked about mirrormask i am an avid film viewer and hobbyist film maker as i was telling friends during my lunch hour mirrormask may well be my biggest movie disappointment of the year just like the short moongirl the film missed its marks several times during the movie it made attempts at humor it sets you up for the laugh instead of making you laugh it leaves you feeling empty the jokes reminded one of the recent star wars films they weren t funny unless you were five and the acting felt similarly terrible i ve seen actors actually act in front of a blue screen and i ve believed it but not in this film not for a second br br this film takes a formula and tries to apply it with pretty artwork and though the script is totally workable and the special effects quite beautiful it has no heart to it and fails miserably i left the film shaking my head and considered leaving the theater i felt hallow and miserable and still haven t gotten the sour taste out of my mouth from it i love independent film i encourage people to view independent films to support them but not this film this film shouldn t have been made at least not like this why did the director miss the marks so clearly they were clearly setup not just the humor but the emotions the drama even the lines were poorly timed and delivered it was like the film walked on three legs instead of four its steps are awkward and miss timed and it could fall over with the slightest push don t see this film i don t care who you are it isn t worth your time'\n",
      " b'loved the film this was my first glimpse at both reese witherspoon and jason london both of which are two of my favorites must say that no matter how many times i ve seen this movie i can t help but tear up one of those movies that should become a classic for all'\n",
      " b'over christmas break a group of college friends stay behind to help prepare the dorms to be torn down and replaced by apartment buildings to make the work a bit more difficult a murderous chucks wearing psycho is wandering the halls of the dorm preying on the group in various violent ways br br registered as one of the 74 video nasties listed by the u k in the 1980s the dorm that dripped blood had a good reputation built up for it prior to first viewing the term video nasty strikes into mind some images of some great explicit gore violence sex etc all the things a horror fan dreams of so after hearing all of that info i settled into pranks alt title expecting a sleazy slasher experience and that s what it tried to be but failed pretty much completely visually the film s not great the cinematography gore except for a couple scenes and overall direction all fail it s simply not enjoyable to watch the unoriginal script is lacking and often throws in random things without any real reason like the opening kill there are some cool death scenes including a pretty nice face melt which can be seen on the poster but that s about it for the positive the acting is pretty bad the story seems unimportant the killer isn t cool or scary and it suffers the one major error that any slasher flick should always avoid it s a bit boring overall for a film done by a few ucla film students for 90 000 which would be over double that today the dorm that dripped blood isn t a total mess it has a couple good things and is fairly watchable but as a slasher flick looking to be on the level of films like the house on sorority row and pieces it just cannot compare don t expect much and you may at least be entertained i hate to say it but this is one of the few films i ve seen that would actually be better with a remake and yet they go after great works like black christmas oh well br br obligatory horror elements br br subgenre slasher br br violence gore there are some brutally cool kills and the gore is okay for the most part but nothing special also they off screened some of the best murders br br sex nudity there s a little unappealing to me nudity but not very much br br cool killer s nah the ending monologue s of the killer made him her pretty uncool br br scares suspense a jump scare or two but nothing too effective br br mystery i suppose yeah but i simply didn t care enough and it s as obvious as the nose on the killer s face br br br br final verdict 3 75 10 bah humbug br br ap3'\n",
      " b'the mayor of hell has the feel of an early dead end kids film but with a much harder edge and very few light spots preceding the first appearance of the dead enders by four years james cagney has a full screen opening credit even though technically the mayor of the movie s title is actually portrayed by frankie darro one of several boys sent to reform school during the opening scenes darro s character is jimmy smith a young tough who s befriended by patsy gargan cagney and is elected to the position when gargan takes a chance at humanizing conditions at a state reformatory br br warner brothers made a lot of these types of films attempting to provide a conscience of sorts in an era that only too well knew about the effects of crime and poverty this movie is quite gritty with no apologies for ethnic stereotyping as in the submissive posture of a black father in court or the way a jewish kid gets to run a candy shop in the reform school the rules at the reformatory are simple enough work hard and keep your mouth shut step out of line and you answer personally to warden thompson dudley digges br br cagney s role in the story seems somewhat ambiguous since even though he makes a serious effort to improve conditions inside the reformatory on the outside he s still nominally in control of a criminal racket the film s attempt to juggle this dichotomy falls short in my estimation the finale attempts to wrap things up in a neat package as gargan awaits the outcome of a near fatal shooting of one of his henchmen not exactly the kind of role modeling one would look for in a film like this br br warner brothers would sanitize some of the elements of this story in a 1938 remake titled crime school featuring humphrey bogart in the cagney role and billy halop in the frankie darro part if you re partial to the dead end kids you ll probably like the latter film better since it also offers familiar faces like leo gorcey huntz hall bobby jordan and gabriel dell however the ending is somewhat muddied in that one too with bogart s warden character involved in a cover up of a prison breakout both films offer a romantic interest for the lead characters in mayor madge evans is a reform minded nurse that falls for cagney s character br br curiously a lot of james cagney s early films aren t commercially available so you ll have to keep your eyes peeled for a screening on turner classics or source the film from a private collector personally i can t get enough of this kind of stuff and find intriguing points of interest in the films of all genres from the thirties and forties'\n",
      " b'this two part tv mini series isn t as good as the original from 1966 but it s solid the original benefited from a huge number of things it was all in black and white it had a great jazz score and it was filmed at the real locations including the home of the doomed clutter family that was important because in the book and in the original movie the home is very much a character itself br br this remake was filmed in canada which i guess doubles okay for kansas the story tries to be as sympathetic to perry as it dares to and eric roberts plays him as a somewhat fey person his homosexuality barely hidden the gentler take by roberts doesn t quite work in the end though because it s hard to believe that his version of perry smith would just finally explode in a spasm of murder whereas robert blake s take on smith left you no doubt that his perry smith was an extremely dangerous character br br anthony edwards was excellent as the bombastic big mouthed and ultimately cowardly dick hickcock the brains of the outfit his performance compares very well to scott wilson s role in the original movie br br since this is a longer movie it allows more time to develop the clutter family and in this regard i think the 1996 movie has an advantage the clutters are just an outstanding decent family they ve never harmed another soul and it is just inexplicable that such a decent family is ultimately massacred in such a horrifying way it still boggles my mind that after the clutters were locked in the bathroom that herb clutter didn t force out the window so at least his children would have a chance to escape this movie has the thought occur to him but too late from what i read about the real home which is still standing the way the bathroom is configured they could ve opened the counter drawers and effectively barricaded the door which would ve forced the killers to blast their way in but it might ve bought time for some of the clutters to escape why the clutters didn t try this i have no idea br br fans of the book will recognize that this movie takes a lot of liberties with how the crime is committed but not too serious still it s distracting to viewers like me who have read tons about the case the actors playing the cops led by sam neill and leo rossi are uniformly excellent much better i think as a group than the actors in the original movie they know that to secure the noose around the necks of both of them they have to get them to confess and the officers come to the interview impeccably prepared they had already discovered the likely alibi the phony story of going to fort scott and had debunked every jot of it the officers then let smith hickcock just walk into their trap hickcock is a b s artist who figures he can convince anyone of anything and the officers respectfully let him tell his cover story but when they lower the boom on him he shatters very quickly it s very well filmed and acted and very gratifying to watch because the viewer naturally should loath hickcock in particular by this point a cowardly con man who needs the easily manipulated smith to do his killing for him supposedly hickcock later stated that the real reason for the crime wasn t to steal money from the clutters but to rape nancy clutter at least she was spared that degradation br br the actors playing the clutters are very good kevin tighe as herb clutter in particular the story sensitively deals with mrs clutter s emotional problems most likely clinical depression and mrs clutter displays remarkable inner strength when she firmly and strongly demands that the killers leave her daughter alone from what i ve read the clutters surviving family was particularly bothered by how bonnie clutter was portrayed in the book claiming it was entirely untrue but as an aside both of the killers related to the police how mr clutter asked them to not bother his wife because of her long illness capote might make up that fiction to make the character of bonnie more interesting but certainly the killers had no reason to falsely portray mrs clutter and no doubt much of the conversation in the book duplicated in the movies is right off the taped confessions of the killers so it would ve been nonsensical for herb to have said that and not have it be true'\n",
      " b'the pilot is extremely well done it lays out how the characters bond in future episodes i don t think anyone could have created a better pilot for this show it displays remarkable creativity on the writers part although not everything was straightened out because it was the very first episode a lot of events that happen in future seasons were demonstrated in the pilot an example would be ross and rachels future relationship even though the nervousness of a first episode appeared it was overcome by an amazing plot and outstanding cast choice br br bravo br br a great start to an unbeatable comedy'\n",
      " b'this miserable film is a remake of a 1927 film they should have let it remain that way br br what a colossal bomb douglas fairbanks displays absolutely no charisma here cesar romero is subjected to a role as a real jerk and bette grable sings with a chorus what i ll do to that hungarian br br the ridiculous plot deals with a picture of a woman in a castle in 1561 rome that saved the day by killing a conqueror fairbanks now let s fast forward to 300 years later where grable just married to the count romero faces a similar situation when on her wedding night there is an invasion by hungarian soldiers br br romero acts cowardly and flees before the army arrives he disguises himself as a gypsy and is made to remain at the castle when his violin playing pleases fairbanks the ending is worse than the entire wretched film when grable meets fairbanks to tell him the good news an enraged romero has annulled the marriage br br this poor imitation of a movie was made in 1948 as harry davenport a veteran supporting player who is in it died in 1949 this must have been his last film what a bomb to go out with after such a distinguished career br br walter abel co stars but he can do little with such poor writing the costumes look more like those that would come out of the stone age i can t fathom what fairbanks was wearing'\n",
      " b'i have to start off by apologizing because i thought the first 75 80 of this film was hilarious it s mostly because of brad pitt s performance spot on br br the acting by all involved was quite good but brad stole the movie the atmosphere was perfect in all respects i m not a giant pitt fan but this has got to be one of his best roles ever br br brutal honest gritty all good words to describe this movie br br i was reading a previous review and the person said that the reasoning behind early s violence isn t explained it is explained but they thankfully don t have to go into graphic detail to get their point across br br overall i gave this a 9 because every scene bar 1 or 2 was effective i think the humor in the first half or so is perfect for this movie underrated'\n",
      " b'this is burt reynolds citizen kane tragically nothing else he was ever involved in came close to approaching sharkey s machine it seemed to me that he put everything he had into it it is a movie that is in love with movies the opening sequence where detective sharkey single handedly rescues a bus load of hostages is an immensely exciting piece of cinema everything moves so quickly once it has started to go wrong that it appears to take on a life of its own a brilliantly achieved effect it looks cold tense and dangerous on mr reynolds streets the precinct house looks dirty and tired full of desperate people on both sides of the law shouting cursing out trying to do deals or just stay alive into this underworld descends the recently demoted sharkey a reward for a bungled drugs bust caused by a corrupt cop he and his team are part of the vice squad information they pick up concerning a crooked politician leads them into the world of high class call girls and ruthless drug barons watching the apartment of one such call girl rachel ward sharkey falls in love with her portrait on the wall i know i know and when a woman s body is found with its face shot off in one of the rooms he thinks its her well i did say it was a movie that loved movies the scene where she walks in on him works beautifully even if you have seen the original the film is full of good touches i particularly like charles durning s war story subtly acted and shot in sharp contrast to sharkey s abduction and torture which is suitably harsh and brutal i must mention vittorio gassman and henry silva as two disparate but equally evil brothers with absolutely no redeeming features whatsoever they are full on every time they re on screen and are no loss to society when their time comes mr silva s end being extra special indeed as has been mention this is a clint eastwood movie that clint never made the biggest compliment i can pay sharkey s machine is to point out that in my opinion clint eastwood couldn t have made a better job of it the soundtrack is of an equally high standard featuring sarah vaughan joe williams julie london chet baker and other top class artists randy crawford s street life plays behind the title sequence and i can never hear it without in my mind s eye seeing sharkey striding along the sidewalk like other correspondents i have never understood why this film was a bit of a flop i hope it is due for a critical revision particularly at a time when so many cop movies and shows without a quarter of its energy freshness and sheer joie de vivre are lauded from the rooftops if you re ever tempted to think of burt reynolds as a burnt out one trick pony put sharkey s machine in your video machine i promise you won t be disappointed'\n",
      " b'without a doubt one of tobe hoppor s best epic storytellng great special effects and the spacegirl vamp me baby'\n",
      " b'this must rank as one of cinema s greatest debacles i was wandering europe at the time and had the misfortune to stumble upon the crew making this movie in what was even then one of the world s idyllic unspoiled settings i was enlisted as an extra and what followed was an exhibition of modern day debauchery forget all the accusations you ve ever heard of peter mayall s intrusions on this rare piece of french life geoff reeve and his cohorts embarked on a level of revelry at the restaurant at les beaux that left the maitre d slack jawed in disbelief they were quite simply awful uncultured and undeserving of french hospitality'\n",
      " b'this anime is a must see for fans of evangelion it s an earlier work of anno hideaki but his unrestrained dramatic style is quite in place also those who didn t like evangelion might find this release to bit slightly more palatable gunbuster is rather unique to sci fi anime in that it s actually based on real science in fact the show has several little science lesson interludes explaining the physics behind some of the events in the movie one of the big dramatic points in the film is the relative passage of time at speeds near that of light the series does a wonderful job of dealing with the imaginably traumatic experience of leaving earth on a six month mission traveling near the speed of light and returning to an earth where ten years have passed the main character remains age 17 or 18 throughout the entire series while almost all of the other characters age considerably be warned this show is heavy on the sap at times it also has a couple of the most wholly unmerited breast shots that i have ever seen i found it fairly easy to ignore the skimpy uniforms and boo hoo scenes because the series is otherwise very good but viewers with a low sap tolerance might want to stay away from this one on an interesting note gainax as always managed to run out of money in the last couple of episodes however they managed to use black and white film and still action sketches to produce a good resolution anyway the ending is a bit silly but it left me with such a good feeling in my gut i couldn t help but love it gunbuster is in my opinion one of the finest pieces of anime around'\n",
      " b'don t see this movie bad acting and stupid gore effects a complete waste of time i was hoping to see a lot of cool murders and hot chicks instead the director depended on animal slaughter videos to shock you the watcher disgusting the murders are pretty lame basically strangulation one woman he stuffs worms in her mouth one he puts raw hamburgers on her face and strangles her btk btk broiler burger king s killer new sandwich ha ha i don t think this movie relied too much on actual facts i mean he real btk killer didn t carry around a bunch of rodents scorpions and worms and oh yeah a slaughtered cow head too go figure'\n",
      " b'i haven t any idea how commentators could regard this as a decent b western or how one commentator said the plot was more cohesive than most nothing could be farther from the truth this movie is one huge non sequitur it is an affront to the noble b western films of the 30 s i have seen many of wayne s early lone star and republic westerns and this one is easily the worst br br the bad guy is known as the shadow for crying out loud initially the shadow s scheme is holding up open sided stage coaches simultaneously his gang rustles all of the cattle in the territory then they decide to move on to bank robbery to do this they need to shoot up the town with a machine gun no explanation of why that s necessary or how he got that neato little toy br br no single scheme is revealed in enough detail to suggest a plot here the shadow is obviously just a generally bad guy with all kinds of generally evil schemes br br he imparts his instructions to his gang through a fake wall safe knock knock who s there he is apparently clairvoyant because whenever his henchmen need to talk to him they knock on the wall the safe opens and presto he s there i can just imagine that he has met them face to face and says i have some secret nefarious instructions to give you about our next evil deed meet me at the wall safe and i ll give em to you just why the shadow requires the safe to communicate with his army of outlaws is like most of the elements of this mess never explained br br he has a nifty tunnel to the ol hollow stump across the street from which vantage point various of his baddies perform assassinations he also has a hidden panel not in his secret lair behind the fake safe but out in the main room br br when not behind the safe he hangs out on his cow less ranch masquerading as rancher matlock we learn that he has murdered the true owners of the ranch two brothers and assumed the identity of one the daughter of the dead brother has recently arrived from 1930 s nyc judging by her wardrobe and she apparently never met her real uncle because he dupes her too br br if you thought that bad guys always wore black hats and good guys white hats you need to see this movie here the good guys all ditch their hats in favor of white head bands that make them look like they have all suffered head wounds before any shots have been fired it s like a game of pick up basketball only wayne has them tying bandanas round their heads instead of just taking off their shirts br br perhaps the weirdest of all is the ending immediately after subduing the shadow and his gang we jump far enough into the future to see wayne and his wife the erst while niece on the front porch of their home never mind that there has been scant romance there yak is playing with wayne s 3 4 year old son dressed up in injun garb hiyoo skookum fun br br no thanks to this nonsense wayne went on to become a screen legend only a super star packer or not could surmount this entry in a film resume long live the duke'\n",
      " b'office work especially in this era of computers multi functional copy machines e mail voice mail snail mail and temps is territory ripe with satirical possibilities a vein previously tapped in such films as clockwatchers and office space and very successfully this latest addition to the temp humor pool however haiku tunnel directed by josh kornbluth and jacob kornbluth fails to live up to it s predecessors and leaves the laughs somewhere outside the door waiting for a chance to sneak in unfortunately for the audience that chance never comes so what you get is a nice try but as the man once said no cigar br br as the narrator star of the film josh kornbluth playing josh kornbluth points out in the opening frames in a monologue delivered directly into the camera this story is pure fiction and takes place in the fictional city of san franc l isco it s an innovative if not very imaginatively presented disclaimer and not all that funny it is however a harbinger of what is to follow all of which like the disclaimer just isn t all that funny br br kornbluth plays kornbluth an aspiring novelist who supports himself working as a temp it s a job that suits him and it gives him time to slip in some work on his novel from time to time but when he goes to work for a lawyer bob shelby warren keith he does too good a job on the first day and shelby dispatches head secretary marlina d amore helen shumaker to kornbluth to persuade him to go perm the thought of working full time for the same company though initially strikes fear in the heart of kornbluth but he caves in and signs on for the position he s nervous about it but at least now the other secretaries acknowledge his presence which of course they would never do with a temp and if things get too rough he has seventeen important letters he s typed up that now just have to be mailed out to fall back on he s been holding them back because the mailing is the easy part and he needs that something easy to do in reserve in case it all gets to be too much for him these are important letters however and by the end of the week kornbluth still has them in reserve on his desk and it doesn t take a genius to figure out that when shelby finds out about it kornbluth s days as the fair haired boy are going to be over and quick br br the brothers kornbluth who not only directed but along with john bellucci also wrote the screenplay for this film should have taken a page out of the ben stiller book of comedy where it says if you play it straight they will laugh but they didn t and the audience won t because in comedy even looking at it as objectively as possible when the main character as well as most of the supporting characters in this case plays funny as in he knows he s being funny he never is and that s exactly what kornbluth does here so rather than being funny he comes across as insincere and pretentious a grievous error in judgment on the part of the kornbluths because by allowing it they sabotaged their own movie br br in trying to discern exactly why this movie doesn t work it comes down to two basic reasons the directing which if not necessarily bad is at least careless and secondly the performances beginning with that of josh kornbluth quite simply kornbluth just seems too impressed with himself to be effective here unlike stiller or even steve martin both of whom use self deprecating humor very effectively kornbluth apparently has an ego that simply will not allow putting himself in that light he seems to have a need to let his audience know that he the real kornbluth is in reality much more clever than kornbluth the character and being unable to get past that does him in as well as the film rather than give the millions of office workers who may see this film someone to whom they can relate or with whom they can identify kornbluth affects a condescending manner that only serves to alienate the very people he is attempting to reach so what it all comes down to is a case of poor directing and unconvincing acting and when you take into consideration that the screenplay itself was weak to begin with with an inexplicably narrow focus given the potential of the rich subject matter it s easy to understand why this one just doesn t fly br br the one saving grace of the film is the performance by warren keith as shelby whose subtle delivery is convincing and which in and of itself is fairly humorous the effectiveness of it is diminished however inasmuch as keith has to share his scenes with kornbluth which somewhat automatically cancels out his positive contributions to the project br br shumaker and sarah overman julie faustino also manage to keep their heads above water with their respective performances which are commendable if not entirely memorable they at least make their scenes watchable and overman even manages to elevate kornbluth s performance if only momentarily but it s still not enough to save the day or the film br br the supporting cast includes amy resnick mindy brian thorstenson clifford june lomena davonne joe bellan jimmy the mail clerk with a cameo appearance by a disheveled looking harry shearer as the orientation leader a role that begs for an answer to the question what was he thinking when he agreed to this in any work environment there will forever be situations arising that one way or another will unavoidably become fodder for someone s comedic cannon and the films depicting said situations will always be with us the good ones see paragraph one may even become classics in their own right haiku tunnel however will doubtfully remain very long amongst them for it s destiny lies elsewhere in a realm known only as obscurity i rate this one 1 10 br br br br'\n",
      " b'this film was not only one of john ford s own personal favorites but also numbered directors sergei m eisenstein and bertrand tavernier among its high profile admirers ironically i ve just caught up with it myself via criterion s recent 2 disc set after missing out on a couple of original language screenings of it on italian tv many years ago and again a few times on tv while in hollywood br br the film marked ford s first of nine collaborations with henry fonda and is also a quintessential example of ford s folksy americana vein a beautifully made and pictorially quite poetic piece of work the courtroom sequences and eventual revelation in its second half still pack quite a wallop apart from giving stalwart character actor donald meek a memorably meaty role as the prosecuting attorney br br fonda is of course perfectly cast as a bashful inexperienced but rigorous and humanistic lawyer who was destined to become president fonda would go on to portray other fictitious politicians on film most notably in franklin j schaffner s the best man 1964 and sidney lumet s fail safe 1964 and it s surprising now to learn that he was reluctant at the time about accepting the role of lincoln since in his view that was like playing god br br it is interesting to note here that ford had previously tackled abraham lincoln tangentially in the prisoner of shark island 1936 a superb but perhaps little known gem which has luckily just been released as a special edition dvd by the uk s veritable criterion stand in eureka s masters of cinema label besides i also have two more abraham lincoln films in my dvd collection which i ve yet to watch and incidentally both were directed by d w griffith the birth of a nation 1915 and abraham lincoln 1930 and had i not just received a bunch of films i ve never watched before just now i would have gladly given them a spin based on my highly satisfying viewing experience with young mr lincoln'\n",
      " b'this familiar story of an older man younger woman is surprisingly hard edged bikers hippies free love and jail bait mix surprisingly well in this forgotten black and white indie effort lead actress patricia wymer as the titular candy gives the finest performance of her career spanning all of 3 drive in epics wymer was precocious and fetching in the young graduates 1971 but gives a more serious performance in the babysitter the occasional violence and periodic nudity are somewhat surprising but well handled by the director leads wymer and george e carey sell the may december romance believably there are enough similarities between the babysitter and the young graduates to make one wonder if the same director helmed the latter film as well patricia wymer where are you br br hailing from seattle wa miss wymer had appeared as a dancer on the tv rock and roll show malibu u before gracing the cover as well as appearing in an eight page spread of the august 1968 issue of best for men a tasteful adults only magazine she also appeared as a coven witch in the popular 1969 cult drive in shocker the witchmaker br br the babysitter has finally made its home video debut as part of the eight film bci box set drive in cult classics vol 3 which is available from amazon com and some retail stores such as best buy'\n",
      " b'i have to admit that out of the many many thriller movies i have seen this has to be one of the worst i was shocked to discover that this piece of work had a 1 5 mil budget when it started i thought that the opening sequence was pretty good fairly standard for this kind of film but pretty good anyway but as the film progressed i began to feel distinctly uncomfortable with the lack of pace that i was seeing each sequence seemed to take hours the reason for this could have been that by now the film had already bored me to tears nothing was happening other than endless accusations peppered with confusing flashbacks and the occasional fit of bad temper well after wading through what felt like a lifetime of these scenes we finally reached the big finale an all singing all dancing demonstration of how lack of imagination can completely ruin what could have been a good film br br overall i found this movie predictable and tedious and i would not recommend this film to anyone other than those people i personally dislike but if you have a couple of hours to waste and you want to watch a thriller that is not even remotely scary this is the movie for you'\n",
      " b'andy lau and lau ching wan are both superb in johnny to s tautly directed crime thriller which puts most western efforts to shame think of it as the hong kong heat only better everything about the film screams class from the performances to the soundtrack the cinematography to the script the tone remains serious throughout but the film has a nice line in black humour friendship and romance at it s heart sure it gets a little preposterous later on but it would be a hard hearted viewer who didn t find something to love about this movie thank god hollywood hasn t yet re made and ruined a classic do yourself a favour and see this film'\n",
      " b'it could have been a marvelous story based on the ancient races of cat people but it wasn t br br this work could have been just that marvelous and replete with mythological references which kept my fascination fueled the lead characters charles brady played by brian krause and his mother mary played by alice krige were shallowly done had no depth of personality and were hardly likable or drawing not even m dchen amick who played tanya robertson s character fit into that description br br however as i ve said many times before when you adapt a stephen king novel for tv you simply must take into account the fact that his books aren t written for tv and his screenplay talent sadly lacks the fire and depth he exhibits as a novelist br br this is another botched attempt to take the magick of stephen king writing whether that is of his novels or an original screenplay to simply cut and paste his work onto the small screen his novels get completely bastardized in the process and all you end up creating is a nice movie nothing less but certainly nothing more his screenplays are hit and miss unfortunately this screenplay translation was a miss br br sorry sorry sorry movie br br this movie gets a 1 0 10 from br br the fiend'\n",
      " b'speck was apparently intended to be a biopic related to serial killer richard speck there is however not much killing to be found in this movie and none of it is explicitly shown the most disturbing scene in the entire movie is perhaps when speck stomps one of the eight unfortunate nurses to death in her own bathtub yet even this is merely implied and not shown save for a few unconvincing downward thrusts of mr speck s leg the most entertaining part of this movie is most likely the voice over which should be a testament to the mind numbingly boring nature of this movie every aspect of this movie is horrible unless you have a fondness for boredom don t bother this movie only clocks in at 72 minutes but it feels like an eternity'\n",
      " b'fast paced funny sexy and spectacular cagney is always terrific blondel charms you with her wit and energy it s obvious that this is a pre censorship film by the innuendo in the script the costumes and the way they touch each other and bikinis before there were bikinis this is no holds barred fun for everyone i don t understand the john garfield issue though does it matter whether or not he s in this film if he is he screen is so short that he s basically a prop you need to watch it frame by frame to even find him if he s there i m a big cagney fan but had never seen this one before i found it on turner classics i found it by wonderful accident sit back and enjoy the ride'\n",
      " b'as an actor i really like independent films but this one is amateur at best br br the boys go to vermont for a civil service yet when the plane lands it flies over a palm tree were the directors aware that palm trees are not in vermont pines yes palms no and the same for the wedding service again nice grove of palm trees br br when the boys are leaving vt they apparently could not get a ticket on any major airline since the plane that is filmed is federal express did they ship themselves overnight in a crate come on guys little details like this separate an indi film from totally amateur br br the christian brother is far gayer than arthur with his bleached hair and tribal band tattoo the two should have switched roles br br the minor characters are laughable and overact something terrible br br applause to the directors for making a gay film but pay some attention to your locations and casting next time'\n",
      " b'as much as i love ellen barkin who is really underrated i have to boo this movie if you can t tell who did it and why in the first half hour you obviously have never seen a psycho sexual thriller or have never watched 20 20 it s like the filmmakers and actors didn t care that they way they were shooting it and they way they were playing the characters would be a dead giveaway br br overall this movie serves to turn on the dirty perverts who like to mix violence and sex not a fun movie to sit through although if you like ellen barkin it s nice to see her place a tough lady'\n",
      " b'while william shater can always make me smile in anything he appears in and i especially love him as denny crane in boston legal well this show is all about glitz and dancing girls and screaming and jumping up and down br br it has none of the intelligence of millionaire none of the flair of deal or no deal br br this show is all about dancing and stupid things to fill in the time br br i watched it of course just to check it out i did watch it for over 45 minutes then i had to turn it off br br the best part of it was william shatner dancing on the stage he is a hoot unfortunately this show will not make it br br that s a given'\n",
      " b'there seems to be an overwhelming response to this movie yet no one with the insight to critique its methodology which is extremely flawed it simply continues to propogate journalistic style analysis which is that it plays off of the audiences lack of knowledge and prejudice in order to evoke an emotional decry and outburst of negative diatribe br br journalism 101 tell the viewer some fact only in order to predispose them into drawing conclusions which are predictable for instance the idea of civil war chaos looting etc were all supposedly unexpected responses to the collapse of governmental infrastructure following hussein s demise were these not all symptomatic of an already destitute culture doctrinal infighting as symptomatic of these veins of islam itself rather than a failure in police force to restrain and secure would they rather the us have declared marshall law i m sure the papers here would ve exploded with accusations of a police state and fascist force br br aside from the analytical idiocy of the film it takes a few sideliners and leaves the rest out claiming so and so refused to be interviewed yet the questions they would ve asked are no doubt already answered by the hundred inquisitions those individuals have already received would you as vice president deign to be interviewed by a first time writer producer which was most certainly already amped to twist your words they couldn t roll tape of condi to actually show her opinion and answer some of the logistics of the questions perhaps they never watched her hearing br br this is far from a neutral glimpse of the situation on the ground there this is another biased asinine approach by journalists which are by and large unthinking herds br br anyone wanting to comment on war ought at least have based their ideas on things a little more reliable than nbc coverage and cnn commentary these interpretations smack of the same vitriol which simply creates a further bipartisanism of those who want to think and those who want to be told by the media what to think'\n",
      " b'everyone likes the coolly created memorable heist movie alain delon provides the antihero melville provides the cool and a handful of other great talent yves montand gian maria volonte and andre bourvil mostly arrives to add a crisp engaging movie br br with very little dialog this is great because one certain aspect of the genre tends to be a lot of dialog involving the quick witted and their various repartees this movie however could be watched with the sound completely off and not too terribly much would be missed not to say the sound is bad oh no the jazzy soundtrack and the crisp audio catching the little movements makes the slow patient deliberation of the patients very compelling br br what s also really neat about this film is that the color cinematography is pretty fantastic usually when it comes to cinematography black and white movies tend to stick out in my mind but this film has some very strong and beautiful imagery that makes the movie pure visual pleasure to observe br br polarisdib'\n",
      " b'quai des orfevres directed by the brilliant henri georges clouzot is a film to treasure because it is one of the best exponents of french film making of the postwar years m clouzot adapting the steeman s novel longtime defence shows his genius in the way he sets the story and in the way he interconnects all the characters in this deeply satisfying movie that as dbdumonteil has pointed out in this forum it demonstrates how influential cluzot was and how much the next generation of french movie makers are indebted to the master especially claude chabrol br br the crisp black and white cinematography by armand thirard has been magnificently transferred to the criterion dvd we recently watched working with clouzot thirard makes the most of the dark tones and the shadows in most of the key scenes the music by francis lopez a man who created light music and operettas in france works well in the context of the film since the action takes place in the world of the music halls and night clubs br br louis jouvet who is seen as a police detective is perfect in the part this was one of his best screen appearances for an actor who was a pillar of the french theater jouvet clearly understood well the mechanics for the creation of his police inspector who is wiser and can look deeply into the souls of his suspects and ultimately steals the show from the others in an unfair comment by someone in this page jouvet s inspector is compared with peter falk s columbo the television detective frankly and no disrespect to mr falk intended it s like comparing a great champagne to a good house wine br br bernard blier is perfect as the jealous husband blier had the kind of face that one could associate with the man consumed with the passion his wife jenny lamour has awakened in him martineau is vulnerable and doesn t act rationally he is an easy suspect because he has done everything wrong as he finds in the middle of a crime he didn t commit but all the evidence points to the contrary br br the other great character in the film is dora the photographer it s clear by the way she interacts with jenny where her real interest lies simone renant is tragically appealing as this troubled woman and makes an enormous contribution to the film suzy delair playing jenny is appealing as the singer who suddenly leaps from obscurity to celebrity and attracts the kind of men like brignon the old lecher br br the film is one of the best clouzot directed during his distinguished career and one that will live forever because the way he brought all the elements together'\n",
      " b'i admit i had some trepidation when i first saw the previews for this film was vh 1 treading on hollow ground here i mean harris and quinn don t really look or even sound like john or paul but i have to admit this film really surprised me it s far from the exploitation film i expected instead it s a character study a low key whimsical and ultimately bittersweet look at friendship and the ultimate lesson we all learn it s hard if not impossible to capture what we once had and what has passed us by'\n",
      " b'once big action star who fell off the face of the earth ends up in a small town with a problem with drug dealers and a dead body of a federal agent reuniting with some former co stars to clean up the town br br low key often to the point of blandness action comedy mostly just doesn t work part of the problem is the casting chris klien as a former action hero he s not bad but he s really not believable as some one who was taken to be a tough guy as i said he s not bad he s just just miscast for what his back story is the real problem here is the combination of the script which really isn t funny and seems artificial at times and the direction which is pedestrian to the port of dullness there is no life in the way things are set up its as if the director had a list of shots and went by that list it makes for an un engaging film and yet the film occasionally springs to life such as the in the final show down that ends the film that sequence works but because the earlier parts of the film floundered its drained of much of its power br br i can t really recommend the film its worth a shot if you re a fan of the actors or are a huge fan of independent cinema in all its forms but otherwise this is just a disappointment'\n",
      " b'this film is just a shame orlando florida seems to becoming a more recognized filmmaking area like vancouver s rise to prominance the brothers was shot in central florida and this short film is a bit of a setback for the area which made great strides with the indie film walking across africa and the great hbo miniseries from earth to the moon br br i will try to be as honest as possible i think orlando was the perfect place to film the brothers it had the potential to give a new spin on the boy band craze after all both n sync and the backstreet boys come from this area but the brothers falls short probably because of a weak script both lead characters are flat with almost no development part of this could be the amatuer actors but some of it is certainly the way the script was written br br also a problem is the choice of jokes many of the jokes are too repetitive they do come off funny the first time but it does grow to be a bit boring some of the concert scenes are staged poorly and many of these scenes also don t seem to move the story along in any way br br i had high hopes for this one but alas its a disappointing effort i also hope the best for the upcoming feature based on this short but i think the best thing for filmmaker john figg is to move to different genres quickly comedy isn t his strong suit but its indisputable that he definitely is one of the more prominant filmmakers in the orlando area its just a shame that right now he s infamous not famous br br'\n",
      " b'brian keith as cole wlikerson and richard jaeckel as wade matlock make excellent villains they just love intimidating the locals in the most brutal way possible and sneer sexily at any suggestion that there might be a more humane way to achieve their ends it s a pity that goody goody glenn ford gets in their way'\n",
      " b'you can find an anti war statement here without looking too hard that layer is hackneyed or you can find a value neutral comment on the madness of war stripped of judgement that layer is completely uninteresting br br or you can watch this for the darn good entertainment value of duvall s one liners but that s just a coating for commercial mastication br br you can try to view this as a realistic vietnam war film but ask any veteran and he ll swat down that notion most vets will say it stinks br br or view it as a will he or won t he morality play nothing rich there either br br where i found the value was in the superb self reference coppola needed a container with great enough dimensions the war to fit the greatness of the skilled multi dimensional actor playing a great man br br brando the man was as much of a maverick as the kurtz character the studios were uncomfortable with his acting method yet he always excelled and won accolades the generals are uncomfortable with kurtz s unsound methods in spite of his strategic genius br br so coppola makes a movie all about brando s greatness to hammer on the point he places himself in the movie as hopper a manic photojournalist laden with multiple cameras to spout his praises brando himself is only seen in half light and silhouettes brilliant cinematography by storaro that only increases the actor s power and he goes out like the sacrificial bull to complete the narrative equation oh yes the horror br br other pieces of interest the great use of point of view camera perspectives including being in the firefight long before private ryan the ground breaking use of sound notably the ominous flanging sweeps and the sonic depiction of an acid trip br br don t get caught in the outer layers the rich part you should despoil from this is the brilliant core of sound vision and self reference'\n",
      " b'comedy central has a habit of putting on great programs at times chappelle s show the daily show colbert report and then there are those that some people love or hate stella dr katz then there are some shows that have their defenders but are just plain awful mencia and now sarah silverman br br this show is based on the fact silverman is self centered which can be funny colbert report but can be horrible mind of mencia it should shock no one that i believe the latter is the case this show is a parody of a sitcom and society a program so absurd it loses itself in its absurdity and it simply isn t funny a woman farting has been done in comedy many many times because its not something that s common we don t need 25 minutes of it when a criminal is disarmed by a queef it simply loses its appeal we saw it in jay and silent bob strike back except the women were hotter and the whole scene was more absurd making it better but the best comparison of this show is to stella except stella was more subtle which is what made the absurdist comedy funny it had better acting and i suppose a bit more of a fantastical realist view br br perhaps the fact some reviews are so negative i m very skeptical of the critical acclaim but do not dispute fan reaction to this show is the amount of advertising on it very obnoxious ads through many programs far outdo advertising on for other programs many people are wondering why sarah silverman has a career and others are still bitter when better shows have been canceled this show should ve never made it past the unaired pilot stage back to norm showed far more promise yet this show makes it further and as far as critics being correct many things have been universally panned have seen their status rise immensely last i checked britney spears gets good reviews too also take that comparison however you want because someone will no doubt accuse me of being psychotic on imdb for not liking this show'\n",
      " b'anyone who complains about peter jackson making movies too long should sit through this cbs event there s about 45 minutes of story padded by 2 hours of unnecessary subplots featuring bland by the book tv drama clich s bad science is a staple for crappy weather disaster movies so i m not going to complain about that silly science can be fun to watch if it s executed in an amusing fashion what kills this movie is it s 10 subplots all of which could be excised without destroying what is supposed to be the central plot the one character that is entertaining to watch in category 6 is tornado tommy despite being a very annoying stereotype br br note that i also didn t bother commenting on special effects their quality should come as no surprise br br not recommended']\n",
      "-----------------------\n",
      "label:  [0 0 0 0 0 1 1 0 0 0 1 1 0 1 1 1 0 0 1 0 0 1 1 1 0 1 0 1 1 0 1 0 1 1 1 0 1\n",
      " 1 1 0 1 0 0 0 1 1 0 1 0 0 1 0 0 0 0 1 1 1 0 0 1 1 0 0]\n",
      "-----------------------\n",
      "total len:  64\n"
     ]
    }
   ],
   "source": [
    "for example, label in test_dataset.take(1):\n",
    "    print(\"example : \", example.numpy())\n",
    "    print(\"-----------------------\")\n",
    "    print(\"label: \", label.numpy())\n",
    "    print(\"-----------------------\")\n",
    "    print(\"total len: \", len(label.numpy()))"
   ]
  },
  {
   "cell_type": "code",
   "execution_count": 184,
   "metadata": {},
   "outputs": [
    {
     "name": "stdout",
     "output_type": "stream",
     "text": [
      "157/157 [==============================] - 13s 81ms/step - loss: 0.3336 - accuracy: 0.8580\n"
     ]
    }
   ],
   "source": [
    "test_loss, test_acc = model.evaluate(test_dataset)"
   ]
  },
  {
   "cell_type": "code",
   "execution_count": 185,
   "metadata": {},
   "outputs": [
    {
     "name": "stdout",
     "output_type": "stream",
     "text": [
      "Test Loss: 0.3336085379123688\n",
      "Test Accuracy: 0.8579999804496765\n"
     ]
    }
   ],
   "source": [
    "print(\"Test Loss: {}\".format(test_loss))\n",
    "print(\"Test Accuracy: {}\".format(test_acc))"
   ]
  },
  {
   "cell_type": "code",
   "execution_count": 186,
   "metadata": {},
   "outputs": [
    {
     "data": {
      "image/png": "[encoded data removed]",
      "text/plain": [
       "<Figure size 720x576 with 1 Axes>"
      ]
     },
     "metadata": {},
     "output_type": "display_data"
    }
   ],
   "source": [
    "# plot the training and validation loss\n",
    "N = np.arange(0, EPOCHS)\n",
    "plt.style.use(\"ggplot\")\n",
    "plt.figure(figsize = [10,8])\n",
    "plt.plot(N, results.history[\"loss\"], label=\"train_loss\")\n",
    "plt.plot(N, results.history[\"val_loss\"], label=\"val_loss\")\n",
    "plt.title(\"RNN: Training & Validation Loss\")\n",
    "plt.xlabel(\"Epoch #\", weight=\"bold\")\n",
    "plt.ylabel(\"Loss\", weight=\"bold\")\n",
    "plt.legend()\n",
    "plt.show()"
   ]
  },
  {
   "cell_type": "code",
   "execution_count": 187,
   "metadata": {},
   "outputs": [
    {
     "data": {
      "image/png": "[encoded data removed]",
      "text/plain": [
       "<Figure size 720x576 with 1 Axes>"
      ]
     },
     "metadata": {},
     "output_type": "display_data"
    }
   ],
   "source": [
    "# plot the training and validation accuracy\n",
    "N = np.arange(0, EPOCHS)\n",
    "plt.style.use(\"ggplot\")\n",
    "plt.figure(figsize = [10,8])\n",
    "plt.plot(N, results.history[\"accuracy\"], label=\"train_acc\")\n",
    "plt.plot(N, results.history[\"val_accuracy\"], label=\"val_acc\")\n",
    "plt.title(\"RNN: Training and Validation Accuracy\")\n",
    "plt.xlabel(\"Epoch #\", weight=\"bold\")\n",
    "plt.ylabel(\"Accuracy\", weight=\"bold\")\n",
    "plt.legend()\n",
    "plt.show()"
   ]
  },
  {
   "cell_type": "code",
   "execution_count": 188,
   "metadata": {},
   "outputs": [
    {
     "name": "stdout",
     "output_type": "stream",
     "text": [
      "[[-1.423577]]\n",
      "negative\n"
     ]
    }
   ],
   "source": [
    "# predict on a sample text \n",
    "\n",
    "sample_text = (\"The movie was not Good, I would not recommend this movie.\")\n",
    "\n",
    "prediction = model.predict(np.array([sample_text]))\n",
    "print(prediction)\n",
    "\n",
    "if prediction[0][0] >= 0:\n",
    "    print(\"positive\")\n",
    "else:\n",
    "    print(\"negative\")"
   ]
  },
  {
   "cell_type": "markdown",
   "metadata": {},
   "source": [
    "### 10. Saving the model"
   ]
  },
  {
   "cell_type": "code",
   "execution_count": 189,
   "metadata": {},
   "outputs": [
    {
     "name": "stdout",
     "output_type": "stream",
     "text": [
      "[INFO] serializing network...\n",
      "INFO:tensorflow:Assets written to: model/sentiment_RNN_15epochs.model\\assets\n"
     ]
    }
   ],
   "source": [
    "# save the model to disk\n",
    "print(\"[INFO] serializing network...\")\n",
    "model.save(\"model/sentiment_RNN_15epochs.model\", save_format=\"H5\")"
   ]
  },
  {
   "cell_type": "code",
   "execution_count": 190,
   "metadata": {},
   "outputs": [
    {
     "name": "stdout",
     "output_type": "stream",
     "text": [
      "[INFO] model loaded succesfully..\n"
     ]
    }
   ],
   "source": [
    "from tensorflow.keras.models import load_model\n",
    "new_model = load_model(\"model/sentiment_RNN_15epochs.model\")\n",
    "print(\"[INFO] model loaded succesfully..\")"
   ]
  },
  {
   "cell_type": "code",
   "execution_count": 191,
   "metadata": {},
   "outputs": [
    {
     "name": "stdout",
     "output_type": "stream",
     "text": [
      "Model: \"sequential_9\"\n",
      "_________________________________________________________________\n",
      "Layer (type)                 Output Shape              Param #   \n",
      "=================================================================\n",
      "text_vectorization_2 (TextVe (None, None)              0         \n",
      "_________________________________________________________________\n",
      "embedding_8 (Embedding)      (None, None, 64)          64000     \n",
      "_________________________________________________________________\n",
      "simple_rnn_6 (SimpleRNN)     (None, 64)                8256      \n",
      "_________________________________________________________________\n",
      "dense_9 (Dense)              (None, 64)                4160      \n",
      "_________________________________________________________________\n",
      "dense_10 (Dense)             (None, 1)                 65        \n",
      "=================================================================\n",
      "Total params: 76,481\n",
      "Trainable params: 76,481\n",
      "Non-trainable params: 0\n",
      "_________________________________________________________________\n"
     ]
    }
   ],
   "source": [
    "new_model.summary()"
   ]
  },
  {
   "cell_type": "markdown",
   "metadata": {},
   "source": [
    "### 11. Making predictions for unseen data"
   ]
  },
  {
   "cell_type": "code",
   "execution_count": 192,
   "metadata": {},
   "outputs": [
    {
     "data": {
      "text/plain": [
       "clean_review    0\n",
       "label           0\n",
       "dtype: int64"
      ]
     },
     "execution_count": 192,
     "metadata": {},
     "output_type": "execute_result"
    }
   ],
   "source": [
    "# check missing value \n",
    "df_test.isnull().sum()"
   ]
  },
  {
   "cell_type": "code",
   "execution_count": 193,
   "metadata": {},
   "outputs": [
    {
     "data": {
      "text/html": [
       "<div>\n",
       "<style scoped>\n",
       "    .dataframe tbody tr th:only-of-type {\n",
       "        vertical-align: middle;\n",
       "    }\n",
       "\n",
       "    .dataframe tbody tr th {\n",
       "        vertical-align: top;\n",
       "    }\n",
       "\n",
       "    .dataframe thead th {\n",
       "        text-align: right;\n",
       "    }\n",
       "</style>\n",
       "<table border=\"1\" class=\"dataframe\">\n",
       "  <thead>\n",
       "    <tr style=\"text-align: right;\">\n",
       "      <th></th>\n",
       "      <th>clean_review</th>\n",
       "      <th>label</th>\n",
       "    </tr>\n",
       "  </thead>\n",
       "  <tbody>\n",
       "    <tr>\n",
       "      <th>0</th>\n",
       "      <td>first off i want to say that i lean liberal on...</td>\n",
       "      <td>0</td>\n",
       "    </tr>\n",
       "    <tr>\n",
       "      <th>1</th>\n",
       "      <td>i was excited to see a sitcom that would hopef...</td>\n",
       "      <td>0</td>\n",
       "    </tr>\n",
       "    <tr>\n",
       "      <th>2</th>\n",
       "      <td>when you look at the cover and read stuff abou...</td>\n",
       "      <td>0</td>\n",
       "    </tr>\n",
       "    <tr>\n",
       "      <th>3</th>\n",
       "      <td>like many others i counted on the appearance o...</td>\n",
       "      <td>0</td>\n",
       "    </tr>\n",
       "    <tr>\n",
       "      <th>4</th>\n",
       "      <td>this movie was on t v the other day and i didn...</td>\n",
       "      <td>0</td>\n",
       "    </tr>\n",
       "  </tbody>\n",
       "</table>\n",
       "</div>"
      ],
      "text/plain": [
       "                                        clean_review  label\n",
       "0  first off i want to say that i lean liberal on...      0\n",
       "1  i was excited to see a sitcom that would hopef...      0\n",
       "2  when you look at the cover and read stuff abou...      0\n",
       "3  like many others i counted on the appearance o...      0\n",
       "4  this movie was on t v the other day and i didn...      0"
      ]
     },
     "execution_count": 193,
     "metadata": {},
     "output_type": "execute_result"
    }
   ],
   "source": [
    "df_test.head()"
   ]
  },
  {
   "cell_type": "code",
   "execution_count": 194,
   "metadata": {},
   "outputs": [],
   "source": [
    "# prediction on unseen data\n",
    "y_pred = model.predict(np.array(df_test[\"clean_review\"]))"
   ]
  },
  {
   "cell_type": "code",
   "execution_count": 195,
   "metadata": {},
   "outputs": [
    {
     "data": {
      "text/plain": [
       "array([[-5.397298  ],\n",
       "       [-2.9195707 ],\n",
       "       [ 0.90318733],\n",
       "       [-6.117399  ],\n",
       "       [-1.7362643 ],\n",
       "       [ 5.6022024 ],\n",
       "       [ 3.0012772 ],\n",
       "       [-5.873928  ],\n",
       "       [-2.695051  ],\n",
       "       [-0.69141096]], dtype=float32)"
      ]
     },
     "execution_count": 195,
     "metadata": {},
     "output_type": "execute_result"
    }
   ],
   "source": [
    "y_pred[:10] # confidence for each class"
   ]
  },
  {
   "cell_type": "code",
   "execution_count": 196,
   "metadata": {},
   "outputs": [],
   "source": [
    "# convert conf to 1 if +conf else 0\n",
    "y_pred_bool = []\n",
    "for conf in y_pred:\n",
    "    if conf[0] >= 0:\n",
    "        y_pred_bool.append(1)\n",
    "    else:\n",
    "        y_pred_bool.append(0)\n",
    "\n",
    "df_test[\"pred\"] = y_pred_bool"
   ]
  },
  {
   "cell_type": "code",
   "execution_count": 197,
   "metadata": {},
   "outputs": [
    {
     "data": {
      "text/html": [
       "<div>\n",
       "<style scoped>\n",
       "    .dataframe tbody tr th:only-of-type {\n",
       "        vertical-align: middle;\n",
       "    }\n",
       "\n",
       "    .dataframe tbody tr th {\n",
       "        vertical-align: top;\n",
       "    }\n",
       "\n",
       "    .dataframe thead th {\n",
       "        text-align: right;\n",
       "    }\n",
       "</style>\n",
       "<table border=\"1\" class=\"dataframe\">\n",
       "  <thead>\n",
       "    <tr style=\"text-align: right;\">\n",
       "      <th></th>\n",
       "      <th>clean_review</th>\n",
       "      <th>label</th>\n",
       "      <th>pred</th>\n",
       "    </tr>\n",
       "  </thead>\n",
       "  <tbody>\n",
       "    <tr>\n",
       "      <th>0</th>\n",
       "      <td>first off i want to say that i lean liberal on...</td>\n",
       "      <td>0</td>\n",
       "      <td>0</td>\n",
       "    </tr>\n",
       "    <tr>\n",
       "      <th>1</th>\n",
       "      <td>i was excited to see a sitcom that would hopef...</td>\n",
       "      <td>0</td>\n",
       "      <td>0</td>\n",
       "    </tr>\n",
       "    <tr>\n",
       "      <th>2</th>\n",
       "      <td>when you look at the cover and read stuff abou...</td>\n",
       "      <td>0</td>\n",
       "      <td>1</td>\n",
       "    </tr>\n",
       "    <tr>\n",
       "      <th>3</th>\n",
       "      <td>like many others i counted on the appearance o...</td>\n",
       "      <td>0</td>\n",
       "      <td>0</td>\n",
       "    </tr>\n",
       "    <tr>\n",
       "      <th>4</th>\n",
       "      <td>this movie was on t v the other day and i didn...</td>\n",
       "      <td>0</td>\n",
       "      <td>0</td>\n",
       "    </tr>\n",
       "  </tbody>\n",
       "</table>\n",
       "</div>"
      ],
      "text/plain": [
       "                                        clean_review  label  pred\n",
       "0  first off i want to say that i lean liberal on...      0     0\n",
       "1  i was excited to see a sitcom that would hopef...      0     0\n",
       "2  when you look at the cover and read stuff abou...      0     1\n",
       "3  like many others i counted on the appearance o...      0     0\n",
       "4  this movie was on t v the other day and i didn...      0     0"
      ]
     },
     "execution_count": 197,
     "metadata": {},
     "output_type": "execute_result"
    }
   ],
   "source": [
    "df_test.head()"
   ]
  },
  {
   "cell_type": "markdown",
   "metadata": {},
   "source": [
    "### 12. confusion matrix"
   ]
  },
  {
   "cell_type": "code",
   "execution_count": 198,
   "metadata": {},
   "outputs": [],
   "source": [
    "def plot_confusion_metrix(y_true, y_pred,classes,\n",
    "                         normalize=False,\n",
    "                         title='Confusion Matrix',\n",
    "                         cmap=plt.cm.Blues):\n",
    "    \"\"\"\n",
    "    Objective\n",
    "    ----------\n",
    "    plot confussion matrix, classification report and accuracy score\n",
    "    \n",
    "    parameters\n",
    "    ----------\n",
    "    y_true : array-like of shape (n_samples,)\n",
    "        Ground truth (correct) target values.\n",
    "\n",
    "    y_pred : array-like of shape (n_samples,)\n",
    "        Estimated targets as returned by a classifier.\n",
    "    \n",
    "    classes : list\n",
    "        List of labels to index the matrix\n",
    "        \n",
    "    title : title for matrix\n",
    "    cmap : colormap for matrix \n",
    "    \n",
    "    returns \n",
    "    ----------\n",
    "   all accruacy matrix \n",
    "    \"\"\"\n",
    "    \n",
    "    \n",
    "    cm = confusion_matrix(y_true,y_pred)\n",
    "    \n",
    "    \n",
    "    if normalize:\n",
    "        cm = cm.astype('float') / cm.sum(axis=1)[:, np.newaxis]\n",
    "        print(\"Normalized Confusion Matrix\")\n",
    "    else:\n",
    "        print(\"Confusion Matrix, Without Normalisation\")\n",
    "\n",
    "    \n",
    "    plt.imshow(cm, interpolation='nearest',cmap=cmap)\n",
    "    plt.title(title)\n",
    "    plt.colorbar()\n",
    "    tick_marks = np.arange(len(classes))\n",
    "    plt.xticks(tick_marks,classes,rotation=35)\n",
    "    plt.yticks(tick_marks,classes)\n",
    "    \n",
    "    fmt = '.2f' if normalize else 'd'\n",
    "    thresh = cm.max() /2.\n",
    "    \n",
    "    for i , j in itertools.product(range(cm.shape[0]), range(cm.shape[0])):\n",
    "        plt.text(j, i, format(cm[i,j], fmt),\n",
    "                 horizontalalignment='center',\n",
    "                 color='white' if cm[i, j] > thresh else 'black')\n",
    "    \n",
    "    plt.ylabel('True label')\n",
    "    plt.xlabel('Predicted label')\n",
    "    # plt.tight_layout()\n",
    "    \n",
    "    plt.show()\n",
    "    \n",
    "    print(\"-----------------------------------------------------\")\n",
    "    print('Classification report')\n",
    "    print(classification_report(y_true,y_pred))\n",
    "    \n",
    "    print(\"-----------------------------------------------------\")\n",
    "    acc= accuracy_score(y_true,y_pred)\n",
    "    print(\"Accuracy of the model: \", acc)"
   ]
  },
  {
   "cell_type": "code",
   "execution_count": 199,
   "metadata": {},
   "outputs": [
    {
     "name": "stdout",
     "output_type": "stream",
     "text": [
      "Confusion Matrix, Without Normalisation\n"
     ]
    },
    {
     "data": {
      "image/png": "[encoded data removed]",
      "text/plain": [
       "<Figure size 432x288 with 2 Axes>"
      ]
     },
     "metadata": {},
     "output_type": "display_data"
    },
    {
     "name": "stdout",
     "output_type": "stream",
     "text": [
      "-----------------------------------------------------\n",
      "Classification report\n",
      "              precision    recall  f1-score   support\n",
      "\n",
      "           0       0.86      0.85      0.86      4993\n",
      "           1       0.85      0.86      0.86      5007\n",
      "\n",
      "    accuracy                           0.86     10000\n",
      "   macro avg       0.86      0.86      0.86     10000\n",
      "weighted avg       0.86      0.86      0.86     10000\n",
      "\n",
      "-----------------------------------------------------\n",
      "Accuracy of the model:  0.8587\n"
     ]
    }
   ],
   "source": [
    "plot_confusion_metrix(df_test[\"label\"], df_test[\"pred\"],classes=[\"negative: 0\",\"positive: 1\"])"
   ]
  },
  {
   "cell_type": "markdown",
   "metadata": {},
   "source": [
    "### 13. final submission"
   ]
  },
  {
   "cell_type": "code",
   "execution_count": 200,
   "metadata": {},
   "outputs": [],
   "source": [
    "def label(a):\n",
    "    if a==0:\n",
    "        return \"Negative\"\n",
    "    elif a==1:\n",
    "        return \"Positive\""
   ]
  },
  {
   "cell_type": "code",
   "execution_count": 201,
   "metadata": {},
   "outputs": [],
   "source": [
    "df_test[\"pred\"] = df_test[\"pred\"].apply(lambda a : label(a))\n",
    "df_test[\"label\"] = df_test[\"label\"].apply(lambda a : label(a))"
   ]
  },
  {
   "cell_type": "code",
   "execution_count": 202,
   "metadata": {},
   "outputs": [
    {
     "data": {
      "text/html": [
       "<div>\n",
       "<style scoped>\n",
       "    .dataframe tbody tr th:only-of-type {\n",
       "        vertical-align: middle;\n",
       "    }\n",
       "\n",
       "    .dataframe tbody tr th {\n",
       "        vertical-align: top;\n",
       "    }\n",
       "\n",
       "    .dataframe thead th {\n",
       "        text-align: right;\n",
       "    }\n",
       "</style>\n",
       "<table border=\"1\" class=\"dataframe\">\n",
       "  <thead>\n",
       "    <tr style=\"text-align: right;\">\n",
       "      <th></th>\n",
       "      <th>clean_review</th>\n",
       "      <th>label</th>\n",
       "      <th>pred</th>\n",
       "    </tr>\n",
       "  </thead>\n",
       "  <tbody>\n",
       "    <tr>\n",
       "      <th>0</th>\n",
       "      <td>first off i want to say that i lean liberal on...</td>\n",
       "      <td>Negative</td>\n",
       "      <td>Negative</td>\n",
       "    </tr>\n",
       "    <tr>\n",
       "      <th>1</th>\n",
       "      <td>i was excited to see a sitcom that would hopef...</td>\n",
       "      <td>Negative</td>\n",
       "      <td>Negative</td>\n",
       "    </tr>\n",
       "    <tr>\n",
       "      <th>2</th>\n",
       "      <td>when you look at the cover and read stuff abou...</td>\n",
       "      <td>Negative</td>\n",
       "      <td>Positive</td>\n",
       "    </tr>\n",
       "    <tr>\n",
       "      <th>3</th>\n",
       "      <td>like many others i counted on the appearance o...</td>\n",
       "      <td>Negative</td>\n",
       "      <td>Negative</td>\n",
       "    </tr>\n",
       "    <tr>\n",
       "      <th>4</th>\n",
       "      <td>this movie was on t v the other day and i didn...</td>\n",
       "      <td>Negative</td>\n",
       "      <td>Negative</td>\n",
       "    </tr>\n",
       "  </tbody>\n",
       "</table>\n",
       "</div>"
      ],
      "text/plain": [
       "                                        clean_review     label      pred\n",
       "0  first off i want to say that i lean liberal on...  Negative  Negative\n",
       "1  i was excited to see a sitcom that would hopef...  Negative  Negative\n",
       "2  when you look at the cover and read stuff abou...  Negative  Positive\n",
       "3  like many others i counted on the appearance o...  Negative  Negative\n",
       "4  this movie was on t v the other day and i didn...  Negative  Negative"
      ]
     },
     "execution_count": 202,
     "metadata": {},
     "output_type": "execute_result"
    }
   ],
   "source": [
    "df_test.head()"
   ]
  },
  {
   "cell_type": "markdown",
   "metadata": {},
   "source": [
    "### 14. Future scope"
   ]
  },
  {
   "cell_type": "raw",
   "metadata": {},
   "source": [
    "1. parameter tunning\n",
    "2. use lstm layer insted of rnn\n",
    "3. stack two or more lstm layers\n",
    "4. add dropout\n",
    "5. change learning rate and epochs\n",
    "6. deploy the model\n",
    "\n",
    "#use simple lstm\n",
    "\n",
    "model = tf.keras.Sequential([ \n",
    "    encoder, \n",
    "    tf.keras.layers.Embedding(input_dim=len(encoder.get_vocabulary()), output_dim=64, mask_zero=True), # word2vec \n",
    "    tf.keras.layers.LSTM(64)\n",
    "    tf.keras.layers.Dense(64, activation=\"relu\"), \n",
    "    tf.keras.layers.Dense(1) # tf.keras.layers.Dense(3, activation=\"softmax\") \n",
    "    ])"
   ]
  },
  {
   "cell_type": "raw",
   "metadata": {},
   "source": [
    "#  stack two or more lstm layers\n",
    "model = tf.keras.Sequential([\n",
    "    encoder,\n",
    "    tf.keras.layers.Embedding(input_dim=len(encoder.get_vocabulary()), output_dim=64, mask_zero=True), # word2vec\n",
    "    tf.keras.layers.Bidirectional(tf.keras.layers.LSTM(64, return_sequence=True))\n",
    "    tf.keras.layers.Bidirectional(tf.keras.layers.LSTM(32))\n",
    "    tf.keras.layers.Dense(64, activation=\"relu\"),\n",
    "    tf.keras.layers.Dropout(0.4)\n",
    "    tf.keras.layers.Dense(1) # tf.keras.layers.Dense(3, activation=\"softmax\")\n",
    "])"
   ]
  },
  {
   "cell_type": "markdown",
   "metadata": {},
   "source": [
    "return_sequence : - false: it returns only the last output for each input sequence (a 2D tensor of shape (batch_size, output_features)). this is the default used in previous model - true: the full sequences of successive outputs for each timestep is returned (a 3D tensor of shape(batch_size, timesteps, output_features))\n",
    "\n",
    "the intresting thing about using an rnn with return sequences=true is that the output still has 3axes like the input so it can be passed to another rnn layer like this."
   ]
  },
  {
   "cell_type": "code",
   "execution_count": null,
   "metadata": {},
   "outputs": [],
   "source": []
  }
 ],
 "metadata": {
  "kernelspec": {
   "display_name": "Python (rnn_env)",
   "language": "python",
   "name": "rnn_env"
  },
  "language_info": {
   "codemirror_mode": {
    "name": "ipython",
    "version": 3
   },
   "file_extension": ".py",
   "mimetype": "text/x-python",
   "name": "python",
   "nbconvert_exporter": "python",
   "pygments_lexer": "ipython3",
   "version": "3.7.11"
  }
 },
 "nbformat": 4,
 "nbformat_minor": 4
}
